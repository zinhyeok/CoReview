{
 "cells": [
  {
   "cell_type": "code",
   "execution_count": null,
   "metadata": {},
   "outputs": [],
   "source": [
    "import pandas as pd\n",
    "import re\n",
    "import sys\n",
    "import os\n",
    "import re"
   ]
  },
  {
   "cell_type": "code",
   "execution_count": null,
   "metadata": {},
   "outputs": [
    {
     "data": {
      "text/html": [
       "<div>\n",
       "<style scoped>\n",
       "    .dataframe tbody tr th:only-of-type {\n",
       "        vertical-align: middle;\n",
       "    }\n",
       "\n",
       "    .dataframe tbody tr th {\n",
       "        vertical-align: top;\n",
       "    }\n",
       "\n",
       "    .dataframe thead th {\n",
       "        text-align: right;\n",
       "    }\n",
       "</style>\n",
       "<table border=\"1\" class=\"dataframe\">\n",
       "  <thead>\n",
       "    <tr style=\"text-align: right;\">\n",
       "      <th></th>\n",
       "      <th>이름</th>\n",
       "      <th>작성일자</th>\n",
       "      <th>평점</th>\n",
       "      <th>리뷰 내용</th>\n",
       "      <th>만족도</th>\n",
       "    </tr>\n",
       "  </thead>\n",
       "  <tbody>\n",
       "    <tr>\n",
       "      <th>0</th>\n",
       "      <td>솔직한깡지</td>\n",
       "      <td>2024.11.16</td>\n",
       "      <td>5</td>\n",
       "      <td>지난번 아이 생일때 선생님들 드리려고 샀다가몇개 먹어보고 맛있어서 재구매했어요 장바...</td>\n",
       "      <td>맛있어요</td>\n",
       "    </tr>\n",
       "    <tr>\n",
       "      <th>1</th>\n",
       "      <td>김오성</td>\n",
       "      <td>2024.11.11</td>\n",
       "      <td>5</td>\n",
       "      <td>우주오란다 플래인 강정 주문햇습니다 이거 반틈은 내가 먹고 반틈은 울아부지 드릴껍니...</td>\n",
       "      <td>맛있어요</td>\n",
       "    </tr>\n",
       "    <tr>\n",
       "      <th>2</th>\n",
       "      <td>김오성</td>\n",
       "      <td>2024.09.26</td>\n",
       "      <td>5</td>\n",
       "      <td>ㅈㅣ는 84세이신 울아부지랑 둘이서 살고 있습니다 울아부지 옛날에는 장승같이 커다란...</td>\n",
       "      <td>맛있어요</td>\n",
       "    </tr>\n",
       "    <tr>\n",
       "      <th>3</th>\n",
       "      <td>이*진</td>\n",
       "      <td>2024.09.22</td>\n",
       "      <td>4</td>\n",
       "      <td>《 우주오란다 》  * 용량 : 30g × 12개  * 소비기한 :  2025.04...</td>\n",
       "      <td>맛있어요</td>\n",
       "    </tr>\n",
       "    <tr>\n",
       "      <th>4</th>\n",
       "      <td>36참나리</td>\n",
       "      <td>2024.09.22</td>\n",
       "      <td>5</td>\n",
       "      <td>클래식한 간식 중 최고봉, 오란다.달달한 간식이 생각나 주문했다.옛날 문방구에서 사...</td>\n",
       "      <td>맛있어요</td>\n",
       "    </tr>\n",
       "  </tbody>\n",
       "</table>\n",
       "</div>"
      ],
      "text/plain": [
       "      이름        작성일자  평점                                              리뷰 내용  \\\n",
       "0  솔직한깡지  2024.11.16   5  지난번 아이 생일때 선생님들 드리려고 샀다가몇개 먹어보고 맛있어서 재구매했어요 장바...   \n",
       "1    김오성  2024.11.11   5  우주오란다 플래인 강정 주문햇습니다 이거 반틈은 내가 먹고 반틈은 울아부지 드릴껍니...   \n",
       "2    김오성  2024.09.26   5  ㅈㅣ는 84세이신 울아부지랑 둘이서 살고 있습니다 울아부지 옛날에는 장승같이 커다란...   \n",
       "3    이*진  2024.09.22   4  《 우주오란다 》  * 용량 : 30g × 12개  * 소비기한 :  2025.04...   \n",
       "4  36참나리  2024.09.22   5  클래식한 간식 중 최고봉, 오란다.달달한 간식이 생각나 주문했다.옛날 문방구에서 사...   \n",
       "\n",
       "    만족도  \n",
       "0  맛있어요  \n",
       "1  맛있어요  \n",
       "2  맛있어요  \n",
       "3  맛있어요  \n",
       "4  맛있어요  "
      ]
     },
     "metadata": {},
     "output_type": "display_data"
    }
   ],
   "source": [
    "data_oranda= pd.read_csv(\"../data/oranda_review.csv\")\n",
    "data_oranda.head()"
   ]
  },
  {
   "cell_type": "code",
   "execution_count": null,
   "metadata": {},
   "outputs": [
    {
     "data": {
      "text/plain": [
       "(1500, 5)"
      ]
     },
     "metadata": {},
     "output_type": "display_data"
    }
   ],
   "source": [
    "data_oranda.shape"
   ]
  },
  {
   "cell_type": "markdown",
   "metadata": {},
   "source": [
    "# 데이터 필터링"
   ]
  },
  {
   "cell_type": "markdown",
   "metadata": {},
   "source": [
    "등록된 리뷰내용이 있는 것만 가져오기"
   ]
  },
  {
   "cell_type": "code",
   "execution_count": null,
   "metadata": {},
   "outputs": [
    {
     "data": {
      "text/html": [
       "<div>\n",
       "<style scoped>\n",
       "    .dataframe tbody tr th:only-of-type {\n",
       "        vertical-align: middle;\n",
       "    }\n",
       "\n",
       "    .dataframe tbody tr th {\n",
       "        vertical-align: top;\n",
       "    }\n",
       "\n",
       "    .dataframe thead th {\n",
       "        text-align: right;\n",
       "    }\n",
       "</style>\n",
       "<table border=\"1\" class=\"dataframe\">\n",
       "  <thead>\n",
       "    <tr style=\"text-align: right;\">\n",
       "      <th></th>\n",
       "      <th>이름</th>\n",
       "      <th>작성일자</th>\n",
       "      <th>평점</th>\n",
       "      <th>리뷰 내용</th>\n",
       "      <th>만족도</th>\n",
       "    </tr>\n",
       "  </thead>\n",
       "  <tbody>\n",
       "    <tr>\n",
       "      <th>0</th>\n",
       "      <td>솔직한깡지</td>\n",
       "      <td>2024.11.16</td>\n",
       "      <td>5</td>\n",
       "      <td>지난번 아이 생일때 선생님들 드리려고 샀다가몇개 먹어보고 맛있어서 재구매했어요 장바...</td>\n",
       "      <td>맛있어요</td>\n",
       "    </tr>\n",
       "    <tr>\n",
       "      <th>1</th>\n",
       "      <td>김오성</td>\n",
       "      <td>2024.11.11</td>\n",
       "      <td>5</td>\n",
       "      <td>우주오란다 플래인 강정 주문햇습니다 이거 반틈은 내가 먹고 반틈은 울아부지 드릴껍니...</td>\n",
       "      <td>맛있어요</td>\n",
       "    </tr>\n",
       "    <tr>\n",
       "      <th>2</th>\n",
       "      <td>김오성</td>\n",
       "      <td>2024.09.26</td>\n",
       "      <td>5</td>\n",
       "      <td>ㅈㅣ는 84세이신 울아부지랑 둘이서 살고 있습니다 울아부지 옛날에는 장승같이 커다란...</td>\n",
       "      <td>맛있어요</td>\n",
       "    </tr>\n",
       "    <tr>\n",
       "      <th>3</th>\n",
       "      <td>이*진</td>\n",
       "      <td>2024.09.22</td>\n",
       "      <td>4</td>\n",
       "      <td>《 우주오란다 》  * 용량 : 30g × 12개  * 소비기한 :  2025.04...</td>\n",
       "      <td>맛있어요</td>\n",
       "    </tr>\n",
       "    <tr>\n",
       "      <th>4</th>\n",
       "      <td>36참나리</td>\n",
       "      <td>2024.09.22</td>\n",
       "      <td>5</td>\n",
       "      <td>클래식한 간식 중 최고봉, 오란다.달달한 간식이 생각나 주문했다.옛날 문방구에서 사...</td>\n",
       "      <td>맛있어요</td>\n",
       "    </tr>\n",
       "    <tr>\n",
       "      <th>...</th>\n",
       "      <td>...</td>\n",
       "      <td>...</td>\n",
       "      <td>...</td>\n",
       "      <td>...</td>\n",
       "      <td>...</td>\n",
       "    </tr>\n",
       "    <tr>\n",
       "      <th>837</th>\n",
       "      <td>정*운</td>\n",
       "      <td>2024.07.27</td>\n",
       "      <td>5</td>\n",
       "      <td>배송속도도 제품품질도 맛도 좋아요</td>\n",
       "      <td>맛있어요</td>\n",
       "    </tr>\n",
       "    <tr>\n",
       "      <th>840</th>\n",
       "      <td>박아름</td>\n",
       "      <td>2023.12.01</td>\n",
       "      <td>5</td>\n",
       "      <td>빠른배송에 너무 맛있어요!</td>\n",
       "      <td>예상보다 맛있어요</td>\n",
       "    </tr>\n",
       "    <tr>\n",
       "      <th>841</th>\n",
       "      <td>변*곤</td>\n",
       "      <td>2024.05.27</td>\n",
       "      <td>5</td>\n",
       "      <td>배송도 빠르고 파손없이 잘 수령하였습니다.</td>\n",
       "      <td>맛있어요</td>\n",
       "    </tr>\n",
       "    <tr>\n",
       "      <th>842</th>\n",
       "      <td>김*화</td>\n",
       "      <td>2023.12.07</td>\n",
       "      <td>5</td>\n",
       "      <td>배송도 빠르고~너무 맛잇어요~~~</td>\n",
       "      <td>예상보다 맛있어요</td>\n",
       "    </tr>\n",
       "    <tr>\n",
       "      <th>844</th>\n",
       "      <td>정*완</td>\n",
       "      <td>2024.09.12</td>\n",
       "      <td>1</td>\n",
       "      <td>세 박스나 샀는데 ㅋㅋㅋㅋㅋ 박스가 너덜너덜해저서 ㅋㅋㅋㅋㅋㅋㅋㅋㅋㅋㅋㅋ 하나도 못...</td>\n",
       "      <td>맛 평가 없음</td>\n",
       "    </tr>\n",
       "  </tbody>\n",
       "</table>\n",
       "<p>810 rows × 5 columns</p>\n",
       "</div>"
      ],
      "text/plain": [
       "        이름        작성일자  평점                                              리뷰 내용  \\\n",
       "0    솔직한깡지  2024.11.16   5  지난번 아이 생일때 선생님들 드리려고 샀다가몇개 먹어보고 맛있어서 재구매했어요 장바...   \n",
       "1      김오성  2024.11.11   5  우주오란다 플래인 강정 주문햇습니다 이거 반틈은 내가 먹고 반틈은 울아부지 드릴껍니...   \n",
       "2      김오성  2024.09.26   5  ㅈㅣ는 84세이신 울아부지랑 둘이서 살고 있습니다 울아부지 옛날에는 장승같이 커다란...   \n",
       "3      이*진  2024.09.22   4  《 우주오란다 》  * 용량 : 30g × 12개  * 소비기한 :  2025.04...   \n",
       "4    36참나리  2024.09.22   5  클래식한 간식 중 최고봉, 오란다.달달한 간식이 생각나 주문했다.옛날 문방구에서 사...   \n",
       "..     ...         ...  ..                                                ...   \n",
       "837    정*운  2024.07.27   5                                 배송속도도 제품품질도 맛도 좋아요   \n",
       "840    박아름  2023.12.01   5                                     빠른배송에 너무 맛있어요!   \n",
       "841    변*곤  2024.05.27   5                            배송도 빠르고 파손없이 잘 수령하였습니다.   \n",
       "842    김*화  2023.12.07   5                                 배송도 빠르고~너무 맛잇어요~~~   \n",
       "844    정*완  2024.09.12   1  세 박스나 샀는데 ㅋㅋㅋㅋㅋ 박스가 너덜너덜해저서 ㅋㅋㅋㅋㅋㅋㅋㅋㅋㅋㅋㅋ 하나도 못...   \n",
       "\n",
       "           만족도  \n",
       "0         맛있어요  \n",
       "1         맛있어요  \n",
       "2         맛있어요  \n",
       "3         맛있어요  \n",
       "4         맛있어요  \n",
       "..         ...  \n",
       "837       맛있어요  \n",
       "840  예상보다 맛있어요  \n",
       "841       맛있어요  \n",
       "842  예상보다 맛있어요  \n",
       "844    맛 평가 없음  \n",
       "\n",
       "[810 rows x 5 columns]"
      ]
     },
     "metadata": {},
     "output_type": "display_data"
    }
   ],
   "source": [
    "\n",
    "filtered_data_oranda = data_oranda[data_oranda[\"리뷰 내용\"] != \"등록된 리뷰내용이 없습니다\"]\n",
    "filtered_data_oranda\n"
   ]
  },
  {
   "cell_type": "code",
   "execution_count": null,
   "metadata": {},
   "outputs": [],
   "source": [
    "df = filtered_data_oranda"
   ]
  },
  {
   "cell_type": "markdown",
   "metadata": {},
   "source": [
    "불용어 제거 & 특수문자 제거"
   ]
  },
  {
   "cell_type": "code",
   "execution_count": null,
   "metadata": {},
   "outputs": [],
   "source": [
    "from konlpy.tag import Kkma #형태소 분석기\n",
    "from konlpy.tag import Okt\n",
    "\n",
    "kkma = Kkma()\n",
    "okt = Okt()"
   ]
  },
  {
   "cell_type": "code",
   "execution_count": null,
   "metadata": {},
   "outputs": [],
   "source": [
    "# sys.path.append(os.path.dirname('PyKoSpacing/'))\n",
    "# from pykospacing import spacing #한글 문장에서 띄어쓰기 보정 \n",
    "# spacing = Spacing()  # Spacing 객체 초기화\n",
    "# pip install git+https://github.com/haven-jeon/PyKoSpacing.git\n",
    "\n",
    "def preprocessing(review, filter=None):\n",
    "    total_review = ''\n",
    "    #인풋리뷰\n",
    "    for idx in range(len(review)):\n",
    "        r = review[idx]\n",
    "        #하나의 리뷰에서 문장 단위로 자르기\n",
    "        #불필요한 정보제거 name의 각 단어를 review에서 제거 \n",
    "        # 이름이 주어졌을 경우에만 이름 정보 제거\n",
    "        if filter:\n",
    "            filter_parts = filter.split(' ')\n",
    "            for part in filter_parts:\n",
    "                r = re.sub(part, '', r)\n",
    "        sentence = r\n",
    "        #특수문자, 영어 알파벳, 초성/중성/종성(예: \"ㄱ\", \"ㅏ\" 등)을 제거.\n",
    "        sentence = re.sub('\\n','',sentence)\n",
    "        sentence = re.sub('\\u200b','',sentence)\n",
    "        sentence = re.sub('\\xa0','',sentence)\n",
    "        sentence = re.sub('([a-zA-Z])','',sentence)\n",
    "        sentence = re.sub('[ㄱ-ㅎㅏ-ㅣ]+','',sentence)\n",
    "        sentence = re.sub('[-=+,#/\\?:^$.@*\\\"※~&%ㆍ!』\\\\‘|\\(\\)\\[\\]\\<\\>`\\'…》]','',sentence)\n",
    "        #전처리 후 문장이 비어있으면 다음 리뷰로 넘어감 \n",
    "        if len(sentence) == 0:\n",
    "            continue\n",
    "        #동사를 기본형으로 변환\n",
    "        sentence = okt.pos(sentence, stem = True)\n",
    "        word = []\n",
    "        #명사가 아닌 경우 건너띔(list에 추가 안함함)\n",
    "        for i in sentence:\n",
    "            if not i[1] == 'Noun':\n",
    "                continue\n",
    "            if len(i[0]) == 1:\n",
    "                continue\n",
    "            word.append(i[0])\n",
    "        #단어들을 공백으로 연결하여 하나의 문장으로 변환\n",
    "        #문장 끝에 마침표 추가\n",
    "        #전체 리뷰에 추가\n",
    "        word = ' '.join(word)\n",
    "        word += '. '\n",
    "        total_review += word\n",
    "    return total_review"
   ]
  },
  {
   "cell_type": "code",
   "execution_count": null,
   "metadata": {},
   "outputs": [
    {
     "name": "stderr",
     "output_type": "stream",
     "text": [
      "C:\\Users\\zin\\AppData\\Local\\Temp\\ipykernel_13732\\447569505.py:2: SettingWithCopyWarning: \n",
      "A value is trying to be set on a copy of a slice from a DataFrame.\n",
      "Try using .loc[row_indexer,col_indexer] = value instead\n",
      "\n",
      "See the caveats in the documentation: https://pandas.pydata.org/pandas-docs/stable/user_guide/indexing.html#returning-a-view-versus-a-copy\n",
      "  df['전처리된_리뷰'] = df.apply(lambda row: preprocessing([row['리뷰 내용']]), axis=1)\n"
     ]
    }
   ],
   "source": [
    "# 전처리 수행 #21초 정도 걸리는듯듯\n",
    "df['전처리된_리뷰'] = df.apply(lambda row: preprocessing([row['리뷰 내용']]), axis=1)"
   ]
  },
  {
   "cell_type": "code",
   "execution_count": null,
   "metadata": {},
   "outputs": [
    {
     "data": {
      "text/html": [
       "<div>\n",
       "<style scoped>\n",
       "    .dataframe tbody tr th:only-of-type {\n",
       "        vertical-align: middle;\n",
       "    }\n",
       "\n",
       "    .dataframe tbody tr th {\n",
       "        vertical-align: top;\n",
       "    }\n",
       "\n",
       "    .dataframe thead th {\n",
       "        text-align: right;\n",
       "    }\n",
       "</style>\n",
       "<table border=\"1\" class=\"dataframe\">\n",
       "  <thead>\n",
       "    <tr style=\"text-align: right;\">\n",
       "      <th></th>\n",
       "      <th>이름</th>\n",
       "      <th>작성일자</th>\n",
       "      <th>평점</th>\n",
       "      <th>리뷰 내용</th>\n",
       "      <th>만족도</th>\n",
       "      <th>전처리된_리뷰</th>\n",
       "    </tr>\n",
       "  </thead>\n",
       "  <tbody>\n",
       "    <tr>\n",
       "      <th>0</th>\n",
       "      <td>솔직한깡지</td>\n",
       "      <td>2024.11.16</td>\n",
       "      <td>5</td>\n",
       "      <td>지난번 아이 생일때 선생님들 드리려고 샀다가몇개 먹어보고 맛있어서 재구매했어요 장바...</td>\n",
       "      <td>맛있어요</td>\n",
       "      <td>지난번 아이 생일 선생님 몇개 보고 장바구니 종종 할인 행사 할인 전혀 장바구니 할...</td>\n",
       "    </tr>\n",
       "    <tr>\n",
       "      <th>1</th>\n",
       "      <td>김오성</td>\n",
       "      <td>2024.11.11</td>\n",
       "      <td>5</td>\n",
       "      <td>우주오란다 플래인 강정 주문햇습니다 이거 반틈은 내가 먹고 반틈은 울아부지 드릴껍니...</td>\n",
       "      <td>맛있어요</td>\n",
       "      <td>우주 래인 강정 햇습니 아부지 드릴 아부지 우주 래인 강정 옛날 이제 나이 무가 요...</td>\n",
       "    </tr>\n",
       "    <tr>\n",
       "      <th>2</th>\n",
       "      <td>김오성</td>\n",
       "      <td>2024.09.26</td>\n",
       "      <td>5</td>\n",
       "      <td>ㅈㅣ는 84세이신 울아부지랑 둘이서 살고 있습니다 울아부지 옛날에는 장승같이 커다란...</td>\n",
       "      <td>맛있어요</td>\n",
       "      <td>아부지 둘이서 아부지 옛날 장승 모습 는데 나이 가부장 잘못 뚜디리 기억 아부지 아...</td>\n",
       "    </tr>\n",
       "    <tr>\n",
       "      <th>3</th>\n",
       "      <td>이*진</td>\n",
       "      <td>2024.09.22</td>\n",
       "      <td>4</td>\n",
       "      <td>《 우주오란다 》  * 용량 : 30g × 12개  * 소비기한 :  2025.04...</td>\n",
       "      <td>맛있어요</td>\n",
       "      <td>우주 용량 소비 기한 구매 이유 물엿 코팅 달달 식감 과자 특유 냄새 추억 우주 쿠...</td>\n",
       "    </tr>\n",
       "    <tr>\n",
       "      <th>4</th>\n",
       "      <td>36참나리</td>\n",
       "      <td>2024.09.22</td>\n",
       "      <td>5</td>\n",
       "      <td>클래식한 간식 중 최고봉, 오란다.달달한 간식이 생각나 주문했다.옛날 문방구에서 사...</td>\n",
       "      <td>맛있어요</td>\n",
       "      <td>클래식 간식 최고봉 달달 간식 주문 옛날 문방구 오란 입천장 이번 구매 수제 강정 ...</td>\n",
       "    </tr>\n",
       "  </tbody>\n",
       "</table>\n",
       "</div>"
      ],
      "text/plain": [
       "      이름        작성일자  평점                                              리뷰 내용  \\\n",
       "0  솔직한깡지  2024.11.16   5  지난번 아이 생일때 선생님들 드리려고 샀다가몇개 먹어보고 맛있어서 재구매했어요 장바...   \n",
       "1    김오성  2024.11.11   5  우주오란다 플래인 강정 주문햇습니다 이거 반틈은 내가 먹고 반틈은 울아부지 드릴껍니...   \n",
       "2    김오성  2024.09.26   5  ㅈㅣ는 84세이신 울아부지랑 둘이서 살고 있습니다 울아부지 옛날에는 장승같이 커다란...   \n",
       "3    이*진  2024.09.22   4  《 우주오란다 》  * 용량 : 30g × 12개  * 소비기한 :  2025.04...   \n",
       "4  36참나리  2024.09.22   5  클래식한 간식 중 최고봉, 오란다.달달한 간식이 생각나 주문했다.옛날 문방구에서 사...   \n",
       "\n",
       "    만족도                                            전처리된_리뷰  \n",
       "0  맛있어요  지난번 아이 생일 선생님 몇개 보고 장바구니 종종 할인 행사 할인 전혀 장바구니 할...  \n",
       "1  맛있어요  우주 래인 강정 햇습니 아부지 드릴 아부지 우주 래인 강정 옛날 이제 나이 무가 요...  \n",
       "2  맛있어요  아부지 둘이서 아부지 옛날 장승 모습 는데 나이 가부장 잘못 뚜디리 기억 아부지 아...  \n",
       "3  맛있어요  우주 용량 소비 기한 구매 이유 물엿 코팅 달달 식감 과자 특유 냄새 추억 우주 쿠...  \n",
       "4  맛있어요  클래식 간식 최고봉 달달 간식 주문 옛날 문방구 오란 입천장 이번 구매 수제 강정 ...  "
      ]
     },
     "metadata": {},
     "output_type": "display_data"
    }
   ],
   "source": [
    "df.head()"
   ]
  },
  {
   "cell_type": "markdown",
   "metadata": {},
   "source": [
    "특정 단어 제거(이벤트, 체험단 등)"
   ]
  },
  {
   "cell_type": "code",
   "execution_count": null,
   "metadata": {},
   "outputs": [],
   "source": [
    "# def remove_rows_with_keywords(dataframe, column_name, keywords):\n",
    "#     \"\"\"\n",
    "#     특정 단어가 포함된 문장을 제거하는 함수.\n",
    "\n",
    "#     Args:\n",
    "#         dataframe (pd.DataFrame): 데이터프레임\n",
    "#         column_name (str): 처리할 열 이름\n",
    "#         keywords (list): 제거할 단어 리스트\n",
    "\n",
    "#     Returns:\n",
    "#         pd.DataFrame: 특정 단어가 포함된 행이 제거된 데이터프레임\n",
    "#     \"\"\"\n",
    "#     # 특정 단어가 포함된 행 제거\n",
    "#     pattern = \"|\".join(keywords)  # 키워드 리스트를 정규식 패턴으로 변환\n",
    "#     filtered_df = dataframe[~dataframe[column_name].str.contains(pattern, na=False)]\n",
    "#     return filtered_df\n",
    "\n",
    "# # 사용 예시\n",
    "# keywords = [\"이벤트\", \"체험단\"]\n",
    "# filtered_data_oranda = remove_rows_with_keywords(data_oranda, \"리뷰 내용\", keywords)\n",
    "\n",
    "# # 결과 확인\n",
    "# print(filtered_data_oranda)\n",
    "# len(filtered_data_oranda)"
   ]
  },
  {
   "cell_type": "markdown",
   "metadata": {},
   "source": [
    "# soynlp"
   ]
  },
  {
   "cell_type": "code",
   "execution_count": 1,
   "metadata": {},
   "outputs": [
    {
     "name": "stderr",
     "output_type": "stream",
     "text": [
      "/opt/homebrew/Caskroom/miniconda/base/envs/coreview/lib/python3.10/site-packages/tqdm/auto.py:21: TqdmWarning: IProgress not found. Please update jupyter and ipywidgets. See https://ipywidgets.readthedocs.io/en/stable/user_install.html\n",
      "  from .autonotebook import tqdm as notebook_tqdm\n"
     ]
    }
   ],
   "source": [
    "import pandas as pd\n",
    "import re\n",
    "from soynlp.noun import LRNounExtractor_v2\n",
    "from sklearn.feature_extraction.text import TfidfVectorizer\n",
    "from transformers import pipeline\n"
   ]
  },
  {
   "cell_type": "code",
   "execution_count": 5,
   "metadata": {},
   "outputs": [
    {
     "data": {
      "text/html": [
       "<div>\n",
       "<style scoped>\n",
       "    .dataframe tbody tr th:only-of-type {\n",
       "        vertical-align: middle;\n",
       "    }\n",
       "\n",
       "    .dataframe tbody tr th {\n",
       "        vertical-align: top;\n",
       "    }\n",
       "\n",
       "    .dataframe thead th {\n",
       "        text-align: right;\n",
       "    }\n",
       "</style>\n",
       "<table border=\"1\" class=\"dataframe\">\n",
       "  <thead>\n",
       "    <tr style=\"text-align: right;\">\n",
       "      <th></th>\n",
       "      <th>이름</th>\n",
       "      <th>작성일자</th>\n",
       "      <th>평점</th>\n",
       "      <th>리뷰 내용</th>\n",
       "      <th>만족도</th>\n",
       "    </tr>\n",
       "  </thead>\n",
       "  <tbody>\n",
       "    <tr>\n",
       "      <th>0</th>\n",
       "      <td>솔직한깡지</td>\n",
       "      <td>2024.11.16</td>\n",
       "      <td>5</td>\n",
       "      <td>지난번 아이 생일때 선생님들 드리려고 샀다가몇개 먹어보고 맛있어서 재구매했어요 장바...</td>\n",
       "      <td>맛있어요</td>\n",
       "    </tr>\n",
       "    <tr>\n",
       "      <th>1</th>\n",
       "      <td>김오성</td>\n",
       "      <td>2024.11.11</td>\n",
       "      <td>5</td>\n",
       "      <td>우주오란다 플래인 강정 주문햇습니다 이거 반틈은 내가 먹고 반틈은 울아부지 드릴껍니...</td>\n",
       "      <td>맛있어요</td>\n",
       "    </tr>\n",
       "    <tr>\n",
       "      <th>2</th>\n",
       "      <td>김오성</td>\n",
       "      <td>2024.09.26</td>\n",
       "      <td>5</td>\n",
       "      <td>ㅈㅣ는 84세이신 울아부지랑 둘이서 살고 있습니다 울아부지 옛날에는 장승같이 커다란...</td>\n",
       "      <td>맛있어요</td>\n",
       "    </tr>\n",
       "    <tr>\n",
       "      <th>3</th>\n",
       "      <td>이*진</td>\n",
       "      <td>2024.09.22</td>\n",
       "      <td>4</td>\n",
       "      <td>《 우주오란다 》  * 용량 : 30g × 12개  * 소비기한 :  2025.04...</td>\n",
       "      <td>맛있어요</td>\n",
       "    </tr>\n",
       "    <tr>\n",
       "      <th>4</th>\n",
       "      <td>36참나리</td>\n",
       "      <td>2024.09.22</td>\n",
       "      <td>5</td>\n",
       "      <td>클래식한 간식 중 최고봉, 오란다.달달한 간식이 생각나 주문했다.옛날 문방구에서 사...</td>\n",
       "      <td>맛있어요</td>\n",
       "    </tr>\n",
       "  </tbody>\n",
       "</table>\n",
       "</div>"
      ],
      "text/plain": [
       "      이름        작성일자  평점                                              리뷰 내용  \\\n",
       "0  솔직한깡지  2024.11.16   5  지난번 아이 생일때 선생님들 드리려고 샀다가몇개 먹어보고 맛있어서 재구매했어요 장바...   \n",
       "1    김오성  2024.11.11   5  우주오란다 플래인 강정 주문햇습니다 이거 반틈은 내가 먹고 반틈은 울아부지 드릴껍니...   \n",
       "2    김오성  2024.09.26   5  ㅈㅣ는 84세이신 울아부지랑 둘이서 살고 있습니다 울아부지 옛날에는 장승같이 커다란...   \n",
       "3    이*진  2024.09.22   4  《 우주오란다 》  * 용량 : 30g × 12개  * 소비기한 :  2025.04...   \n",
       "4  36참나리  2024.09.22   5  클래식한 간식 중 최고봉, 오란다.달달한 간식이 생각나 주문했다.옛날 문방구에서 사...   \n",
       "\n",
       "    만족도  \n",
       "0  맛있어요  \n",
       "1  맛있어요  \n",
       "2  맛있어요  \n",
       "3  맛있어요  \n",
       "4  맛있어요  "
      ]
     },
     "execution_count": 5,
     "metadata": {},
     "output_type": "execute_result"
    }
   ],
   "source": [
    "file_path = '../data/oranda_review.csv'\n",
    "df = pd.read_csv(file_path)\n",
    "df.head()"
   ]
  },
  {
   "cell_type": "code",
   "execution_count": 9,
   "metadata": {},
   "outputs": [
    {
     "name": "stdout",
     "output_type": "stream",
     "text": [
      "남은 리뷰 개수: 810\n"
     ]
    }
   ],
   "source": [
    "def preprocess_text(text):\n",
    "    # 특수문자, 숫자, 불필요한 공백 제거\n",
    "    text = re.sub(r'\\s+', ' ', text)  # 다중 공백 -> 단일 공백\n",
    "    text = re.sub(r'[^\\w\\s]', '', text)  # 특수문자 제거\n",
    "    text = re.sub(r'\\d+', '', text)  # 숫자 제거\n",
    "    return text.strip()\n",
    "\n",
    "df = df[~df['리뷰 내용'].str.contains(\"등록된 리뷰내용이 없습니다\", na=False)]\n",
    "print(f\"남은 리뷰 개수: {len(df)}\")"
   ]
  },
  {
   "cell_type": "code",
   "execution_count": 10,
   "metadata": {},
   "outputs": [
    {
     "data": {
      "text/html": [
       "<div>\n",
       "<style scoped>\n",
       "    .dataframe tbody tr th:only-of-type {\n",
       "        vertical-align: middle;\n",
       "    }\n",
       "\n",
       "    .dataframe tbody tr th {\n",
       "        vertical-align: top;\n",
       "    }\n",
       "\n",
       "    .dataframe thead th {\n",
       "        text-align: right;\n",
       "    }\n",
       "</style>\n",
       "<table border=\"1\" class=\"dataframe\">\n",
       "  <thead>\n",
       "    <tr style=\"text-align: right;\">\n",
       "      <th></th>\n",
       "      <th>이름</th>\n",
       "      <th>작성일자</th>\n",
       "      <th>평점</th>\n",
       "      <th>리뷰 내용</th>\n",
       "      <th>만족도</th>\n",
       "      <th>preprocessed_review</th>\n",
       "    </tr>\n",
       "  </thead>\n",
       "  <tbody>\n",
       "    <tr>\n",
       "      <th>0</th>\n",
       "      <td>솔직한깡지</td>\n",
       "      <td>2024.11.16</td>\n",
       "      <td>5</td>\n",
       "      <td>지난번 아이 생일때 선생님들 드리려고 샀다가몇개 먹어보고 맛있어서 재구매했어요 장바...</td>\n",
       "      <td>맛있어요</td>\n",
       "      <td>지난번 아이 생일때 선생님들 드리려고 샀다가몇개 먹어보고 맛있어서 재구매했어요 장바...</td>\n",
       "    </tr>\n",
       "    <tr>\n",
       "      <th>1</th>\n",
       "      <td>김오성</td>\n",
       "      <td>2024.11.11</td>\n",
       "      <td>5</td>\n",
       "      <td>우주오란다 플래인 강정 주문햇습니다 이거 반틈은 내가 먹고 반틈은 울아부지 드릴껍니...</td>\n",
       "      <td>맛있어요</td>\n",
       "      <td>우주오란다 플래인 강정 주문햇습니다 이거 반틈은 내가 먹고 반틈은 울아부지 드릴껍니...</td>\n",
       "    </tr>\n",
       "    <tr>\n",
       "      <th>2</th>\n",
       "      <td>김오성</td>\n",
       "      <td>2024.09.26</td>\n",
       "      <td>5</td>\n",
       "      <td>ㅈㅣ는 84세이신 울아부지랑 둘이서 살고 있습니다 울아부지 옛날에는 장승같이 커다란...</td>\n",
       "      <td>맛있어요</td>\n",
       "      <td>ㅈㅣ는 세이신 울아부지랑 둘이서 살고 있습니다 울아부지 옛날에는 장승같이 커다란 모...</td>\n",
       "    </tr>\n",
       "    <tr>\n",
       "      <th>3</th>\n",
       "      <td>이*진</td>\n",
       "      <td>2024.09.22</td>\n",
       "      <td>4</td>\n",
       "      <td>《 우주오란다 》  * 용량 : 30g × 12개  * 소비기한 :  2025.04...</td>\n",
       "      <td>맛있어요</td>\n",
       "      <td>우주오란다   용량  g  개  소비기한   까지  구매 이유 어릴 때 맛나게 먹던...</td>\n",
       "    </tr>\n",
       "    <tr>\n",
       "      <th>4</th>\n",
       "      <td>36참나리</td>\n",
       "      <td>2024.09.22</td>\n",
       "      <td>5</td>\n",
       "      <td>클래식한 간식 중 최고봉, 오란다.달달한 간식이 생각나 주문했다.옛날 문방구에서 사...</td>\n",
       "      <td>맛있어요</td>\n",
       "      <td>클래식한 간식 중 최고봉 오란다달달한 간식이 생각나 주문했다옛날 문방구에서 사 먹던...</td>\n",
       "    </tr>\n",
       "  </tbody>\n",
       "</table>\n",
       "</div>"
      ],
      "text/plain": [
       "      이름        작성일자  평점                                              리뷰 내용  \\\n",
       "0  솔직한깡지  2024.11.16   5  지난번 아이 생일때 선생님들 드리려고 샀다가몇개 먹어보고 맛있어서 재구매했어요 장바...   \n",
       "1    김오성  2024.11.11   5  우주오란다 플래인 강정 주문햇습니다 이거 반틈은 내가 먹고 반틈은 울아부지 드릴껍니...   \n",
       "2    김오성  2024.09.26   5  ㅈㅣ는 84세이신 울아부지랑 둘이서 살고 있습니다 울아부지 옛날에는 장승같이 커다란...   \n",
       "3    이*진  2024.09.22   4  《 우주오란다 》  * 용량 : 30g × 12개  * 소비기한 :  2025.04...   \n",
       "4  36참나리  2024.09.22   5  클래식한 간식 중 최고봉, 오란다.달달한 간식이 생각나 주문했다.옛날 문방구에서 사...   \n",
       "\n",
       "    만족도                                preprocessed_review  \n",
       "0  맛있어요  지난번 아이 생일때 선생님들 드리려고 샀다가몇개 먹어보고 맛있어서 재구매했어요 장바...  \n",
       "1  맛있어요  우주오란다 플래인 강정 주문햇습니다 이거 반틈은 내가 먹고 반틈은 울아부지 드릴껍니...  \n",
       "2  맛있어요  ㅈㅣ는 세이신 울아부지랑 둘이서 살고 있습니다 울아부지 옛날에는 장승같이 커다란 모...  \n",
       "3  맛있어요  우주오란다   용량  g  개  소비기한   까지  구매 이유 어릴 때 맛나게 먹던...  \n",
       "4  맛있어요  클래식한 간식 중 최고봉 오란다달달한 간식이 생각나 주문했다옛날 문방구에서 사 먹던...  "
      ]
     },
     "execution_count": 10,
     "metadata": {},
     "output_type": "execute_result"
    }
   ],
   "source": [
    "df['preprocessed_review'] = df['리뷰 내용'].apply(preprocess_text)\n",
    "df.head()"
   ]
  },
  {
   "cell_type": "code",
   "execution_count": 11,
   "metadata": {},
   "outputs": [
    {
     "name": "stdout",
     "output_type": "stream",
     "text": [
      "Important Words: ['맛', '오란다', '딱딱', '말랑말랑', '좋아', '잘', '구매', '맛있어요', '또', '주문']\n"
     ]
    }
   ],
   "source": [
    "def extract_important_words(reviews, top_k=10):\n",
    "    noun_extractor = LRNounExtractor_v2(verbose=False)\n",
    "    combined_text = \" \".join(reviews)\n",
    "    nouns = noun_extractor.train_extract([combined_text])\n",
    "    sorted_nouns = sorted(nouns.items(), key=lambda x: x[1].frequency, reverse=True)\n",
    "    return [word for word, score in sorted_nouns[:top_k]]\n",
    "\n",
    "important_words = extract_important_words(df['preprocessed_review'])\n",
    "\n",
    "\n",
    "print(\"Important Words:\", important_words)\n"
   ]
  },
  {
   "cell_type": "markdown",
   "metadata": {},
   "source": [
    "### WordExtractor"
   ]
  },
  {
   "cell_type": "code",
   "execution_count": 25,
   "metadata": {},
   "outputs": [],
   "source": [
    "from soynlp.word import WordExtractor\n",
    "import pandas as pd\n",
    "\n",
    "def df_sumWordSentence_soynlp_WE(df, review_col, rate_col=None, stopwords=None, top_k=5, full_merge=False, rate_merge=False):\n",
    "    \"\"\"\n",
    "    데이터프레임에서 특정 열을 전처리하고 soynlp를 사용해 키워드 추출 결과를 저장.\n",
    "\n",
    "    Parameters:\n",
    "    - df: pd.DataFrame - 입력 데이터프레임\n",
    "    - review_col: str - 리뷰 내용을 포함하는 열 이름\n",
    "    - rate_col: str - 평점 열의 이름 (rate_merge=True인 경우 필요)\n",
    "    - stopwords: list[str] - 필터링할 단어 목록\n",
    "    - top_k: int - 추출할 상위 키워드 개수\n",
    "    - full_merge: bool - True일 경우 모든 리뷰를 합쳐서 처리\n",
    "    - rate_merge: bool - True일 경우 평점별로 리뷰를 합쳐서 처리\n",
    "\n",
    "    Returns:\n",
    "    - pd.DataFrame - 키워드 열이 추가된 데이터프레임\n",
    "    \"\"\"\n",
    "\n",
    "    def extract_keywords_soynlp(texts):\n",
    "        \"\"\"soynlp WordExtractor로 키워드 추출\"\"\"\n",
    "        combined_text = \" \".join(texts)\n",
    "\n",
    "        # 불용어 제거\n",
    "        if stopwords:\n",
    "            for word in stopwords:\n",
    "                combined_text = combined_text.replace(word, '')\n",
    "\n",
    "        # WordExtractor를 사용하여 키워드 추출\n",
    "        word_extractor = WordExtractor()\n",
    "        word_extractor.train([combined_text])\n",
    "        words = word_extractor.extract()\n",
    "\n",
    "        # 중요도 기준으로 상위 키워드 추출\n",
    "        sorted_words = sorted(words.items(), key=lambda x: x[1].cohesion_forward, reverse=True)\n",
    "        return [word for word, score in sorted_words[:top_k]]\n",
    "\n",
    "    # 모든 리뷰를 합쳐서 처리\n",
    "    if full_merge:\n",
    "        merged_reviews = df[review_col].dropna().tolist()\n",
    "        keywords = extract_keywords_soynlp(merged_reviews)\n",
    "        return pd.DataFrame({'merge_type': ['full'], 'keywords': [keywords]})\n",
    "\n",
    "    # 평점별로 리뷰를 합쳐 처리\n",
    "    if rate_merge:\n",
    "        if rate_col is None:\n",
    "            raise ValueError(\"rate_merge=True 인 경우, rate_col을 지정해야 합니다.\")\n",
    "\n",
    "        rate_keywords = []\n",
    "        for rate, group in df.groupby(rate_col):\n",
    "            merged_reviews = group[review_col].dropna().tolist()\n",
    "            keywords = extract_keywords_soynlp(merged_reviews)\n",
    "            rate_keywords.append({'rate': rate, 'keywords': keywords})\n",
    "\n",
    "        return pd.DataFrame(rate_keywords)\n",
    "\n",
    "    # 기본: 각 리뷰별 처리\n",
    "    soynlp_results = []\n",
    "    for idx, row in df.iterrows():\n",
    "        review_content = row[review_col]\n",
    "        if pd.isna(review_content):\n",
    "            soynlp_results.append(None)\n",
    "            continue\n",
    "\n",
    "        # 필터링 및 문장 리스트 생성\n",
    "        if stopwords:\n",
    "            for word in stopwords:\n",
    "                review_content = review_content.replace(word, '')\n",
    "        texts = review_content.split('. ')\n",
    "\n",
    "        # 키워드 추출\n",
    "        keywords = extract_keywords_soynlp(texts)\n",
    "        soynlp_results.append(keywords)\n",
    "\n",
    "    # 새로운 열 추가\n",
    "    df['soynlp_keywords'] = soynlp_results\n",
    "    return df"
   ]
  },
  {
   "cell_type": "code",
   "execution_count": 26,
   "metadata": {},
   "outputs": [
    {
     "name": "stdout",
     "output_type": "stream",
     "text": [
      "training was done. used memory 0.072 Gb0.072 Gb\n",
      "all cohesion probabilities was computed. # words = 2525\n",
      "all branching entropies was computed # words = 4729\n",
      "all accessor variety was computed # words = 4729\n"
     ]
    }
   ],
   "source": [
    "full_merge_df_WE = df_sumWordSentence_soynlp_WE(df, review_col='preprocessed_review', top_k=10, full_merge=True)"
   ]
  },
  {
   "cell_type": "code",
   "execution_count": 27,
   "metadata": {},
   "outputs": [
    {
     "data": {
      "text/html": [
       "<div>\n",
       "<style scoped>\n",
       "    .dataframe tbody tr th:only-of-type {\n",
       "        vertical-align: middle;\n",
       "    }\n",
       "\n",
       "    .dataframe tbody tr th {\n",
       "        vertical-align: top;\n",
       "    }\n",
       "\n",
       "    .dataframe thead th {\n",
       "        text-align: right;\n",
       "    }\n",
       "</style>\n",
       "<table border=\"1\" class=\"dataframe\">\n",
       "  <thead>\n",
       "    <tr style=\"text-align: right;\">\n",
       "      <th></th>\n",
       "      <th>merge_type</th>\n",
       "      <th>keywords</th>\n",
       "    </tr>\n",
       "  </thead>\n",
       "  <tbody>\n",
       "    <tr>\n",
       "      <th>0</th>\n",
       "      <td>full</td>\n",
       "      <td>[넉넉, 꼼꼼, 퀄리, 택배, 쇼핑, 판매, 쫜득, 낱개, 쫄깃, so]</td>\n",
       "    </tr>\n",
       "  </tbody>\n",
       "</table>\n",
       "</div>"
      ],
      "text/plain": [
       "  merge_type                                  keywords\n",
       "0       full  [넉넉, 꼼꼼, 퀄리, 택배, 쇼핑, 판매, 쫜득, 낱개, 쫄깃, so]"
      ]
     },
     "execution_count": 27,
     "metadata": {},
     "output_type": "execute_result"
    }
   ],
   "source": [
    "full_merge_df_WE"
   ]
  },
  {
   "cell_type": "markdown",
   "metadata": {},
   "source": [
    "### LRNounExtractor_v2"
   ]
  },
  {
   "cell_type": "code",
   "execution_count": 30,
   "metadata": {},
   "outputs": [],
   "source": [
    "from soynlp.noun import LRNounExtractor_v2\n",
    "import pandas as pd\n",
    "\n",
    "def df_sumWordSentence_soynlp_LR(df, review_col, rate_col=None, stopwords=None, top_k=5, full_merge=False, rate_merge=False):\n",
    "    \"\"\"\n",
    "    데이터프레임에서 특정 열을 전처리하고 soynlp를 사용해 키워드 추출 결과를 저장.\n",
    "\n",
    "    Parameters:\n",
    "    - df: pd.DataFrame - 입력 데이터프레임\n",
    "    - review_col: str - 리뷰 내용을 포함하는 열 이름\n",
    "    - rate_col: str - 평점 열의 이름 (rate_merge=True인 경우 필요)\n",
    "    - stopwords: list[str] - 필터링할 단어 목록\n",
    "    - top_k: int - 추출할 상위 키워드 개수\n",
    "    - full_merge: bool - True일 경우 모든 리뷰를 합쳐서 처리\n",
    "    - rate_merge: bool - True일 경우 평점별로 리뷰를 합쳐서 처리\n",
    "\n",
    "    Returns:\n",
    "    - pd.DataFrame - 키워드 열이 추가된 데이터프레임\n",
    "    \"\"\"\n",
    "\n",
    "    def extract_keywords_soynlp(texts):\n",
    "        \"\"\"soynlp LRNounExtractor_v2로 키워드 추출\"\"\"\n",
    "        combined_text = \" \".join(texts)\n",
    "\n",
    "        # 불용어 제거\n",
    "        if stopwords:\n",
    "            for word in stopwords:\n",
    "                combined_text = combined_text.replace(word, '')\n",
    "\n",
    "        # LRNounExtractor_v2를 사용하여 키워드 추출\n",
    "        noun_extractor = LRNounExtractor_v2(verbose=False)\n",
    "        nouns = noun_extractor.train_extract([combined_text])\n",
    "\n",
    "        # 중요도 기준으로 상위 키워드 추출\n",
    "        sorted_nouns = sorted(nouns.items(), key=lambda x: x[1].frequency, reverse=True)\n",
    "        return [word for word, score in sorted_nouns[:top_k]]\n",
    "\n",
    "    # 모든 리뷰를 합쳐서 처리\n",
    "    if full_merge:\n",
    "        merged_reviews = df[review_col].dropna().tolist()\n",
    "        keywords = extract_keywords_soynlp(merged_reviews)\n",
    "        return pd.DataFrame({'merge_type': ['full'], 'keywords': [keywords]})\n",
    "\n",
    "    # 평점별로 리뷰를 합쳐 처리\n",
    "    if rate_merge:\n",
    "        if rate_col is None:\n",
    "            raise ValueError(\"rate_merge=True 인 경우, rate_col을 지정해야 합니다.\")\n",
    "\n",
    "        rate_keywords = []\n",
    "        for rate, group in df.groupby(rate_col):\n",
    "            merged_reviews = group[review_col].dropna().tolist()\n",
    "            keywords = extract_keywords_soynlp(merged_reviews)\n",
    "            rate_keywords.append({'rate': rate, 'keywords': keywords})\n",
    "\n",
    "        return pd.DataFrame(rate_keywords)\n",
    "\n",
    "    # 기본: 각 리뷰별 처리\n",
    "    soynlp_results = []\n",
    "    for idx, row in df.iterrows():\n",
    "        review_content = row[review_col]\n",
    "        if pd.isna(review_content):\n",
    "            soynlp_results.append(None)\n",
    "            continue\n",
    "\n",
    "        # 필터링 및 문장 리스트 생성\n",
    "        if stopwords:\n",
    "            for word in stopwords:\n",
    "                review_content = review_content.replace(word, '')\n",
    "        texts = review_content.split('. ')\n",
    "\n",
    "        # 키워드 추출\n",
    "        keywords = extract_keywords_soynlp(texts)\n",
    "        soynlp_results.append(keywords)\n",
    "\n",
    "    # 새로운 열 추가\n",
    "    df['soynlp_keywords'] = soynlp_results\n",
    "    return df"
   ]
  },
  {
   "cell_type": "code",
   "execution_count": 31,
   "metadata": {},
   "outputs": [],
   "source": [
    "full_merge_df_LR = df_sumWordSentence_soynlp_LR(df, review_col='preprocessed_review', top_k=10, full_merge=True)"
   ]
  },
  {
   "cell_type": "code",
   "execution_count": 32,
   "metadata": {},
   "outputs": [
    {
     "data": {
      "text/html": [
       "<div>\n",
       "<style scoped>\n",
       "    .dataframe tbody tr th:only-of-type {\n",
       "        vertical-align: middle;\n",
       "    }\n",
       "\n",
       "    .dataframe tbody tr th {\n",
       "        vertical-align: top;\n",
       "    }\n",
       "\n",
       "    .dataframe thead th {\n",
       "        text-align: right;\n",
       "    }\n",
       "</style>\n",
       "<table border=\"1\" class=\"dataframe\">\n",
       "  <thead>\n",
       "    <tr style=\"text-align: right;\">\n",
       "      <th></th>\n",
       "      <th>merge_type</th>\n",
       "      <th>keywords</th>\n",
       "    </tr>\n",
       "  </thead>\n",
       "  <tbody>\n",
       "    <tr>\n",
       "      <th>0</th>\n",
       "      <td>full</td>\n",
       "      <td>[맛, 오란다, 딱딱, 말랑말랑, 좋아, 잘, 구매, 맛있어요, 또, 주문]</td>\n",
       "    </tr>\n",
       "  </tbody>\n",
       "</table>\n",
       "</div>"
      ],
      "text/plain": [
       "  merge_type                                    keywords\n",
       "0       full  [맛, 오란다, 딱딱, 말랑말랑, 좋아, 잘, 구매, 맛있어요, 또, 주문]"
      ]
     },
     "execution_count": 32,
     "metadata": {},
     "output_type": "execute_result"
    }
   ],
   "source": [
    "full_merge_df_LR"
   ]
  },
  {
   "cell_type": "code",
   "execution_count": 40,
   "metadata": {},
   "outputs": [
    {
     "data": {
      "text/plain": [
       "'오란다'"
      ]
     },
     "execution_count": 40,
     "metadata": {},
     "output_type": "execute_result"
    }
   ],
   "source": [
    "full_merge_df_LR['keywords'][0][1]"
   ]
  },
  {
   "cell_type": "code",
   "execution_count": 50,
   "metadata": {},
   "outputs": [],
   "source": [
    "# 2. 평점별로 리뷰를 묶어서 키워드 추출\n",
    "rate_merge_df = df_sumWordSentence_soynlp_LR(df, review_col='preprocessed_review', rate_col='평점', rate_merge=True)"
   ]
  },
  {
   "cell_type": "code",
   "execution_count": 51,
   "metadata": {},
   "outputs": [
    {
     "data": {
      "text/html": [
       "<div>\n",
       "<style scoped>\n",
       "    .dataframe tbody tr th:only-of-type {\n",
       "        vertical-align: middle;\n",
       "    }\n",
       "\n",
       "    .dataframe tbody tr th {\n",
       "        vertical-align: top;\n",
       "    }\n",
       "\n",
       "    .dataframe thead th {\n",
       "        text-align: right;\n",
       "    }\n",
       "</style>\n",
       "<table border=\"1\" class=\"dataframe\">\n",
       "  <thead>\n",
       "    <tr style=\"text-align: right;\">\n",
       "      <th></th>\n",
       "      <th>rate</th>\n",
       "      <th>keywords</th>\n",
       "    </tr>\n",
       "  </thead>\n",
       "  <tbody>\n",
       "    <tr>\n",
       "      <th>0</th>\n",
       "      <td>1</td>\n",
       "      <td>[박스, 맛]</td>\n",
       "    </tr>\n",
       "    <tr>\n",
       "      <th>1</th>\n",
       "      <td>2</td>\n",
       "      <td>[맛, 물엿, 과자, 조청, 느낌]</td>\n",
       "    </tr>\n",
       "    <tr>\n",
       "      <th>2</th>\n",
       "      <td>3</td>\n",
       "      <td>[맛, 생각, 기름냄새, 딱딱, 박스]</td>\n",
       "    </tr>\n",
       "    <tr>\n",
       "      <th>3</th>\n",
       "      <td>4</td>\n",
       "      <td>[맛, 오란다, 딱딱, 많이, 생각]</td>\n",
       "    </tr>\n",
       "    <tr>\n",
       "      <th>4</th>\n",
       "      <td>5</td>\n",
       "      <td>[맛, 오란다, 딱딱, 말랑말랑, 좋아]</td>\n",
       "    </tr>\n",
       "  </tbody>\n",
       "</table>\n",
       "</div>"
      ],
      "text/plain": [
       "   rate                keywords\n",
       "0     1                 [박스, 맛]\n",
       "1     2     [맛, 물엿, 과자, 조청, 느낌]\n",
       "2     3   [맛, 생각, 기름냄새, 딱딱, 박스]\n",
       "3     4    [맛, 오란다, 딱딱, 많이, 생각]\n",
       "4     5  [맛, 오란다, 딱딱, 말랑말랑, 좋아]"
      ]
     },
     "execution_count": 51,
     "metadata": {},
     "output_type": "execute_result"
    }
   ],
   "source": [
    "rate_merge_df"
   ]
  },
  {
   "cell_type": "code",
   "execution_count": 52,
   "metadata": {},
   "outputs": [],
   "source": [
    "# 3. 각 리뷰별로 처리\n",
    "individual_df = df_sumWordSentence_soynlp_LR(df, review_col='preprocessed_review', top_k=5)"
   ]
  },
  {
   "cell_type": "code",
   "execution_count": 53,
   "metadata": {},
   "outputs": [
    {
     "data": {
      "text/html": [
       "<div>\n",
       "<style scoped>\n",
       "    .dataframe tbody tr th:only-of-type {\n",
       "        vertical-align: middle;\n",
       "    }\n",
       "\n",
       "    .dataframe tbody tr th {\n",
       "        vertical-align: top;\n",
       "    }\n",
       "\n",
       "    .dataframe thead th {\n",
       "        text-align: right;\n",
       "    }\n",
       "</style>\n",
       "<table border=\"1\" class=\"dataframe\">\n",
       "  <thead>\n",
       "    <tr style=\"text-align: right;\">\n",
       "      <th></th>\n",
       "      <th>이름</th>\n",
       "      <th>작성일자</th>\n",
       "      <th>평점</th>\n",
       "      <th>리뷰 내용</th>\n",
       "      <th>만족도</th>\n",
       "      <th>preprocessed_review</th>\n",
       "      <th>soynlp_keywords</th>\n",
       "    </tr>\n",
       "  </thead>\n",
       "  <tbody>\n",
       "    <tr>\n",
       "      <th>0</th>\n",
       "      <td>솔직한깡지</td>\n",
       "      <td>2024.11.16</td>\n",
       "      <td>5</td>\n",
       "      <td>지난번 아이 생일때 선생님들 드리려고 샀다가몇개 먹어보고 맛있어서 재구매했어요 장바...</td>\n",
       "      <td>맛있어요</td>\n",
       "      <td>지난번 아이 생일때 선생님들 드리려고 샀다가몇개 먹어보고 맛있어서 재구매했어요 장바...</td>\n",
       "      <td>[구매, 구성, 손, 맛, 바]</td>\n",
       "    </tr>\n",
       "    <tr>\n",
       "      <th>1</th>\n",
       "      <td>김오성</td>\n",
       "      <td>2024.11.11</td>\n",
       "      <td>5</td>\n",
       "      <td>우주오란다 플래인 강정 주문햇습니다 이거 반틈은 내가 먹고 반틈은 울아부지 드릴껍니...</td>\n",
       "      <td>맛있어요</td>\n",
       "      <td>우주오란다 플래인 강정 주문햇습니다 이거 반틈은 내가 먹고 반틈은 울아부지 드릴껍니...</td>\n",
       "      <td>[거의, 내]</td>\n",
       "    </tr>\n",
       "    <tr>\n",
       "      <th>2</th>\n",
       "      <td>김오성</td>\n",
       "      <td>2024.09.26</td>\n",
       "      <td>5</td>\n",
       "      <td>ㅈㅣ는 84세이신 울아부지랑 둘이서 살고 있습니다 울아부지 옛날에는 장승같이 커다란...</td>\n",
       "      <td>맛있어요</td>\n",
       "      <td>ㅈㅣ는 세이신 울아부지랑 둘이서 살고 있습니다 울아부지 옛날에는 장승같이 커다란 모...</td>\n",
       "      <td>[울아부지, 맛, 구매, 거의, 내]</td>\n",
       "    </tr>\n",
       "    <tr>\n",
       "      <th>3</th>\n",
       "      <td>이*진</td>\n",
       "      <td>2024.09.22</td>\n",
       "      <td>4</td>\n",
       "      <td>《 우주오란다 》  * 용량 : 30g × 12개  * 소비기한 :  2025.04...</td>\n",
       "      <td>맛있어요</td>\n",
       "      <td>우주오란다   용량  g  개  소비기한   까지  구매 이유 어릴 때 맛나게 먹던...</td>\n",
       "      <td>[맛, 오란다, 딱딱, 식감, 옛날]</td>\n",
       "    </tr>\n",
       "    <tr>\n",
       "      <th>4</th>\n",
       "      <td>36참나리</td>\n",
       "      <td>2024.09.22</td>\n",
       "      <td>5</td>\n",
       "      <td>클래식한 간식 중 최고봉, 오란다.달달한 간식이 생각나 주문했다.옛날 문방구에서 사...</td>\n",
       "      <td>맛있어요</td>\n",
       "      <td>클래식한 간식 중 최고봉 오란다달달한 간식이 생각나 주문했다옛날 문방구에서 사 먹던...</td>\n",
       "      <td>[맛, 홀란드, 상인, 출신, 생각]</td>\n",
       "    </tr>\n",
       "  </tbody>\n",
       "</table>\n",
       "</div>"
      ],
      "text/plain": [
       "      이름        작성일자  평점                                              리뷰 내용  \\\n",
       "0  솔직한깡지  2024.11.16   5  지난번 아이 생일때 선생님들 드리려고 샀다가몇개 먹어보고 맛있어서 재구매했어요 장바...   \n",
       "1    김오성  2024.11.11   5  우주오란다 플래인 강정 주문햇습니다 이거 반틈은 내가 먹고 반틈은 울아부지 드릴껍니...   \n",
       "2    김오성  2024.09.26   5  ㅈㅣ는 84세이신 울아부지랑 둘이서 살고 있습니다 울아부지 옛날에는 장승같이 커다란...   \n",
       "3    이*진  2024.09.22   4  《 우주오란다 》  * 용량 : 30g × 12개  * 소비기한 :  2025.04...   \n",
       "4  36참나리  2024.09.22   5  클래식한 간식 중 최고봉, 오란다.달달한 간식이 생각나 주문했다.옛날 문방구에서 사...   \n",
       "\n",
       "    만족도                                preprocessed_review  \\\n",
       "0  맛있어요  지난번 아이 생일때 선생님들 드리려고 샀다가몇개 먹어보고 맛있어서 재구매했어요 장바...   \n",
       "1  맛있어요  우주오란다 플래인 강정 주문햇습니다 이거 반틈은 내가 먹고 반틈은 울아부지 드릴껍니...   \n",
       "2  맛있어요  ㅈㅣ는 세이신 울아부지랑 둘이서 살고 있습니다 울아부지 옛날에는 장승같이 커다란 모...   \n",
       "3  맛있어요  우주오란다   용량  g  개  소비기한   까지  구매 이유 어릴 때 맛나게 먹던...   \n",
       "4  맛있어요  클래식한 간식 중 최고봉 오란다달달한 간식이 생각나 주문했다옛날 문방구에서 사 먹던...   \n",
       "\n",
       "        soynlp_keywords  \n",
       "0     [구매, 구성, 손, 맛, 바]  \n",
       "1               [거의, 내]  \n",
       "2  [울아부지, 맛, 구매, 거의, 내]  \n",
       "3  [맛, 오란다, 딱딱, 식감, 옛날]  \n",
       "4  [맛, 홀란드, 상인, 출신, 생각]  "
      ]
     },
     "execution_count": 53,
     "metadata": {},
     "output_type": "execute_result"
    }
   ],
   "source": [
    "individual_df.head()"
   ]
  },
  {
   "cell_type": "markdown",
   "metadata": {},
   "source": [
    "## summary"
   ]
  },
  {
   "cell_type": "code",
   "execution_count": 43,
   "metadata": {},
   "outputs": [
    {
     "data": {
      "text/plain": [
       "405"
      ]
     },
     "execution_count": 43,
     "metadata": {},
     "output_type": "execute_result"
    }
   ],
   "source": [
    "selected_word = full_merge_df_LR['keywords'][0][1]  # 사용자가 선택한 단어\n",
    "\n",
    "# 4. 리뷰 필터링\n",
    "def filter_reviews_by_word(df, word):\n",
    "    filtered_df = df[df['preprocessed_review'].str.contains(word, na=False)]\n",
    "    return filtered_df\n",
    "\n",
    "filtered_df = filter_reviews_by_word(df, selected_word)\n",
    "len(filtered_df)"
   ]
  },
  {
   "cell_type": "code",
   "execution_count": 44,
   "metadata": {},
   "outputs": [],
   "source": [
    "combined_reviews = \" \".join(filtered_df['preprocessed_review'])\n",
    "if isinstance(combined_reviews, list):\n",
    "    combined_reviews = \" \".join(combined_reviews)"
   ]
  },
  {
   "cell_type": "code",
   "execution_count": 45,
   "metadata": {},
   "outputs": [
    {
     "data": {
      "text/plain": [
       "'지난번 아이 생일때 선생님들 드리려고 샀다가몇개 먹어보고 맛있어서 재구매했어요 장바구니에 넣어두고 종종보면 할인행사도 많이하더라구요 할인 전혀 없을때는 꼭 장바구니에 넣어두고 할인할때 구매하세요 ㅎㅎ맛맛은뭐 누구나 다아는 그런 오란다에요과자가 씹히면서 달달함은 덩달아 따라오는 기분좋은 맛입니다그렇다고 또 엄청나게 진짜 달다 정도는 아니에요적당한 단맛이라 저는 더 좋더라구요 너무 달면 한개다 먹기도전에 질리기도 하거든요커피랑 먹기에도 좋고 아이들은 음료나 우유랑 줘도 맛있다고 잘먹어요부드러움 정도혹시 전주에서 오란다를 먹어보신 분이라면 아실만한 그런 아주아주 부드러운 오란다에요옛날 옛적 먹던 그런 딱딱한 입천장 다까지는 오란다가 아니랍니다너무 부드러워서 저희막내는 심지어오란다를 손에 쥐어주면 동그라미 알알이 하나씩 손으로 떼어 먹어요 ㅋㅋㅋㅋㅋㅋ손은 좀 찐득해지지만 어찌나 귀여운지요두돌 조금지난 우리 막둥이도 맛나게 잘먹으니 아가들있는 집이라면딱딱하지는 않을까 걱정하진 않으셔도 되요갯수와 구성저는 이번에 개 구성으로 구매했는데요첫날에 바로 후회했어요개로 살껄 ㅜㅜ저희집 아가들이 셋인데 다들 하나씩 들고 먹으니 금방 없어지더라구요제가 저혼자만 먹을꺼 생각하고 잘못구매했다 싶었네요개들입 구성으로 구매하면 박스자체에 손잡이도 있어서혹시 선물용도 이시면 개 구성이 개당가격도 더 저렴하니 참고하세요박스를 열면 오란다는 낱개포장 되어있고한번먹기 딱좋은 양이에요외출할때 가지고 다니기도 좋고 아이들 손에 쥐어주기도 좋아서 저는 너무 만족합니다끝으로 맛있는 간식으로도 좋고 선물하기도 좋은 오란다로 추천해봅니다 ㅎㅎ다먹고 또 구매하러 올께욥 이상 솔직후기 였습니다 꾸준히 쿠팡을 사용하며 리뷰가 도움되었다는 알림에 왠지 모를 뿌듯함이 샘솟는 삼남매의 엄마랍니다오늘도 제 후기가 도움되었길 바라며  모두모두 즐거운 쇼핑하세요 우주오란다 플래인 강정 주문햇습니다 이거 반틈은 내가 먹고 반틈은 울아부지 드릴껍니더울아부지 잘드시는 우주오란다 플래인 강정 참 좋습니다 옛날에 드시던 딴딴한거는 이제 나이가 무가 못드시는데 요것은 아주 잘드시거든요 방갑습니다지는 솔직하고 정직한 사진만 올릴려 합니다 맛나고 좋고 튼실하고 유용한건 꼭 사야 된다고 봅니다 지금 안사면 평생 못살지도 모르니까요ㅡ 아껴가 모은돈 이럴때 푹푹쓸라고 사는거잔아예쿠팡에서 거의 모든것을 구매하는 편입니다 내가 열씨미 산덕일까요 쿠팡이 적자를 면햇다는 소문도 들리고 아무튼ㅡㅡ요래조래 깐깐하게 잘고른 덕분에 실패 보다는 성공적으로 잘삿다 생각들때가 많습니다 주문할때면 비슷한 제품 중에 항상 쪼매 비싼걸 사야 한답니다 확실이 싼건 거의가 완전 비지떡 이더라꼬예ㅡ 나에게 점빵 이면서 슈퍼 이면서 마트 이기도 하고 백화점 일때도 있습니다 일상 생활에 소소하고 즐거운 도깨비 방망이 입니다 감사합니다   ヱ 위 ℓơvє  ㄱ사의 마음 내려놓고 갑니다 ㅈㅣ는 세이신 울아부지랑 둘이서 살고 있습니다 울아부지 옛날에는 장승같이 커다란 모습 이엿는데 나이드시니 아프고 힘없으십니다 내어릴때 가부장 적이시고 내가 잘못하면 뚜디리 맞앗던 기억뿐이 없거든요ㅜ 그래도 아부지 아입니꺼 아부지를 위해서 늘 맛있는거 챙겨드리고 싶은데 우연히 골드박스 에서 우주오란다 플래인 강정 을 보게되서 내먹을라고 몇개 먹엇더만 이건 이빨이 없는 사람도 맛나게 먹을수 있겟구나 생각하면서 아부지 갔다 드렷더니울아부지 오란다 딱딱해서 못먹는다 카시길래 일딴은 한개 드셔보이소ㅡ다음날 봣더니 울아부지 오란다 개를 다 작살내고 없드라꼬예그래서 다시 개짜리 한박스 구매했습니다 아부지 야들야들하니 보드리하이 맛난 오란다 마이드시고 힘내세요 용가리 입니다  ㅗ늘당신 쵝오이얌 쮠 ベꕥ 날 방갑습니다지는 솔직하고 정직한 사진만 올릴려 합니다 맛나고 좋고 튼실하고 유용한건 꼭 사야 된다고 봅니다 지금 안사면 평생 못살지도 모르니까요ㅡ 아껴가 모은돈 이럴때 푹푹쓸라고 사는거잔아예쿠팡에서 거의 모든것을 구매하는 편입니다 내가 열씨미 산덕일까요 쿠팡이 적자를 면햇다는 소문도 들리고 아무튼ㅡㅡ요래조래 깐깐하게 잘고른 덕분에 실패 보다는 성공적으로 잘삿다 생각들때가 많습니다 주문할때면 비슷한 제품 중에 항상 쪼매 비싼걸 사야 한답니다 확실이 싼건 거의가 완전 비지떡 이더라꼬예ㅡ 나에게 점빵 이면서 슈퍼 이면서 마트 이기도 하고 백화점 일때도 있습니다 일상 생활에 소소하고 즐거운 도깨비 방망이 입니다 감사합니다 우주오란다   용량  g  개  소비기한   까지  구매 이유 어릴 때 맛나게 먹던 오란다물엿코팅으로 달달하면서딱딱한듯 파삭하고 부서지는 식감과튀긴 과자 특유의 냄새추억의 맛이 떠올라요우주오란다쿠팡 검색 중 가끔 보여서 살까말까 여러번 고민했던 상품인데골드박스 할인하길래 바로 주문했어요  시식 후기  먹기좋고 보관하기 좋은 개별포장상품 상세페이지 전혀 보지도 않고 바로 주문해버려서제품받고 보니 어릴 때 먹던 오란다와는 다르네요cm 정육면체 모양의 오란다 과자가 투명한 비닐봉지에 담겨있는건 엄마가 자주 사주셨거든요우주오란다는 멋지구리한 종이박스에개별포장된 길죽한 오란다 개 들어있어요꼭 요즘 자주먹는 콘푸라이트바랑 비슷한 크기와 포장이예요이렇게 개별포장 되어있으면 낱개로 들고다니거나 보관하기 편리하더라구요미개봉한건 기한 내 언제든 먹을수 있으니까요  부드럽고 많이 달지 않아요 옛날에 먹던 오란다에 비해 식감과 맛의 차이가 크네요 식감 옛날 오란다는 설탕인지 물엿인지에 버무린 뒤 식혀서딱딱하고 베어물면 파삭하고 이에 무리가 갈듯 부숴졌거든요우주오란다는 오란다알갱이 하나하나 부드럽고 당에 버무리긴 했는데 딱딱하지 않고부드럽고 존득하게 파스스 부서지네요아주아주 부드러운 느낌이 강해요  맛  그리 달지 않아요 옛날 오란다 코팅이 강하고 딱딱한데 단맛도 강해서일단 엄청 맛있었고 기름맛이 더해져 한번 먹으면 멈추기 힘들만큼 맛있었어요우주오란다는 그리 달게 느껴지지않아요어찌보면 단맛이 덜해서 덜 맛있나싶기도하구요마구 땡기는 맛이 아니라서 봉 뜯어서 먹으면 딱이더라구요종합해보면 옛날오란다 딱딱하고 달고 중독적인 기름진 맛 한번 손대면 멈추지 못하고 마구 먹게됨 딱딱해서 많이 먹으면 입 천장 다까짐 우주오란다 부드럽고 존득하면서 덜달고 순화된 오란다맛 덜 단맛 탓인지 g 한봉지 먹으면 적당하게 느껴짐 식감이 부드러워 이에 끼거나 입 천장 까일 일 없음  총평기대했던 추억의 오란다 맛이랑 완전 똑같진 않고트렌드에 맞게부드러운 식감과 당을 줄여 건강해진 오란다맛개별포장은 보관과 휴대에 편리해서 아주 좋네요다 먹고 또 할인할때 추가구매 할것 같아요꼭 필요한 물건 구입 후 직접 사용해보고 작성하는 후기입니다 제 후기가 현명한 소비하시는데 도움이 되었으면 하는 바램입니다 클래식한 간식 중 최고봉 오란다달달한 간식이 생각나 주문했다옛날 문방구에서 사 먹던 오란다는딱딱해서 입천장이 다 까졌는데이번에 구매한 수제 강정 우주 오란다는 부드러우면서 파삭한 식감을 준다나이 드신 분들도 꼬맹이들도 맛있게먹을 수 있다옛날 과자는 딱딱했지만 구수한 맛이 있었는데 그런 맛은 좀 덜하지만 단맛이 생각날 때 오란다가 최고네회사에 간식으로 준비해 가는데 인기가 좋다과자에 기공이 많아 부드럽고 파삭한 식감은 좋지만 구수한 맛을 위해 밀가루의 밀도를 조금만 높이면 옛날 맛이 살아날 듯오란다 명칭을 찾아봤다나무위키_______________________________오란다 뜻네덜란드를 칭하는 일본어 단어이다네덜란드의 Holland홀란드홀랜드 주는 네덜란드 영토의 거의 절반을 차지하고 네덜란드 출신 상인 중 대다수는 홀란드 출신이고 그런 상인들이 나 홀란드 출신이요 하다 보니 네덜란드는 홀란드로 알려지는 경우도 많았다 h 발음이 묵음인 로망스어군 언어에서는 당연히 올란다라고 불렀고 포르투갈과 스페인의 선교사 및 상인들의 영향을 받은 일본에서도 이 발음을 받아들였다 이탈리아어에서는 아예 h를 삭제해네덜란드를 Oanda로 부른다웨하스일본식 표현처럼 네덜란드식 와플이 쌀강정 형태로 변형된 것이라 이 과자를 오란다라고 부르게 되었다____________________________________일본의 오란다와 비슷한 과자로대만에는 사치미 가 있고 우리나라에는 강정이 있다강정처럼 달콤하고 맛있는 오란다는남녀노소 다 좋아하는 간식이라부담없이 선물하기 좋다MZ 세대를 겨냥해서 초코 시나몬 유자 생강 등등다양한 맛이 출시되어 롱런하는 우주 오란다가 되길 바라요맛있게 잘 먹었고요 재구매 할 겁니다많이 파시고 번창하세요 지인 집들이 갔다가식후 커피와 오란다를 꺼내와 먹어봤는데오잉 이거 완죤 내가 알던 오란다가 아니잖아싶어 그 맛에 반해 저도 구매합니다 ㅎㅎㅎ옛날 오란다 생각하다 요즘 오란다먹으니핵 꿀 맛 이네요옛날엔 이렇게 맛있다고 못느꼈는데요즘은 되게 쫘안득 쫜득 식감이 너무 좋더라구요그렇다고 이에 심하게 끼는 그런 질척한 찐득이가아니에요그리고 크기가 대박이네요손에 놓으면 손보다 훨씬크고 두께도 두꺼워요달달하니 아메랑 먹기 딱 좋고많이 거친느낌도 아니고 적당히 입안에서 와그작 쫜득하며 씹혀서 살 유치 흔들리는 우리 아드님도무리없이 먹어요 ㅎㅎㅎㅎ맛이며 식감 크기까지 반했다그용다 먹으면 또 주문할꺼에용제 글이 도움이 되신다면도움이 돼요꾸욱부탁드립니다아아감사합니당 구매동기 직장에서 답례품 개 받았었는데 너무 맛있어서 순삭 했거든요 저희 엄마가 오란다 킬러라서 바로 한 박스 주문했습니다  장점  말랑하다오란다 진짜 좋아하는데 전통오란다는 많이 먹으면 입천장 까지고 턱 아프잖아요 얘는 말랑하기 때문에 그런 게 전혀 없답니다 바삭하다말랑 오란다는 눅눅 하지 않을까 걱정 되는데요 겉에 코팅은 말랑한 꿀로 되어 있지만 알알이 속은 엄청 바삭 해요 바삭바삭 뿌셔 먹는 식감이 너무 좋았어요 먹기 편하다낱개로 포장이 되어 있어서 먹기가 좋은데 개 포장 된 양도 적절 해서 하나씩 꺼내 먹기가 진짜 좋은거 같아요 물론 아쉬워서 개 먹을 때도 있어요 ㅋㅋ 단점 녹으면 알알이 분리된다이번에 날씨가 너무 더웠어 가지고 밖에 그냥 내놨더니 약간 흐물거리더라구요 손으로 살짝 힘주면 파츠 많이 넣은 슬라임처럼 변형되는 느낌 그러다 보니 기름 맛도 좀 나는 거 같구요 냉장고에 잠깐 넣었다 먹으면 괜찮을 거 같아요 너무 맛있는데 칼로리가 높다 ㅎㅎㅎ문제는 튀긴 과자라서 칼로리가 높다는 점이죠 알아서 잘 조절해서 먹어야 되는데 너무 맛있어서 두 개씩 먹으면 살찌기 딱 좋습니다  총평 한 박스 사서 나눠 먹기도 너무 좋고 가격도 착하고 맛있고 완벽한 간식인 것 같습니다 완전 강추 내가 나이가 인디요 마누라는 도망간지 년째고 자식이라고 둘 있는데 양육비랑 학비 다되줫는데 우째 코빼기도 안보여주고 아부지가 죽엇는지 살앗는지 궁긍하지도 않나봅니닼ㅋ ㅋㅋㅋ 그래도 내는 말랑 달콤 부드러운 우주오란다 플래인 강정 먹으면서 나름 재미지게 살고 있지롱 입니다 근데 오란다 딱딱이 가 아니고 말랑이 인데 정말 맛있습니다   ヱ 위 ℓơvє  ㄱ사의 마음 내려놓고 갑니다 방갑습니다지는 솔직하고 정직한 사진만 올릴려 합니다 맛나고 좋고 튼실하고 유용한건 꼭 사야 된다고 봅니다 지금 안사면 평생 못살지도 모르니까요ㅡ 아껴가 모은돈 이럴때 푹푹쓸라고 사는거잔아예쿠팡에서 거의 모든것을 구매하는 편입니다 내가 열씨미 산덕일까요 쿠팡이 적자를 면햇다는 소문도 들리고 아무튼ㅡㅡ요래조래 깐깐하게 잘고른 덕분에 실패 보다는 성공적으로 잘삿다 생각들때가 많습니다 주문할때면 비슷한 제품 중에 항상 쪼매 비싼걸 사야 한답니다 확실이 싼건 거의가 완전 비지떡 이더라꼬예ㅡ 나에게 점빵 이면서 슈퍼 이면서 마트 이기도 하고 백화점 일때도 있습니다 일상 생활에 소소하고 즐거운 도깨비 방망이 입니다 감사합니다 후기가 많이 없어서 고민했는데 와정말 이건 사세요오란다가 쿠팡에도 정말 많았는데 그중에 고르고 골랐어요후기가 엄청 많은건 아니지만 몇몇후기를 보아하니 맛있고 부드럽다하여전주에서 사먹었던 맛을 기대하며 기대반 걱정반으로 주문했어요근데진짜 여러분 걱정하실 필요가 없어요진짜 완전 살살 녹는 딱딱함이라고는 도 없는 부드러운 오란다입니다너무 부드러워서 꺼내서 거꾸로 들고있다보면 주르르 흘러내릴 정도에요그만큼 딱딱한 끈적임이아닌 부드랍고 잘 분해되는 느낌의 오란다입니다저는 일부는 선물하고 일부는 제가 먹었는데요전체모두 선물을 하는 사람들도 있으니 포장 패키지가 따로 있어도 좋을것같아요만약 이걸로 선물하려면 손잡이가 따로 있거나 하지않아서종이가방이 하나 필요하니 혹시 선물용 이시면 참고하세요부드러움은 둘째치고 맛도 있어야하지 않습니까 맛도 좋아요 부드러우니 그냥 맛있습니다저희집 막둥이가 개월인데 오란다 한번 먹고는 눈이 번쩍해져서양손에 쥐고 먹습니다  제가 먹어도 맛있으니 아가입맛엔 천상의 맛이겠죵 ㅋ무엇보다 외츨했을때 간식 필요할때 하나씩 손에 쥐고 먹을수있는 낱개포장이여서차타고 놀러나가는날에는 꼭 개는 가방에 챙겨갑니다유모차타고 시끄럽다가도 오란다 쥐어주면 냠냠 먹느냐 정신없답니다선물을 대부분 보냈더니 집에 남은건 이제 몇개 없어서조만간 또 구매하러 오겠습니다이상 솔직후기 였습니다 꾸준히 쿠팡을 사용하며 리뷰가 도움되었다는 알림에 왠지 모를 뿌듯함이 샘솟는 삼남매의 엄마랍니다오늘도 제 후기가 도움되었길 바라며  모두모두 즐거운 쇼핑하세요 신랑이 어디서 먹어보고는 너무 맛있다고 주문해달라고 해서 시켰네요가격이 하나에 천원 이상이예요조금 비싼 느낌이 들더라고요 주문할까 말까 고민했는데그래도 맛있다고 하니깐 기대를 갖게 되었어요특별히 다른 오란다랑 비교했을때 큰 차이는 못 느꼈어요그래도 비교하자면 다른제품들에 비해 맛은 많이 달지 않고 설탕같은게 덜 들어가서인지덜 찐덕 거리더라고요 그래서 이점은 먹기 편해서 좋았습니다그런데 신랑이 이야기한 것처럼 엄청 맛있는 건 모르겠어요평범한 맛이었어요저는 이가 안 좋아서 딱딱하거나 찐덕이는 거는 피하는데요다른 제품들에 비해 딱딱하지 않아서 좋았는데 뭔가 알이 커서인지 잇몸같은데가 조금 아프더라고요전 다음에는 다시 주문할 거 같진 않네요 와 이거 왜이렇게 맛있나요 원래도 오란다 좋아해서시장가면 꼭 한 봉지 담아와가지고 먹곤 했어요근데 이거 원래 딱딱하자나여어떻게 이렇게 안딱딱하고 말랑하게 만들수가 있죠신기합니다일단 달달한 감도많이 달달하지도 않으면서도 맛있어요말랑하고 딱딱하게 굳어있지 않아가지고 아이랑도먹기 좋습니다 원래도 천장 잘 까지는데 ㅋㅋㅋㅋㅋㅋㅋㅋ좀 급하게 먹었더니 까지고 난리났어요넘 맛나서 앉은자리에서 몇개를 먹었는지요맛있고 상품성이 있으니 비싸겠지만가격이 쬐끔만 내려가면 더 자주 사먹을 수 있을 것 같아요진짜 맛나네요워낙 과자를 좋아해서제가 과자는 안끊기게 놓고 먹는 편입니다 이거는 진짜 너무 맛있어요한 알씩 디자인이 그렇게 생겨가지고 떼어먹기좋고쫀득하면서 그렇다고 입에서 너무 달라붙거나 하지 않아요아이가 처음에 왜 샀냐고 그러더니하나씩 학교 가지고 가네요 가방에 ㅋㅋ학원갈 때 먹는다구요받은지 지금 며칠 되지도 않았는데 거의 다 먹어가서또 주문하고 싶어요조금만 더 싸면 좋겠다 ㅠㅠ질리지도 않고 무한적으로 입으로 들어가네요 아빠도 이런거 좋아하시는데 아빠도 보내드리고 싶어요개별포장 되어있어서 어디 나들이가거나 차에 놓고먹기 좋네요 가지고 다니는게 원래 일인데포장이 개별포장이 되어있어가지고가격이 더 비싼건가요 암튼 맛있게 잘 먹었습니다또 주문하겠어요 신포시장에서 사서먹고는 또 생각이나서 간식으로 먹으면 좋을것 같아 구입했어요하나씩 낱개포장 되어있어서 엄청 간편해요딱딱하지않고 말랑말랑해서 식감도 편하고많이 달지않아서 꺼내먹기 편하네요제품명 우주오란다식품유형 과자원료 오란다볼 소맥분 옥배유팜올레인유 설탕 정제소금효모탄산수소암모늄 베이킹파우더 아라비아검보관 직사광선 피해 서늘하고 건조한 실온보관 권장 냉장 또는 냉동보관  가급적 빨리섭취소비기한 년 월 구입후 개월 정도되는듯개 들어있는데 하루만에 반 순삭재구매 의사 완전 있어요 주문 일자    배송 일자    소비 기한    구매 이유어린 딸아이가 성장주사를 맞다보니 단 과자를 가족들이 반강제적으로 안 먹게 되다보니 단게 너무 땡기는데 도저히 참을수가 없더라고요 그중에서 예전에 쿠팡에서 구매했던 오란다가 어찌나 생각나던지 그래서 결국엔 주문하게 되었네요구매 후기 및 장단점예전에 구매할때 후기글을 많이 읽어보았는데 그때는 다들 좋은 글들만 있어서 저는 솔직히 믿질 못하겠더라고요 오란다가 얼마나 특별하기에 이렇게 극찬을 하지 하지 그래도 혹시나 하는 마음에 시켜 먹어보니 내가 그 후기글을 안 읽어 봤으면 이맛을 몰랐겠구나 싶었어요 나이가 먹으니 왜이렇게 단게 땡기는지 게다가 딸아이땜시 요즘 과자 못먹은지 오래되다 보니 우주 오란다가 너무 생각이 나더라고요 그래서 오전에 주문 했는데 오후에 배송되고 너무 기분이 좋네요이번이 번째 구매인데 두고두고 먹으려고 개짜리를 주문했어요 이제는 저만 좋아하는게 아니라 남편도 맛있다고 잘먹고 첫째딸은 아까워서 천천히 먹으려고 했는데 어느새 다 먹었다고 아쉬워 했는데 이번에 좀 오래오래 먹고 싶은데 왠지 금방 먹을듯해요우주 오란다를 제가 제일 좋아는 이유는 다른 오란다는 먹다가 이빨이 깨질것 같은 고통이 있는데 우주오란다는 말랑말랑한 촉감이 정말 좋아요 먹기전에는 도저히 믿을수가 없을거예요 아니 오란다가 어떻게 이렇게 말랑말랑하지 그러면서도 너무 맛있어요 달다고 해서 그 차이가 없는게 아니더라고요그래서 다음에는 명절이나 친정이나 시댁에 갈때 옛날 과자를 좋아하시니 우주오란다를 사갈까 생각중이예요 어르신들이 이빨도 약한데 간식으로 참 좋아하실거 같아요그리고 낱개포장 되어 있어서 먹기에도 간편해요하여튼 정말로 추천해주고픈 제품이예요 단지 택배를 보낼때 비닐에 넣어져서 오다보니 상자가 약간 찌그러져 왔는데 그부분이 조금은 아쉽네요 오란다가 말랑해서 제품에는 이상이 없지만 그래도 안찌그러진채로 받았음 좋았을거 같아요 안녕하세요 내돈내산으로 먹어본 실제 후기입니다제품명 우주오란다 말랑말랑 플레인 강정 g 개제품주문일자  배송완료일자  솔직후기별점부모님께서 예전에 어디론가 여행을 가셨다가 오란다 강정을 드셨다고 하시는데 그 맛이 자꾸 기억이 나고 다시 꼭 먹어보고 싶다고 하셨어요 저는 그래서 그 강정을 열심히 찾아보게 되었어요 근데 그 오란다 특징이 과하지 않게 달고 엄청 말랑말랑하고 부드러웠다는점 그걸 기억하며 찾아보는데 이 제품 후기랑 제일 비슷했어요 그래서 바로 구매 우주 오란다 강정 먹어본 후기 제가 생각하는 강정은 되게 딱딱하고 먹을때마다 입안이 아파야했던 기억이 있는데 강정이라고 해서 다 그런건 아니였나봐요 이 강정은 진짜 말도 안되게 부드럽고 입안에서 살살 녹는 느낌이에요 강정을 가로로 들고있으면 아래로 휠 정도에욬ㅋㅋㅋㅋ낱개로 포장되어있어 먹기가 정말 편했고 위생적으로도 안심이 되는 느낌이였어요 대량포장이 아니여서 공기중에 노출될 일도 없어요 매번 봉지에 먹고 남은 양을 밀봉해 두는 불편함을 감수하기 보단 낱개 포장이 최고 다른 지인분들한테도 나눠 드릴 수 있다는게 장점 요즘 시대에 음식을 손에서 손으로 옮기는건 조금 그래요망할 코로나이왕 사는거 개 구매했어요 당시 제일 저렴하기도 했구요 다 먹어 갈 때쯤에 또 구매할 예정이에요 이제는 추억의 음식 간식거리라고 할까요 한번쯤은 생각나는 그 맛 오란다 강정 꼭 구매해서 드셔보세요 맛있어요저의 구매 후기가 합리적인 소비를 할 수 있게 도움이 되셨으면 좋겠습니다제품을 구매하시는데 도움이 되셨다면 도움이 돼요 버튼 한번 부탁드리겠습니다 구매후기 주문일 년 월 일 목요일배송일 년 월 일 금요일 계기 옛날 과자 종류를 너무 좋아해서 많이 시켜먹는데 저번에 오란다 과자를 여기서 시켜 먹어보고 너무 맛있어서 재구매 했어요재구매 했는데 저번에는 작은거 시켰다가 금방 먹어서 요번에 큰거로 사봤습니다양이 엄청 많지만 개별 포장 되어있어서 눅눅하지 않게 오래 먹을 수 있어요하지만 오란다를 좋아해서 금방 동날거 같아요배송 역시 믿고 쓰는 쿠팡 로켓 배송입니다 배송이 엄청 빨라서 좋습니다기다리지 않아도 되서 좋아요 추천 여부저번에 시켜서 먹었을때 너무 새로운 맛이라 주변에 추천했어요왜냐면 너무 폭닥폭닥하니 말랑말랑 부드럽고보통 오란다는 너무 딱딱해서 씹어 베어물때 이게 무리가 가고 씹을때마다 힘들었는데 이건 너무 부드럽고 살짝만 힘 줘도 부드럽게 접어지기 때문에 손으로 갈라서 집어먹기도 좋아요 양이 엄청 많은데 박스에 구멍이 나 져 있어서 그 구멍으로 한 두개씩 빼먹으면 되니깐 보관할 때도 예쁘게 보관 할 수있구요 가방으로 만들어서 손잡이 만들수도 있네요아무튼 부드러운 맛이 제일이고 맛도 바삭하니 맛있어서 진짜 하나만 절대 못먹고 계속 손이가서 살찔거같아요 큰일 났어요개별 포장 되어있어서 가방에 넣고 다니다가 주전부리 먹고싶을 때 먹으면 되니까 갖고 다니기도 좋고 금방 다 먹어버릴거 같네요 말랑말랑 우주 오란다 만쉐이 할머니가 드시기에도 좋았어요 새해가 시작한지 얼마되지 않은거 같은데벌써 가정의 달인 월이 다가오는 요즘이네요미리미리 할머니댁에 방문하려고 ㅎㅎ할머니 좋아하시는 말랑한 오란다도 준비했지요 말랑말랑 오란다는치아가 약한 우리 할머니도 오물오물 쉽게 드실수 있는 맛있는 오란다에요 마트에서 판매되는 오란다는 과자에 가까워서 제가 먹기에도 불편해요바삭함은 좋은 먹고나면 입천장이 까지는 건 휴우 너무 싫잖아요우주오란다는 몇번 구매해도 만족스러워서할머니댁에 가져갈 간식으로 딱 좋겠더라구요  먹기 쉬운 간식 추억을 생각하는 어르신들께도 가볍고 간편함을 좋아하는 아이에게도 어른들의 간식으로도 개씩 개별포장되서 굿 작지않은 개의 사이즈 달달하면서 부드러워서 또 먹고 싶은 맛 나이가 점차 들어가면서벌써 저도 옛 추억을 되새기는 나이가 된걸까요어린시절에 먹던 이런 간식류를 보면 괜스레 반갑게 느껴지더라구요 ㅎㅎ세상이 문화가 점점 발전하는게 느껴지면서도 추억이라는 맛은 잊혀지지 않는 기억의 한 조각인거 같아요 예전과는 다르게고급스러운 포장지도먹기쉽게 만들어주신 정성도빠른 배송도 감사감사요더 큰 갯수는 선물박스도 가능하지만그래도 할무니의 건강을 생각해서 작은박스로 가져갔더니 ㅎㅎ너무 좋아하시고 잘 드셔서 너무 감사했어요 다음에는 더 큰박스로 보내드려야할듯합니다 ㅎㅎ다가오는 월 가정의 달소중한 분들에게 좋은 선물로 드리는건 어떠세요달달구리구리하면서부드러운 오란다 맛이 일품입니다  τнänκ чöü ᰔ 말랑말랑 부드러워요믿을수있는 국내생산위생적인 개별포장달지않고 맛도 굿 우주오란다 말랑말랑 플레인 강정아는 동생집에 놀러갔다가 맛있다고 해서 처음 먹어봤는데 너무 맛있더라구요먹고나서도 계속 생각이 나서가족들도 같이 먹을겸 제일 큰 사이즈로주문했어요아이들이 과자를 워낙 좋아하지만 시중에서 파는것들은 너무 달고 짜고해서 이왕이면 좀 더 건강한과자를 맛보여주고 싶어서 제일 큰걸로 픽딱딱한 강정이아닌 말랑말랑한 식감이에요너무 달지 않아서 먹기에도 부담이없고 많이 먹어도 질리지 않고 고소해요시중에서는 파는것도 많이 먹어봤는데 이렇게 맛있는 오란다는 없었던것같아요이가 약하신 어른분들도 잘드실수있을정도로 말랑말랑 부드러워요 아이들도 먹어보더니 맛있다고 한자리에서 개가까이를 먹네요ㅎ역시 큰걸로 사길 잘한것같아요먹다보니 부모님 생각이나네요딱 어르신분들도 좋아하시는 맛담번에 내려갈때 부모님것도 주문해서내려가서 맛보여드리고 싶네요진짜 맛있어요총평 지금도 오란다와 커피 한잔하는데커피랑도 너무 잘 어울려요이에 달라붙지 않고 딱딱하지 않아 좋구요먹으면 먹을수록 고소한맛이 올라와요시중에서는 맛볼수 없는 천연간식 느낌이라 너무 만족해요개별포장이라 아이들과 외출시에도 챙겨갈수있어 좋고 아이들도 너무 잘먹어서 너무 잘산것같아요 딱딱하지 않고 말랑말랑해서 더 맛있는 오란다 강정 구매이유 평소에 오란다 자주 먹는편인데요 시중에서 파는 걸로는 아이들 간식으로 주기에 좀 별로더라구요 딱딱히기도 하고 너무 달기도 해서 부담스러운데 우주 오란다는 많이 달지 않고 말랑말랑해서 아이들 간식으로 주려고 구매했어요  취향저격아이들이 엄청나게 좋아하는 우주 오란다 입니다 많이 달지 않고 말랑말랑하니 입에서 살살 녹는 맛때문에 아이들이 간식으로 너무 좋아해요 제 생각에는 아이들 뿐만 아니라 이가 안좋은 저희 할머니도 좋아하시면서 드실 것 같네요  휴대성개별포장 되어있는 우주 오란다아이들 간식으로 챙겨서 다니기에 너무 안성 맞춤이구요 이제 점점 더워지는데 땀 많이 흘리면 당 떨어지거든요 저도 당 떨어질때 하나씩 가지고 다니면서 먹으면 한개로도 충분하게 영양이 채워져요 커피랑 먹으면 디저트로도 아주 좋아요 영양사 사장님영양사가 직접 만드는 우주 오란다 특이하게도 영양사 사장님이 만들었다고 하더라구요 그래서 그런지 더 믿고 먹을 수 있겠다는 생각이 들었어요 위생적인 부분까지 세밀하게 신경 쓴 사장님의 작품이네요 선물용호불호 없을 것 같은 우주 오란다 선물용으로도 정말 좋습니다 명절에 부모님과 지인들 선물로도 좋구요 아이들 있는 집에 선물하기에도 아주 좋네요 도움이 되었다면 도움이 돼요 를 눌러주세요감사합니다 여러분 안녕하세요 벌써 설 연휴가 코앞에 다가왔어요 혹시 아직까지 부모님댁에 가져갈 선물 주문 못하신분 계신가요또는 이미 선물을 준비하셨어도 가볍게 남녀노소 모두 즐길 수 있는 간식선물을 추천해드리려고 합니다ㅎㅎㅎ바로바로오늘 시키면 내일 도착하는 로켓배송 가능한우주오란다 입니다내돈내산 진심으로 추천하는 제품이에요ㅎㅎㅎ딱딱하지 않고이에 달라붙지 않고너무달지 않고씹을수록 고소한 맛한번 먹으면 멈출수없는 맛이에요개들이 박스로 구매하시면손잡이가있어 선물세트로 개들이 추천드립니다한번에 개는 앉은자리에서 뚝딱 먹어요ㅎㅎㅎ그리고 개들이가 개당 가격이 가장 저렴해요부모님댁 시부모님댁에 가져가려고 산건데몰래 하나 꺼내서 출근길 차안에서 먹어봅니다윗부분이 톡 뜯어져서 이렇게 포장지 밑부분을 잡고 먹으면 편하지요딱딱하지 않고 엄청 부드럽고그렇다고 이에 막 달라붙는 맛도 아니에요말랑말랑하면서 쫀득거리는 식감이 넘 맛있어요씹으면 씹을수록 고소하고 약과같은 맛이 났어요어른들이 엄청 좋아하실 것 같은 맛이에요어른들 뿐만아니라 남녀노소 모두혹시몰라 한세트만 샀었는데쫀득 달콤 부드럽게 맛있어서다음날 또 주문했어요로켓배송이라서 아침에 시키면 저녁도착저녁에 시키면 다음날 새벽에 도착합니다ㅎㅎ설선물로 부모님댁 시부모님댁 가져가면다들 엄청 좋아하실것같아요얼른 선물드리고 저도 같이 까먹고싶네요내돈내산 진심으로 꼭 샀으면 하는 제품이상으로 저의 후기를 마치겠습니다  항상 건강하시고 행복하시고 바라는 일 모두 잘 되시기를 바랄게요저의 후기가 도움이 되셨다면도움이 돼요 버튼 꾸욱 눌러주세용 치아에 달라 붙지 않고 딱딱하지 않아요개별포장이 되어있어서 휴대하기 좋아요손잡이가 달려있어서 선물용으로도 좋아요남녀노소 누구나 좋아할 만한 과자예요구매일 월 일도착일 월 일옵션 개구매동기딱딱하지 않고 치아에 무리가지 않는 오란다를 선호하는 편이에요가격도 저렴하고 개별포장된 우주오란다를 구매해보았어요사용후기카페에서 파는 고급 수제오란다 맛이 나요너무 달지 않은 편이라 제 입맛에 딱 맞았어요시장이나 마트 오란다는 딱딱하고 이에 달라붙는데우주오란다는 겉은 말랑말랑하면서 과자는 바삭바삭해요치아에 달라붙지 않고 부드러워서 손으로 알갱이 하나하나 다 뜯을 수 있어요개별포장이 되어 있어서 휴대하기 좋아요가방에 넣고 다니다가 배고플 때 하나씩 꺼내먹으면 딱이에요넉넉한 용량의 개입으로손잡이가 달린 선물상자모양을 포장이 되어 있어서 선물용으로 좋아요박스앞에는 하나씩 꺼내먹을 수 있는 구멍이 있어요그것만 뜯으면 박스 열지 않고 꺼낼 수 있어서 좋아요하나 뜯으면 또 뜯고 뜯고 손이 계속 가는 과자네요아메리카노 둥굴레차 작두콩차 허브티 등등의 차와 잘 어울려요카페에서 파는 오란다는 가격이 비싼데이건 개당 천원도 안하는 가격이니 찐혜자네요오란다 좋아하시면 추천드릴게요 주문 일자     베송 일자    구매 이유오란다가 갑자기 너무 먹고 싶은데 집근처에는 마땅히 파는곳이 없어서 쿠팡에서 검색해서 주문하게 되었어요 지금까지 먹어본 오란다는 봉지안에 적당한 사이즈로 있는 걸로만 보다가 사진을 보니 한번 먹을수 있게 개별 포장되어 있어서 눈길이 갔던거 같아요 그런데 말랑말랑 플레인 강정이라고 써 있는데 어떨게 오란다가 말랑말랑 할수 있지 하는 불신감이 생겼지만 그래도 혹시나 하는 마음에 주문하게 되었어요구매후기 및 장단점우선 받자 마자 하나를 뜯어서 먹어봤어요 뜯으면서 정말로 말랑말랑하다고 하면서 한입 먹었는데 아니 왠걸 이렇게 말랑한 오란다가 있다고 게다가 맛은 이제까지 먹었던 오란다와는 너무 달랐어요 예전에 내가 먹었던건 뭐지 하나 먹으면 이빨 부러질거 같고 너무 끈적거려서 불편하고 턱이 아팠지만 그래도 그 단맛이 좋아서 먹었던 것과는 너무 다르더라고요 가격도 개짜리를 사야 하나 가격이 저렴해져서 산거였어요 원래 제가 좋아하던거라 다른 가족중에서 저만 먹을거 같아서 개를 언제 다먹지 하고 고민하고 산건데 왠걸 아이들이 하나둘 먹더니 퇴근하고 와서 남편까지 가세해서 먹게 되니 금방 소진이 되네요ㅎㅎ아이들이 언제 이거 다 없어졌냐고 아쉬워 하던데 저역시 아쉽더라고요 아무래도 조만간에 다시 구매해야겠어요후기에서 극찬을 하길래 어느정도길래 그러지 싶었는데 이건 직접 사서 먹어봐야 설명이 돼요지금까지 내돈내산 솔직한 후기였어요 도움이 되셨다면 도움이 돼요를 눌러 주세요 말랑말랑 오란다 ー 맛있는 재구매 ノ 부드럽고 말랑말랑한 오란다여서 어른들의 간식용으로 좋은 오란다에요 워낙에 간식주전부리를 좋아하는지라 이런 오란다 너무 좋아해요가끔 마트에서도 판매해서 먹어봤는데시간이 지나면 너무 딱딱해져서 먹기 불편했는데 우주오란다만큼 저를 만족시키는 오란다를 아직 못만났어요  우주오란다는 수제강정 말랑말랑 플레인 강정 부드러운 강정 무설탕으로 만든 강정 위생적인 낱개 포장 어른 아이 간식용으로도 OK 어른들에게는 추억의 간식 깔끔 포장으로 선물용으로도 OK 맛있는 간식주말아침을 늦게 먹은 탓에기분좋은 티타임에 어울리는 간식으로는 오란다부드러운 카페라떼 한잔의 여유와 부드럽고 말랑거리는 오란다손바닥 크기만한 오란다여서 생각보다 작지않아서 더 좋음 히힛딱딱하거나 푸석하지 않은 오란다여서 개는 너무 순삭개째부터는 조금 여유롭게 먹는다랄까요 ㅎㅎ너무 단 음식은 먹고난 후에 혀의 바닥에 단맛이 너무 많이 남아서 식후의 기분이 별로 좋지 않은데인공적인 감미료가 불포함되서 그런가요입안도 깔끔하니 개운해서 기분좋은 달콤함이 참 좋았어요 단맛이 없는 기본 카페라떼와말랑말랑 우주오란다가 의외로 잘 어울리는 맛있는 조합이였어요개씩 개별포장되서아이들 학원가는길에 개씩 주머니에 넣고 다녀도 굿 내입맛에 맞고 건강하고 맛있는 간식으로 최고인 오란다 잘먹었어요맛있게 먹고 또 구매하러 올께요  말랑말랑 오란다여서 어른들께 선물로도 아주 좋은 오란다에요   τнänκ чöü ᰔ 딱딱하지 않고 부드러움 치아에 달라붙지 않고 입천장이 까지지 않음 개별포장으로 위생적인 섭취 가능 예쁜 패키징으로 선물용으로 좋음                            우주오란다 말랑말랑 플레인 강정 g 개는요                           왜샀나면요                        오란다 귀신 그게 바로 저에요오란다 정말 너무 좋아하는데 맛있는 오란다 찾는게 너무 어려워요어떤거는 너무 딱딱하고 어떤거는 부드러운 대신 치아에 다 달라붙고ㅠ 그래서 내가 만들어 먹어보자 하고 만들었더니그 맛있는 오란다 맛이 아니라 정말 건강하기만 할것같은 오란다맛그래서 여기저기 오란다 간보러 다니던중 발견한 우주 오란다                       써보니까요                        진짜 부드러워요길쭉한 오란다를 손으로 쪼갤때부터 부드럽게 쪼개지는게 심상치않더니 진짜 너무 부드러워요 딱딱함은 전혀없고 부드러운데 겉은 또 바삭해요이런게 겉바속촉의 정석인가봐요 왜 말랑말랑 플레인인지 알것 같아요                       깔끔하게 먹을수 있어요말랑말랑 부드럽지만 신기하게 치아에 달라붙는게 하나도 없어요보통 부드러우면 치아에 달라붙고 딱딱하면 입천장이 까지는데이건 달라붙는것도 없고 입천장도 안까져요정말 신기한 오란다에요                        개별포장이라서 좋아요낱개로 하나씩 개별로 포장이 되어있어서 마지막 하나까지 위생적으로 먹을수있어서 좋아요하나씩 가방에 넣어 가지고 다니면서 먹고 싶을때 꺼내먹기도 너무 좋구요근데 사실 이거 너무 맛있어서 앉은자리에서 가족들이랑 전부 다 까먹어버림                        패킹징이 예뻐서 선물용으로 좋아요그냥 포장 박스 자체도 너무 예쁘고 개별포장도 고급져서 선물하기 딱 좋아요특히 어르신분들 오란다 좋아하시는데 치아가 안좋으신분들도 이거는 드실수 있을정도로 부드러워요 어르신 선물용으로 왕추천이에요                                                                실패할까봐 개짜리 산거 너무 너무 후회하는중 먹기 좋은 낱개 포장 말랑말랑한 플레인 디저트로 간식용으로 좋은 제품 무엇을 상상하든 그 이상의 오란다 우주오란다 말랑말랑 플레인 강정 g 개  구매일시  구매동기 지난번에 사먹었는데 그 맛을 잊지 못해서 참고참다재구매했습니다 다이어트해야 하는데 이렇게 행복하게 맛있으면칼로리 맞죠ㅋㅋ 따님 하원시키고 놀다 들어오는 길에 택배 확인하고 따님 저녁밥 챙겨주면서 옆에 앉아 하나 둘씩 먹었는데 금새 개 사용법 여러가지 음료 디저트 등과 곁들이거나 단독으로 맛있게 뇸뇸_ 먹어준다 냉장보관시 좀 더 맛남 혹은 저처럼 순삭시키시면 됩니다 사용 후 평가 유통기한이 기네요 어짜피 이틀 못 넘기지 싶어서 크게 상관 없는 부분이지만 다른 구매자 분들 참고 하시라고 사진 올립니다ㅎ 정말 맛있어요 입천장 까지는 그런 오란다 아니구요입에 넣거나 손으로 힘주면 부드럽게 알알이 흩어지는ㅎ 쩍쩍 붙지도 않고 너무 좋네요 재재재구매를 부르는 맛입니다 총평  오란다 좋아하시는 분들 여기에요 여기 맛있고 부드러운오란다 요기 있어요 건단한 식후 디저트 찾이시는 분들 진짜 진짜 맛난 오란다를 찾는 오란다인들에게 추천합니다오늘도 만족스러운 쇼핑에 행복한 진지한언니입니다저의 리뷰가 제품의 선택에 조금이나마 도움이 되셨다면   도움이돼요 꾸욱 부탁드립니다 눌러주신 분들께 미리 감사의 말씀드립니다쿠팡에서 좋은 상품 알차게 쇼핑하시고 좋은 하루되세요 우주오란다 말랑말랑 플레인 강정      누가 오란다를 어르신 까까라 하는가  우리모두의 국 민 까 까 우주오란다      우쥬오랑이  선물하면 맛있다고 연락오는 우리 오란다  달콤 살벌 부드러운 수제 오란다  말랑 촉촉 바삭 쫀쫀 추억의 오란다  우리가족 최애간식 우주 오란다   우주 오란다 구매한 이유는요 옛날과자를 좋아하기도 하지만 오란다는 어릴때 입천장 다 까지면서도 좋다고 먹었던 추억의 까까거든요 엄마가 그만 머그라하면 먹고싶은데 못먹게하는 엄마가 미울정도로요 ㅋㅋㅋ어릴때 먹었던 오랑이는 엄청 딱딱하고 찐득찐득 쩝쩝 치아에 달라붙고 조금씩 베어먹어도 입전체가 다 까질 정도 였었는데요 물론 그래도 맛있었지만요  우주의 오란다는 추억의 맛 그대로를 유지하면서도 보들보들 촉촉 말랑말랑 바삭바삭 ꔛ한층 더 업그레이드 된 깔끔한 추억의 맛이라 계속 생각나는것 같아요 솔찍히 요즘 다른과자들 이것저것 많치만 굳이 우주오랑이를 고집하게 되는데는 다 이유가 있는듯  우주 오란다는요한조각 한조각 정성가득 특별한 맛을 영양사인 사장님께서 직접 만들고 판매까지해 건강하고 품질좋은 수제오란다를 착한가격으로 만나볼수 있다능  우주 오란다 맛이요 에잇 말해 뭐합니까만 다들 아시잖아요 오란다의 맛은 그러나 우주오란다 는 우주오란다만의 특별한 맛이 있는데요 ᴗ달달 쫀쫀 촉촉에 바삭함까지 요런조합 보셨나요 어쩜 요래 맛과 식감을 표현할수 있는지 한번맛보면 헤어나올수 없는 우주오랑이만의 매력우주 오란다만의 매력 덩어리저는 부드러운 오란다와 함께 할 짝꿍으로 믹스커피를 선택했는데요왠지 더 옛 추억이 떠오를듯 하더라구요 오랑이 한입에  커피 한모금ꔛ 극락 가좌아ᗜ 여기서 잠깐 우주오란다를 아직 맛보지않은 분들  오란다에 대한 잘못된 오해를 바로 잡아볼까요 오란다는 딱딱하다고요  아니쥬 NO NO부드럽고 촉촉한 우주오란다는 딱딱하고 찐득거려 이가 빠질듯한 옛날 오란다 절대아니구요 어디에 보관해도 부드럽게 씹혀 아이들과 어르신들 모두 먹기좋답니다  오란다는 너무 달다구요 아니쥬 NO NO우주오란다는 수제 강정인거 알고계시죠맛을 보면 인공적이고 인위적인 단맛이 아니구요 ᴗ물엿이나 조청등 건강한 달달함이 느껴져 아무리 먹어도 물리거나 질리지 않네요 진짜 누가 옆에서 말리지 않으면 한박스 다먹을것 같아요 ヾﾉ 우주오란다 어떠냐구요 맛을 보기전엔 옛날과자 포장상자가 너무 고급스럽고 예뻐서 놀랬거든요 ꯁꯁ옛날까까들을 좋아해서 많이 주문해서 먹지만 ꔛ거의 큰 지퍼백이나 봉지안 투명비닐에 담겨있었는데요오랑이는 고급진 단상자에 하나하나 맞춤된 개별포장들이 먹기도좋코 위생적이기도 하지만 그 정성스러움이 느껴져명품 과자를 먹는듯한 기분이 들더라구요 ꯁꯁ 포장 패키지까지 완벽해서 감사한 지인분들께 선물하거나 답례품으로 마음을 전해드리면 너무 좋을듯 싶어요 ჱ ｰｰ 또한 어릴때 먹었던 그 추억의맛을 변형시키거나 잃지 않고도 더욱 먹기좋고 순수하게 그냥 맛있다 음 맛아 바로 이맛이지이 말이 먹다보면 자연스럽게 나오게되는데요 ᗜ다른 추억의 음식들이나 과자들 지금 나오는거 보면 무슨맛 무슨맛 이상하게 변형시켜놓고 어릴때 먹었던 그 추억의 맛이 어떠했는지 전혀 떠오를수 없게 만들어 놨더라구요 ᵕᵕ우주오랑이는 변치않는 옛 추억과 순수한 오란다만의 고유의 맛을 지켜내주어서 고맙기도하고 그로인해 더욱자꾸자꾸 찾게 되는것 같아요 ᗜ남녀노소 아이 어른  호불호없는 국민간식 추억의 우주 오란다 요건 꼭 드셔보시길 추천드려요 좋은 간식 감사합니다 ᗜˊᗜˋᵗʰᵃⁿᵏ ʸᵒᵘˊᗜˋᵗʰᵃⁿᵏ ʸᵒᵘˊᗜˋᵗʰᵃⁿᵏ ʸᵒᵘ  도움 꾸욱   O   o ˑ     ˑ   ᴗ   ო 위생적인 개별포장이 깨질 위험 없음아이들도 잘 먹음선물용으로 굳  구매동기우리집에 오란다 귀신이 살고 있음 마트 오란다 말고 수제 오란다라 하면 신나할 것 같은 얼굴이 그려져 사봤어요시식후기 촉촉한 오란다잡았을때 휘어지는 오란다 처음봅니다 마트에 봉지에 담긴 오란다는 과자계의 강력한 벽돌 스낵이었는데 오란다의 편견을 깨지게 해주었어요개별포장된 오란다 껍질을 벗기니 오란다가 휘청거리더라구요  처음 겪어보는 오란다느낌이라 좀 신선했어요 그렇다고 바삭거리지 않느냐아뇨  바삭바삭 식감 좋아요  단맛도 엄청 인위적이게 느껴 지지 않아 이것이 수제오란다구나 싶더라구요쫀득쫀득 말랑말랑하며 바삭함까지 갖춘 신기한 오란다오랜 추억이 생각나는 그 오란다 맛이 맞아요 개별포장적당한 사이즈로 개별포장 되어있어 아주 위생적이게 느껴졌어요오랫동안 보관도 가능하겠어요 하나씩 가지고 다니기도 좋아요 회사에 몇개 들고가서 커피랑 먹어야겠어요무설탕조리 K  디저트달달하고 맛있는데 무설탕 조리 된 오란다라네요요즘 우리나라 디저트가 인기인데요  약과나 주악과 함께 K 디저트를 이끌어나갈 플레인강정 오란다 되시겠습니다 이빨에 단단하게 달라붙는 그 오란다 아니예요 얼마전 아는 지인이 오란다 먹다가 이깨져서 치과치료 하고 왔다했는데 이 오란다는 이깨질일은 없겠어요 바삭한 식감은 좋으면서 부드럽고 촉촉해서 아주 괜찮네요한자리에서 세개나 까먹었어요아이도 한입 먹어보고는 엄지척 하더라구요 옛 과자 강정좋아하시는분들께 괜찮은 선물이 될 것 같아요  도움이 되셨다면 도움이돼요 눌러주세요감사합니다 ෆᵕෆ ﾟﾟ ﾟ ﾟ ﾟ 수제오란다 좋아해서 집 근처 카페에서 종종 구매하는데 가격대비 크기가 좀 작고완전 밀봉포장이 아니라 오래 보관해서 먹기엔 좀 어려움이 있어 온라인으로 구입하게 됬어요개개개 선택이 다양한데 보관해 두고 먹으려고 개 선택했는데 정말많네요ㅎㅎ개입 같은 경우 손잡이가 달린 포장상자로 패키지도 예뻐서 선물용으로도 괜찮을듯 싶어요오란다 하나하나 밀봉 개별 포장되어 있어서 깔끔하게 하나씩 꺼내 먹기에도 좋고 바쁠때 휴대해서 차안에서 간식으로도 먹기 딱 좋아요ㅎㅎ딱딱해서 입천장 다 까지는 오란다가 아닌 바삭한데 몰캉말랑 촉촉한 오란다예요부드러워서 입천장 까지지도 않고씹어 먹어도 치아에 달라붙거나 치아에 남지않아 너무 좋음바삭한 식감은 좋으면서 부드럽고 촉촉하고 과하게 달지 않아서 더 맛있는것 같아요오란다 사먹어 보면 인위적인 단맛이 너무 강해서 두개 먹다보면 물리고 입안에 텁텁한 단맛이 남아서 별론데 이건 세상 깔끔하네요단맛 자체도 은은해서 부다없이 먹기 좋고 입안에 남는 텁텁함이 전혀 없이 깔끔해서 자꾸 손이 가요시원한 아이스 아메리카노에 간식으로 먹으니 증맬루 맛있음아이도 간식으로 주니 맛있다며 두봉지는 순삭이네요맛있는 오란다 찾으시는 분들께적극추천입니다 ﾟﾟ ﾟ ﾟ ﾟ 거짓말 조금 보태서 월급 반정도 간식으로 지출되는 간식러버입니다옛날과자중에 오란다소라모양과자김고소아를 제일 좋아하는데요간식 검색하다가 오란다가 개에 만삼천원대에 할인가로 엄청 저렴하게 올라왔길래 바로 구매했어요 오란다가 원래 어떤 제품들은 호박씨같은 견과류가 박혀있는것도 있고 엄청 딱딱한 제품들을 많이 봤었거든요 일단 견과류 없는것도 좋았고 딱딱하지않고 너무 부드러운거 있죠교정하고 있어서 딱딱한 음식 진짜 엄두도 못내는데 뭔가 폭신폭신하게 씹히고 물엿과 조청이 듬뿍 묻혀 코팅되어있는데도 많이 달지도 않고 이에 달라붙지도 않고 너무 맛있어요ㅠㅠ개별포장되있어서 들고다니기도 편하고요_한자리에서 개씩 까먹고 자제중입니다옛날과자 좋아하는 친구한테 영업중간식값이 너무 나가서 걱정이라 딜 자주 떳음 좋겠어요 흑ㅠㅠ 어릴적에 먹던 오란다는 너무 딱딱해서치아도 턱관절도 아파서 못먹었는데최근들어 약과 개성주악등등 옛날과자 간식들이 땡겨서 사먹다가우연히 쿠팡에서 우주오란다를 발견했어요이름만 보고 딱딱하겠지 하고 안살려다가후기를 보니 딱딱하지않고 단맛이 덜하다라는 리뷰가 많아 구매했습니다요즘 레트로가 핫해서 그런지 박스부터포장까지 너무 귀엽더라구요개별 포장이라 위생적이고 밖에 나갈때간편하게 챙길수 있어 편리하더라구요치아에 찐득하게 붙지도않고적당히 단맛이 담백해서기름기도 별로 없는듯출출할때 한개씩 먹기 좋아요유통기한도 생각보다 길어서 오래 두고먹을수 있고박스포장부터 훌륭해서 선물용으로 좋은것같아요귀여운 박스포장위생적이고 간편한 개별포장적당히 달달하고 단백한맛치아에 진득하게 붙지않음 구매이유확신의 최애간식입니다한번 먹어보고서는 n번째 사먹는 중이예요특징 및 장점 확신의 최애간식거의 아침에 눈떠서 저녁에 잠들기 전까지 개 이상은 까먹는듯원래 최애가 초콜릿이긴했는데 한단계 낮췄습니다그나마 예전 나을것같아서예전 딱딱하고 이에 달라붙던 오란다들이랑 달리 말랑하고바삭바삭하고 크기도 딱 한회차 군것질 한봉으로 딱이예요거의 무한대로 떨어질때마다 사먹는듯가격은 좀 있지만 그래도 후회없는 선택이예요제 리뷰가 도움이 되셨다면  도움이 돼요  눌러주시면 더 많은 리뷰 작성에 도움이 됩니다   ෆᵕ ෆ 우주오란다 말랑말랑 플레인 강정 g 개  낱개 포장으로 오래도록 바삭한 식감 유지와 위생적 아날로그 갬성을 담은 포장재 선물용으로도 손색없는 바삭한데 말랑한 식감오란다를 좋아해서 자주 사 먹는 편이에요그런데 오란다 단점이 맛이 있는데 딱딱하거나 먹다 보면 입 천장 부분이 상처가 나거나ㅠㅠ이런 일이 있더라고요그런데 우주 오란다는 참 신기하네요 씹을땐 바삭 한데 말랑해요 그래서 전혀 이에 무리가 없고 입 천장에도 상처가 안나더라고요그리고 아주 달지도 않고 적당한 단맛이에요하나씩 낱개 포장 되어 있어서 가방에 들고 다니면서 먹기 좋고 위생적으로도 좋아요특히 과자의 특성 상 공기에 노출되는 시간이 길면 눅눅해지는데개별 포장이라 전혀 그런걸 걱정안해도 되네요오란다가 옛날 간식이라 그런지 전체적인 포장 디자인이 옛날 갬성이에요그게 좀 센스가 돋보인거 같아요좀더 많이 들은 건 포장상자가 다르다고 써 있는데이제 설날인데 선물용으로도 손색없겠어요가끔 어린이 집에 낱개 포장된 간식들을 보내서 선물로 주는데이걸로 보내도 아이들이 좋아할 거 같아요딸도 맛있어서 잘 먹더라고요앉은 자리에서 세개 순삭 했네요맛있어서 두고 먹을 것도 없이 그냥 한 상자 순삭 했어요굿굿많이 파세요 전에 먹던건 이에 들러붙고 딱딱해 입천장 다 까져서이번에는 말랑한걸로 주문했죠 말랑하니 부드러워요오란다 먹어본들이라면 한입 깨물어 먹었을뿐인데입천장까지고 이에 들러붙어서 씹지도 못하고 게다가 부스러기까지요건 확실히 전에 먹었던 종류들과 다르게바삭하고 부드럽게 씹히는 그 중간이라 이도 안아프고 자꾸 손이 가는거 있죠 호불호없는 달고 고소한 맛달달한 과자를 싫어하는 남편도 하나 먹어보더니생각한것보다 달지 않고 고소하다면서 혼자서 개를 먹는거에요뭐라고 했더니 더 주문하라네요적당하게 달콤하고 고소한 맛에 이에 들러붙지 않으니까이가 약한 어른들이나 아이 간식으로도 딱이에요 개별포장되어 휴대하기에 좋아요물엿과 쌀조청으로 만들었기 때문에 손으로 잡고 먹으면 끈적거려지는데한개씩 포장되어 깔끔하게 먹을 수 있고 휴대해서 간식으로 먹기에 부담없죠 아이는 우유에 저는 커피에 오란다를 간식으로 먹어도 좋고부드럽다보니 알알이를 뜯어서 플레인 요플레에 토핑하니 디저트같은게 고급져보이네요오란다 개를 주문해 택배받은날 남편 저 아이랑 개를 먹었더니지금 다 먹고 남은게 없어서 추가 주문하러 갑니다ヽﾟﾟノ 대주부이자 개월 아이를 육아중인 맘이예요 아이땜시 말랑한 오란다를 접하고는찾다가 번째 구매입니다그냥 말캉말캉한게 아니라 찐득찐득하고 쫀쫀하게 말랑거려요 딱딱한것은 맛있긴하지만 딱딱하고입천장 다 까져서 먹음 후폭풍이 ㅠㅠ이건 너무 좋아요상온에 두면 말캉말캉하게 먹을수있구요냉장보관은 약간 딱딱해져서 그것도 맛있어요냉장보관한다고 그 시중에 파는 오란다처럼 엄청 딱딱해지지도 않아요당분간은 계속 구매해서 먹지 싶어요 대주부이자 개월 아이를 육아중인 맘이예요 몇번째 구매인건지아이가 달달한거 땡길때면 오란다 오란다노래를 부르는통에 계속 구매중아 나도 먹고싶은데 나까지 입을 보태면택도 없어서리 참습니다 ㅠㅠ서글퍼라왜 우주오란다인지 알겠어 최강입니다 중독적이다말캉거리는데 쫀쫀하고 알알이 살아있고첨엔 그냥저냥인데 계속 먹다보면 헤어나오기 힘들어유 ㅎㅎ 우주오란다 말랑말랑 플레인 강정 상품평입니다 우주오란다 특징 말랑말랑하고 정말 부드러우 강정 요거트 커피와 잘어울리느 우주오란다 보관환경에 따라 식감차이가 있어 재밌는 맛 낱개 포장으로 위생적임 구매 동기 어렸을 때 먹었던 간식 중에 기억에 남는 제품이바로 오란다 강정인데요군것질을 좋아해서 집에 간식테이블도 채울겸너무 달지 않고 바삭한 식감에 우주오란다를 먹어봤어요 후기시간이 지나도 딱딱해지지 않아서 아이들 부모님간식용으로도 두고 먹기 좋더라구요부드럽고 말랑말랑한 우주오란다는 직접 제조와직접 판매로 맛과 가성비까지 갖춘 제품인데요말랑하고 쫀득해서 쉽게 손으로 분리가 될정도고치아가 약해도 맘껏 맛있게 먹을수 있겠더라구요커피 마실때 다과로 내기에도 좋고 아이들은우유랑 같이 먹어도 괜찮아요하나 먹다 보며 어느새 또 하나를 꺼내 든 모습을볼수 있을정도로 중독성이 있는 맛이예요아이들 어른 간식으로 안성맞춤인 우주 오란다 완전 부드럽고 맛있어요 상세정보 제품명  우주오란다 말랑말랑 플레인 강정 구성  개 개 개 세트 구성 상품명  우주오란다 말랑말랑 플레인 강정 g 개요즘은 추억의 옛날과자가 자극적이지 않고 더 맛있는거 같아요시중에 파는 오란다 먹어봤는데 딱딱해서 그런지 먹기에 조금 불편하더라구요  우주오란다 말랑말랑 플레인 강정 은말랑말랑 식감을 살렸다고 해서먹어보고 싶어서 주문해 보았어요낱개 포장되어있어서 외출시 몇개 가지고 나가기에도 좋을것 같아요딱딱하지 않아서 어른들께 선물하기에도 안성맞춤일것 같아요맛있게 잘 먹었습니다 맛있어서 선물용으로도 좋아요 맛있는 말랑말랑 부드러운 오란다 만쉐이오란다를 무척이나 좋아하는데너무 딱딱한거 이제는 싫더라구요부드러운 식감과 바삭함이 동시에 있다해서 궁금해 궁금해 맛있는 장점 개별포장 바삭하고 부드러운이 공존하는 식감 쫀득하고 말랑말랑 무설탕 조리 맛있는 추억의 간식 맛있는 맛우와 진짜 부드럽고 말랑거려요한입먹자마자아 내가 찾던 맛있는 맛이 이거다 라고 박수칠 만큼 맛있었어요 대박어젯밤에도 몇개를 한자리에서 수북하게 먹었는데아침에 일어나니 ㅋㅋㅋ손이가요손이가아침부터 아메리카노랑 또 몇 봉째인줄 몰라요무설탕이라 아이들의 간식용으로도 우유랑 먹어도 맛있고 어른들의 차나 커피랑 같이 곁들이 간식용으로 좋겠는데요박스 앞쪽에 오픈문이 있어서쉽게 하나씩 꺼내먹는 재미도 솔솔 조금있으면 금방 명절인데 할머니뵈러 갈때 맛있는 간식거리 사서 가져가면 잘 드실 추억의 간식이라서 굿 기본 선물박스포장이여서 포장도 필요없고 뭘살까 고민없이 저는 이걸로 픽했습니당 명절에 가까운분들게 맛있는 추억의 한페이지가 되어있는 맛있는 오란다를 선물하는건 어떠세요  τнänκ чöü ᰔ V 말랑한 식감V 쫀득한 맛V 추억의 옛날과자V 달라 붙지 않는 수제과자추억의 옛날과자 오랜만에 생각이 나서 바로 시켰답니다말랑말랑한 식감에 달콤함과 치아에 달라 붙지 않아 먹기 너무 좋습니다 예전에는 너무 딱딲해서 천장이 까지거나 치아에 달라붙어 먹기불편했는데 우주오란다는 너무 맛있네요개별포장이 되어 있어 간식으로 챙겨먹기가 너무 좋네요부모님도 추억의 간식이라며 오랜만에 드신다고 하네요진짜 맛있는 간식으로 딱딱하지 않고 치아에 부담을 주지 않아 먹기 수월하다고 하셨어요회사갈때 가방에 개별포장된 오란다를 챙겨서 커피한잔과 곁들 어 먹으니 궁합이 너무 최고인거 같아요눅눅함 없이 바삭쫀득해 입안이 즐거워지고 있답니다중독성이 있다보니 재구매는 필수가 된듯 합니다옛추억의 간식을 아이들과 나눠 먹으며 추억 이야기도 해보고 좋은 시간 보내고 있답니다상온보관도 좋지만 저는 냉동보관후 먹기전 분 자연 해동후 먹어주니 식감이 더 좋은거 같네요선물하기에도 부담없는 추억의 오란다 호불호 없이 누구든 좋아하는 맛입니다 쿠팡 내 알고리즘에 떠서 호기심에 상품평을 보다가맛있다는 평이 많아 구매하게 되었어요어릴때 시장가면 먹던 추억이 떠올라서 제겐 소울푸드인 오란다예요 ㅎㅎ전 찐득하게 무른 오란다를 좋아합니다우주오란다의 맛은먹어보니 딱딱하지 않아서 씹을때 이나 턱이 아프지 않았어요약간 무른편이라 먹기 좋았습니다그런데 찐득이는 느낌은 덜해서 약간 아쉬웠어요무르면서 찐득여 준다면 정기구매할 의향이 있는데 말이죠찐득이지 않는 느낌때문에 전 재구매는 안할거 같아요가격적인 면은제가 오란다 시세를 잘 몰라서처음 봤을때 너무 비싸다는 생각이 들었어요그리고 이 제품은 특히 가격변동이 커서 장바구니에 넣어두고 가격이 좀 더 저렴할때 사시는걸 추천드립니다저도 장바구니에 넣고 일정도 가격 관찰하다 샀는데가격이 매일 매일 달라지더군용마치 주식보는 듯한전 게중에 조금 더 저렴하다 싶을때 샀습니다포장은 무척 깔끔하게 되어있어요박스나 비닐 디자인도 이뻐서선물하기에 좋겠어요그럼 이상 먹보의 후기를 마칩니닺 옛날과자 하면 제일 먼저 떠오르는 게 바로 오란다예요어릴 때 엄마가 시장에서 부채 과자 땅콩 과자 생강 과자랑 섞어서 사 오셨었는데저는 오란다만 쏙쏙 빼먹었던 게 생각납니다요즘 그 맛이 새록새록 떠올라서 오랜만에 먹고 싶은 생각에 구매했어요남편도 오랜만에 추억 돋는다면서 사라고 하더라고요옛날 오란다가 맛은 좋았는데 딱딱하다 보니 몇 개 먹다 보면 입천장이 까지고 턱관절도 아팠던 기억이 있음배송받고 실온에 두었다가 별생각 없이 한봉을 먹었는데 어머나 말랑말랑 부드러운 바삭함에 건강한 단맛이 느껴지면서 사르르 녹아서 먹어도 먹어도 질리지 않고 계속 먹게 되는 신기한 오란다예요이가 약한 어린이나 어르신들 치과 치료받은 사람도 걱정 없이 먹을 수 있는 오란다가 있다니 이렇게 부드러운 오란다는 상상도 못했어요자꾸만 손이 가서 남편하고 경쟁하듯이 먹었어요입천장 까질 일도 없고 때운 이 빠질 일도 없어서 안심하고 맛나게 먹었어요치아손상 노노 세상 부드러운 오란다명절 선물로도 아주 좋은 오란다 또 주문하러 갑니다 평소에 오란다를 좋아하는데 교정기때문에 딱딱한건 먹지 못해요갑자기 오란다가 너무 땡겨서 검색해보니 우주오란다가 말랑말랑 하다고 하여 구입했습니다아침에 주문하고 저녁에 배송받았어요역시 로켓배송이네요오자마자 개 뜯어서 먹었는데 진짜 말랑말랑 해요교정기에 붙을까봐 걱정했는데 붙지도 않고 말랑하고 적당히 달아서계속 뜯어먹고 있어요앉은자리에서 개 먹었네요입짜리로 샀는데 내일되면 없을거 같아요낱개포정되어 있어서 가지고 다니면서 간식용으로 먹기도 좋을거 같아요바로 몇개 더 구매해야겠어요 제가 최근에 온오프라인으로 먹어본 간식류나 과자 중에서 다 통틀어서 제일 좋은 평을 주고 싶은 그런 제품이에요 이름처럼 정말 말랑말랑한 오란다 강정이에요 식감이 너무 훌륭해서 먹다보면 두세개는 거뜬히 먹게 되는 매력이 있는 우주오란다 지난주에 배송받아서 여러개 먹어보고 만족해서 후기 남겨봐요일단 구성 자체는 아기자기한 포장상자 안에 g짜리 단품 개가 개별 포장된 상태로 들어 있어요 그래서 먹기도 깔끔하고 양도 일반 에너지바의 반 정도 되는 크기여서 적지 않다는 느낌이 들더라구요 그리고 달라붙지 않고 끈적이지 않는 강정이라는 점이 최고로 만족스러웠던 포인트였어요일단 부드러우면서도 바삭한 식감이 그대로 살아있어서 씹는 맛이 좋았고 또 우유랑 먹어도 어울리지만 커피랑도 조합이 좋더라구요 회사에도 두 상자 정도 주문해서 간식 코너에 보관해 둘까 생각중이에요 과장 없이 상세페이지 설명 그대로 말랑하고 부드럽고 맛있는 오란다 강정이에요 이건 자신있게 추천해요 저희 시어머니가 제일 좋아하는 과자예요설에 시댁에 가는길에 먹으려고 이거 사서 먹으면서 갔거든요 너무 많이 챙겨가는 바람에 개가 남아서 가방에 남겨진 오란다를 시어머니가 발견하시고 잡수시더니 너무 맛있다고 하셨어요원래 다른 과자들 챙겨가면 과자 사먹지 말고 과일 사먹으라고 잔소리하시는 분인데 처음으로 잔소리를 피해갔네요재구매라서 나름 맛있게 먹는 꿀팁을 알려드릴게요 꼭꼭 냉장고에 넣어서 보관한 다음 시원하게 만든 다음에 드세요냉장고에 보관하면 더 바삭바삭해서 식감 대박이에요투게더 아이스크림이랑 같이 먹어도 너무 맛있어요 마치 엄마는 외계인의 그 바삭한 초코볼 같은 느낌이에요옛날 과자들 안 좋아하는데 이건 텁텁하지도 않고 끊임없이 입에 들어가네요 ㅎㅎㅎ개별포장이라 운전하면서 먹기에도 좋고 아이들 유치원 갈 때 하나씩 챙겨주기에도 너무 간편하고 좋아요나이 상관없이 다들 좋아하는 맛이라 호불호 없이 누구나 먹을 수 있을듯해요다 먹고 또 재구매 의사 있습니다 넘 맛있어요 구매이유선물로 들어와서 처음 먹어봤는데 진짜 신세계였어요이에 달라붙지도 않고 끈적이지않고 부드럽게 씹어먹을 수 있는오란다여서 다먹고 나서도 계속 생각나서 내돈내산했어요특징 및 장점치아가 약해도 먹기 좋은 오란다이게 치아가 약한 제가 이 오란다를 선택한 이유예요딱딱하지 않고 이에 달라 붙지않고 냉장고에 넣어놨다 먹어도 괜찮고 실온에서 그대로 먹어도 괜찮더라구요개라 가격이 좀 사악하긴 한데 그래도 사먹을 가치는 있긴있어요 ㅠㅠ제 리뷰가 도움이 되셨다면  도움이 돼요  눌러주시면 더 많은 리뷰 작성에 도움이 됩니다   ෆᵕ ෆ 우주오란다 말랑말랑 플레인 강정  정보통신 같은 프로그램에서 오란다를 너무 맛있게 만들어서먹더라구요 그걸보고 옛날 어릴적 모습이 생각이 나길래 추억의오란다를 먹어 보고 싶어서 마트를 갔는데 비슷한건 있는데 그냥딱딱한 과자같은 느낌이라 달기만 하고 맛이 없었어요 ㅠㅠ 어릴적외할머니께서 직접 만들어 주셨던 그 추억의 오란다를 너무나도먹고 싶었는데 우연히 알게된 우주오란다를 먹었을때 그때 기억이생각이 났어요 굉장히 부드러우면서도 적당한 단맛이 입안에서살살녹듯이 쫄깃한 식감까지 있는데 너무 맛있네요 부드러운 식감의 오란다 인위적인 단맛이 아닌 맛있는 달달함 개별포장으로 보관이 용이함 직접 제조부터 판매까지 유통마진 최소화 다양하게 먹는 방법으로 질리지 않는 맛커피와 곁들여서 먹어도 맛있고 플레인 아이스크림과같이 먹어도 너무 괜찮은거 같아요 너무 부드러운맛이싫은 사람은 냉동실에 얼렸다가 차갑게 살짝 딱딱하게먹어도 괜찮구요  ヾ  フ   UU         ღღ ヽﾂﾞ  도움이 돼요  ヽｖ ﾞつ  눌러 주세요  ゝ ｙ ღღ               ヽこつ ノ 우주오란다 말랑말랑 플레인 강정 g 개   ʚ ᕱᕱ ɞ     ʚ ᕱᕱ ɞ    쫀득쫀득 말랑말랑 부드럽고 촉촉한 남녀노소 아이 어른 호불호 없는 추억의 간식 우주 오란다    ʚ ᕱᕱ ɞ     ʚ ᕱᕱ ɞ   오란다는요 어릴때 달콤하고 쫀득하니 바삭하고 머라 말할수없는넘넘 맛있는 추억의 과자인데요 어릴땐 과자봉지에 들어있어 서로 붙어 떨어뜨려서 먹어야 했거든요 ଘ우주 오란다는 먹기 좋게 한팩씩 깔끔하게 포장되어 손에 묻어남도 없고 완전죠앙 ヾﾉ또 요 오랑이는 포장뿐아닌 맛도 업그레이드가 됬어용ᗜ어쩜 요래 바삭하면서도 촉촉하고 부드러우면서도 쫀득한건지 ɔ  c예전에 먹던 오랑이는 입안 전체가 아푸도록 딱딱했는데 그래도 맛있어서 먹고 또 먹었던 기억이 우주오란다 체크 뽀인뜨  ꙭ ᐟᐟ 바삭바삭 말랑말랑 쫀득쫀득  남녀노소 누구나 즐기는 추억의 까까 선물 포장패키지 구성으로 선물용으로도 제격  영양사 및 식품기사 자격보유자분이 직접 운영 낱개포장되어 가방안에 하나씩 쏘옥 넣어 운전할때도 먹구요 출출할때 먹기 넘 조아요 완전 죠앙 งวᏊ ꯁꯁ 맛있는 오란다 감사합니다 ꯁꯁˊᗜˋᵗʰᵃⁿᵏ ʸᵒᵘˊᗜˋᵗʰᵃⁿᵏ ʸᵒᵘˊᗜˋᵗʰᵃⁿᵏ ʸᵒᵘ 부드러운 강정  추억의 간식 위생적인 개별 포장 선물용으로도 최고 구매이유예전에 오란다를 즐겨먹었어요 저희엄마도 오란다를 엄청 좋아하신대요 요즘 간식이 똑 떨어지니 오란다 생각이 나더라고요 엄마도 오랜만에 집에 놀러오신다고 해서 오래 전 추억을 떠올리며 가족들과 함께 먹으려고요 제품설명말랑말랑하고 쫀득하면서 너무 맛있어요 이렇게 촉촉하다니 어른들부터 아이들까지 너무 잘 먹어요 개별포장이 되어있어서 늘 촉촉함 그대로 먹을 수 있어요 가방에 쏙 넣고 다니면서 커피 마실때도 하나씩 꺼내서 먹는데 커피와도 너무 잘 어울려요 많이 달지도 않고 입안에서 살살녹으니 초등학생 아이들도 너무 좋아하네요 개라 갯수도 넉넉하고요 가성비 진짜 최고네요 총평수제강정으로 달지않고 부드러워 가족모두 너무 맛있게 먹었어요 특히 어르신들에게는 추억까지 선물한듯 하네요 개별포장 되어 있어서 휴대성까지 진짜 최고네요 지인들에게 선물용으로도 너무 좋을 것 같아요 진짜 평상시에 과자 잘 안먹는 사람이 바로 저에요원래도 단거는 별로 안좋아하고 군것질도 잘안해서과자는 일절 안사먹는 편인데 이번에 첨인가몇년만에 과자 주문해보는것 같아요 ㅎㅎ저희 아버지가 연세가 정말 많으신데 내년에 칠순그런데도 과자 사탕 아이스크림등 군것질을 너무 좋아하셔서이도 아직 정정하셔서 오란다 좋아하셔서 주문해드렸거든요근데 너무 맛있다고 엄청 칭찬하시길래 과자가 맛있으면얼마나 맛있다고 하면서 한입 베어무니 맛있더라구요진짜 과자 안좋아하는데 아빠 딸이라고 입맛이 닮아가는지너무 맛있더라구요 오란다하면 너무 딱딱할까봐 걱정도 있고이미지가 약간 이가 튼튼해야 먹을수 있는 간식으로 생각되는데전혀 그렇지 않고 엄청 부드럽고 식감이 쫀득하고또 씹으면 바삭하고 맛있더라구요단단하지 않고 부드러우니 칠순인 저희 아버지도 잘드시고좋아하세요 선물용으로도 좋아보이고 여러모로 추천드려봅니다 제품명  우주오란다 말랑말랑 플레인 강정 g 개넘나 중독적 예전에 한번 구매해서 먹어보고 존존맛이라주변에 노나주고 커피을때마다 까먹고 심심해서 까먹고 하다보니 금방 다먹고개짜리로 플렉스 해씁니다ㅎ먹어도 먹어도 안질리는 마성의 오란다저 원래 단것도 안좋아하고 과자도 잘 안먹는디 할매 입맛이였나 왜르케 맛있죠겉은 바싹하고 속은 보드랍고 진짜 계속 먹게되여과하게 달지 않으면서 무지성 단맛이 아닌 고급진 단맛이랄까내가 여태 먹어왔던 오란다랑은 그냥 다른 과자구요ㅎ그래서인지 어른들도 좋아하더라구요 딱딱하지 않고 적당히 달달하면서 맛있어요 커피랑 먹으면 끝짱나는맛 ㅠ 앉은자리에서 개도 먹을 수 있지만살빼야해서 겨우 참고 하루 한두개 정도만 먹기로 제자신과 합의봤어여ㅠㅠ개짤 사니까 선물하기 좋은 손잡이 달린 박스에 오는데 귀엽네요ㅎㅎ다 먹으면 또 구매하러 오겠습니다 안드셔본분 없기를 완전 맛있어요시중에 파는 오란다랑은 맛과 질부터 다릅니다말랑말랑한데 바삭바삭하고 입안에 달라붙지 않아요오란다를 좋아해서 시장가면 한움큼 사오고는 했는데 먹고나면 이에 끼고 딱딱해서 턱이 아프곤 했거든요 그래도 그 바삭한 오란다맛이 좋아서 계속 먹는중인데 말랑말랑하면서 바삭바삭한 오란다는 정말 너무나도 맛있네요크기도 작지않아 하나 먹어도 부족하지 않아요커피랑 같이 먹기도 너무 좋고 위생적인 개별포장으로 먹을때도 안심이고 가방에 하나씩 쏙쏙 넣어가지고 다니기도 너무 좋네요넉넉한 용량의 개입으로 작지 않은 크기라 가성비도 좋고 손잡이가 달려있는 상자라 포장 또한 고급져서 선물용으로도 딱 좋네요박스앞에 구멍을 내어서 하나씩 쏙쏙 빼먹고 정리하기 너무 좋네요카페에서 파는 고급수제 오란다 맛이예요이가 약한 어르신도 맛있게 드실 수 있을거 같아요온식구가 좋아해서 금방 먹을 거 같아요 ɷ  ɷ  ɷ  ɷ우주오란다 말랑말랑 플레인 강정 g 개ɷ  ɷ  ɷ  ɷ 말랑말랑 쫀득쫀득한 오란다 겉은 말랑쫀득 속은 바삭함 위생적인 개별 포장 많이 달지 않아 누구나 좋아할 추억의 과자아니 어떻게 말랑함과 바삭함이 공존하죠딱딱해서 치아 아픈 그런 오란다 아니고남녀노소 누구나 맛있게 먹을 수 있는 맛과 식감을 가졌어요쫀득쫀득하면서 한알한알은 또 바삭함을 느낄 수 있어요반으로 가르면 뚝 부러지는 딱딱한 오란다 절대 노노치아 약한 분들도 편하게 잘 드실듯요무엇보다 많이 달지 않아서 완전 굿굿저희 가족은 단 음식 많이 안 먹는데 이건 잘 먹었어요자꾸 손이 가서 배송 받자마자 맛본다는게저녁 먹었는데도 벌써 반정도 먹었네요ㅋㅋ개별 포장되어 있어 위생적으로 하나씩 꺼내 먹기도 좋고가방에 한두개씩 넣어 다니며 간식으로 먹기에도 딱이네요ㅎㅎ냉장고 들어가면 아무래도 지금보다 딱딱해질 것 같으니상온에 두고 커피랑 같이 먹으려구요자주 생각 날 맛이라 종종 구매할듯요 헐 이거 왜이렇게 맛있어요 맛있는건 혼자 먹어야 하지만너무 맛있어서 후기 남겨요 남편이 오란다를 좋아해서 간식으로주려고 샀는데 맛있어서 제가 거의 다 먹었네요기존에 오란다는 달고 딱딱하고 찐득하다 라는 인식이 강했어요그래서 제가 이가 안좋아서 엿같은거 먹으면 이 치료한게 빠질까바 남편만 먹으라고 하려했는데 한번 맛봤는데 놀랐습니다 딱딱하고 찐득한 오란다가 아니라쫀득하면서 부드러운 오란다 과자였어요 말랑말랑 부드러워서 이 안좋으신 어르신들이나 아이들도 먹기 좋은식감입니다 그리고 오란다는 엄청 달지 않나요 이건 너무 달지 않고적당히 달달해서 맛있어요 그래서 손이 계속 가요그리고 낱개 포장이라 포장도 깔끔하고 크기도 작지 않아서아침대용으로 우유랑 오란다 하나해서 아침식사대용으로 먹기 좋아요고급스러운 과자느낌이라 선물하기도 좋을거 같아요기존 오란다를 생각하시면 큰 오산입니다 훨씬 고급지고 맛나요 맛있는 오란다사실 오란다는 딱딱하고 달다는고정관념이 있어서 구매를 하지 않는데 추석에 친인척분들이오시는 이유로 구매하게 되었어요우주오란다는 덜 달고 부드럽다는 이야기를 믿고 구매하게 되었는데요손님상에 내기 전에 미리 하나 아이들과 먹어봤는데 와 너무 맛있네요혹시라도 다과 준비해야하시는 분들계시면 지금 구매하셔요 ㅎㅎㅎ추석이 오기 전에 ㅎㅎㅎㅎ아직 늦지 않았습니다 담백하고 맛있는 우주오란다 강정 리뷰입니다어렸을때 먹었던 오란다 생각이 나네요 아빠가 일하시면서 사오셨던 오란다가 그땐 참 귀하고 맛있었는데요 크면서 다른 먹을게 많다보니 잊고 살았었는데 최근에 오란다를 먹게 되어서 생각이 나서 구매했네요 제가 생각하는 오란다는 달고 좀 딱딱했던 식감이었는데요 우주 오란다는 많이 달지 않고 말랑말랑한 식감이라서 새로웠어요 아직 아이들이 어리지만 아이들에게 줘도 부담스럽지 않을만큼 괜찮은 오란다네요 영양사가 직접 만든 오란다라서 그런지 더 신뢰가 가는 것 같아요 부모님들이 옛날 생각나시고 좋아하실 것 같아 이번 명절에 선물로 사가야 겠다는 생각이 들었어요개별 포장이 되어서 가지고 다니면서 아이들 간식으로 주기도 좋고 오랫동안 두고 맛있게 먹을 수 있어서 좋아요 위생적인 면에서도 개별 포장이 아주 유용하네요도움이 되었다면 도움이 돼요 를 눌러주세요감사합니다 맛있어서 하루에 하나만 먹으려고 했지만 결국 서너개씩 먹어버림 ㅠㅠ 맛있네요 진짜 사진 장 꽉꽉 채워서 후기 남겨봅니다 먹어본 오란다중에 제일 맛있는 이유는 무거운 느낌이 아니라 사르르 녹는 느낌의 오란다임 이에 달라붙거나 끼지 않아서 먹기가 아주 편함 강정 하나에 g kcal라서 부담없이 먹기 좋음이 정도 이유를 베스트 장점으로 들 수 있겠네요 우주오란다라는 이름부터 마음에 들었는데 하나 개봉해서 먹어보고 저도 모르게 하루에 개를 먹어치우게 만든 장본인입니다 이건 선물하기도 제격이에요 오란다의 달달함과 부드러움이 만나니 꿀맛이에요 ㅠㅠ회사 팀원들 하나씩 나눠줬는데 다들 좋아해서 또 나눠줄까 생각중이에요 ㅋㅋㅋㅋ 최근에 구입한 과자중에 제일 맛있어요 이제 개정도 남았는데 재구매하려구요 다 먹으면 오란다의 신세계 맛봤습니다전날 저녁에 주문했는데 다음날 낮에 온거 실화일까요빠른배송 감사합니다시중에서만 보던 오란다는 주위평가들이 딱딱하다 먹기힘들다 조금만 먹어도 잘 질린다 들어서 선뜻 손대기가 쉽지는 않더라고요 근데 지인이 이 제품을 구매했는데 괜찮다 해서 사먹었습니다그런데 왠걸 쫀득쫀득하고 계속 손이 가요 우주최강오란다로 이름을 바꿔야하는거 아닐까요 굳이 말하자면 쫀득쫀득보다는 쫜득쫜득이 맞는것같아요전 진저탄산음료랑 마셨는데요 궁합이 잘맞아요 저 탄산음료 별로 달지않아서 맛있어요개별포장이라 더 마음에 들어요제가 이 제품을 구매한 이유는 지인에게 추천받았고 맛있을것같아서 구매했는데 상상 그 이상이었어요제가 작성한 리뷰가 이 제품을 선택하는데 도움이 되었다면 도움이 돼요한번만 눌러주세요감사합니다 쫀득하고 맛있는 우주오란다말랑말랑하면서도 입에 붙는감이 별로없어서 진짜 맛있더라구요이런오란다 느끼한곳이 많아서 맛이 괜찮을려나 고민했었는데 잘시킨거같아요개에 금액도 저렴하고 깔끔하게 배송와서 좋더라구요계속 먹어도 안질려서 먹다가 또 시켜먹을듯해요 간만에 좋은간식 구입해서 기분이 좋네요 평소에 오란다 좋아해서 자주 사먹어요여기저기 많이 팔긴하는데 사실 정말 맛있는 오란다를찾기란 쉽지않거든요 ㅎㅎ 그래서 아직 정착을 못하고이거저거 주문해서 먹어보는데 이번에 드디어 오란다 유목민끝내고 정착할것 같네요 ㅎㅎ우주오란다 완전 맛있어요  너무 달지않고 바삭바삭 말랑말랑조화가 아주 끝내주네요 주말에 등산가면서 먹으려고가져갔는데 관악산 정산에서 정말 맛나게 먹었어요ㅋㅋ보통 산정상은 춥고 기온이 낮아서 음식이 딱딱해지고 엄청차가워지기 마련인데 우주오란다는 말랑식감이 그대로 유지되서 놀랐습니다 이가 나갈 각오를 하고 한입 베어물었는데오 식감이 그대로 유지되서 너무 좋았어요 ㅎㅎ관악산 정상에서 아주 잘먹고 당충전 했습니다 ㅋ오란다 좋아하시는분들이나 간편한 간식거리 원하시는분들께추천해요 안녕하세요 권아삭입니다 구매동기옛날 과자중에서 오란다를 젤 좋아해서길가다가 보이는 옛날과자 트럭에서도 오란다 사먹는 사람이에요요즘 할머니 입맛이 유행하면서 이렇게 낱개포장된 오란다도 쿠팡에서 쉽게 살 수 있어 너무 좋아요 구성g씩 낱개포장인데 딱 입 심심할때 하나씩 먹기 좋아요개나 들어있어서 종이상자를 열면 정말 한가득 들어있답니다 식감트럭에서 파는 제품들중 잘못 걸리면 정말 딱딱한 제품도 있더라구요근데 이 우주오란다 제품 정말 말랑해서정말 할머니도 그리고 아이들도 이에 부담없이 먹을 수 있는 제품이에요 맛식감은 살짝 말랑하지만 맛은 정말 맛있어요달콤하면서 바삭꾸덕한게 오란다의 매력인거 아시죠솔직히 개로 부족하지만 겨우 참아봤습니다오란다 좋아하시는분들 추천드려요 가족들이 다같이 먹을만한 간식 찾아보다 예전 생각나서먹어봤네요보통 생각하는 오란다는 달달하고 바삭하긴 하지만너무 딱딱해서 쉽게 즐겨먹긴 힘든 간식이긴해요우주 오란다는 달달 바삭하지만 말랑한 느낌이라치아 빠진 조카도 나이든 할머니도 다같이 맛있게먹을 수 있는 간식이에요비닐로 개별포장 되어있어서 과자끼리 들러붙지않아있고 비닐을 살짝만 뜯어서 각자 한개씩 손에 들고 먹으니까 깔끔하게 먹을 수 있어서 좋아요달달한 맛도 과하지않고 물리는 느낌없어서 앉은자리에서여러개 먹었네요 옛날부터 즐겨먹던 과자라 가족끼리 둘러앉아서 과자도먹고 옛날 추억얘기도하고 덕분에 즐거운 시간도 보냈어요상자에 개별포장이라 선물용으로 구입해도 좋을거같아요맛있어서 재구매 했는데 다음에 또 구매 예정입니다 후기에 안딱딱하고 엄청 부드럽다길래할머니 드리려구 젤 양 많은거 샀는데 완전 만족페키지 예쁜 상자에 개별 포장까지 되어있구요오란다는 보통 두껍고 네모난 모양이지 않나여단단하기까지해서 깨물다 입천장이랑잇몸 다 긁히는게 오란다인줄 알았는데ㅋㅋㅋ여기 오란다는 길쭉한 모양이라입에 넣기에도 베어 물기에도 편해요부드럽고 살짝 물어도 잘 떼어져서 이도 안 아픔부드러다고해서 사긴했는데 혹시나 딱딱할까봐별로면 우리집으로 다시 가져와야겠다했는데웬걸ㅋㅋ 완전 포슬포슬 부드러워서아메리카노 한잔씩에 할머니랑 저랑 둘이서오란다 엄청 많이 까먹었어요ㅋㅋㅋ달달구리한데 막 단맛만 느껴지지 않고고소하고 단백하면서 뒷맛이 깔끔해서 먹기 너무 좋아요개짜리 젤 큰거 사길 잘한듯적은거 샀으면 부족할뻔했어요ㅋㅋ 선물 받아서 몇 개 먹어보고 맛있길래 구매해서 먹어봤어요평소에도 오란다를 좋아해서 마트갈 때마다 두봉지씩 사다놓고 먹고 있는데 마트에서 파는건 계속 먹다보면 입에 단내가 나서 한봉지를 다 못 먹겠더라고요근데 이 우주오란다는 적당히 달아서 계속 먹어도 입에 단내가 나지 않아서 배송오자마자 그 자리에서 개나 먹었네요딱딱하지 않고 살짝 말랑말랑해서 먹기에도 좋고 개별포장이라 하나씩 먹기에도 간편해요씹으면 씹을수록 고소하고 이에 설탕코팅이 달라붙지 얺아서 맛있게 잘 먹었어요박스도 선물박스라 선물하기에도 좋고 손잡이까지 있어서 들고다니기 편합니다아이스 아메리카노나 우유랑 같이 간식으로 먹으면 포만감도 있어요 잘 먹겠습니다 중량   g수량   개가격  우와 오란다 엄청 맛있어요항상 딱딱한거만 먹다가 이렇게 부드러운 오란다 먹으니까맛있어서 개는 그냥 먹겠어요다른 오란다보다 크기도 더 커서 좋아요어른들 선물용으로도 너무 좋겠어요 구매동기 부모님과 함께 먹을 주전부리를 찾다가 평소에 부모님께서 오란다 과자를 좋아하셔서 이번에 쿠팡에서 구입하게 되었습니다  디자인 레트로한 박스패키지가 인상적 이였어요ㅎㅎ  구매후기 일단 하나하나씩 개별포장으로 되어있어 깔끔하다는 느낌이 들었어요뜯을때마다 눅눅하지않고 신선하게 먹을 수 있어서 좋았구요  그리고 전 등산을 가거나 할때 배낭에 몇봉씩 챙겨가요 당이 땡기거나 출출할때 꺼내먹기에도 안성맞춤 입니다ㅎㅎ 마트에서 파는 일반적인 오란다는 좀 딱딱하고 치아에 들러붙는게 심했다면여기 오란다는 부드러운 식감에 치아에 들러붙는거 적구요ㅎㅎ 또 너무 과하게 달지도 않아서 부담없이 먹기에 좋았습니다 재구매의사 프로 에요  단점   재구매의사  저의 후기가 구매에 도움 되길 바랍니다 포장지부터 너무 예쁜 오란다네용입 심심할때 하나씩 먹으려고 구매했는뎅포장이 넘 이뻐서 뜯기 아까웠네용 ㅎㅎㅎ일단 제품은 하나씩 개별표장이 되있어서위생적으로도 좋고 외출할때 가방에 넣어 가지고 나가기도 좋네용오란다 엄청 좋아하는뎅 간혹 어떤거는 너무 끈적이고딱딱해서 이빨 아픈 경우도 있거든요근데 이거는 부드러워서 씹는 식감도 좋고맛도 많이 달지 않아서 참 좋더라구용제가 원래 단거를 별로 안좋아하기도 하는데적당히 달아서 커피랑 먹으니까 꾸르맛 ㅎㅎㅎ거기다 설탕이 전혀 안들어가있어서 많이 먹어도 괜찮다 살안찔꺼다 세뇌하면서 먹고 있어용ㅋㅋㅋ개짜리 구매했는뎅 개짜리는 박스형이라서 선물하기에도 좋아보이더라구용다음달에 부모님 드릴 선물로 하나 더 구매할 생각입니다 오란다 매니아입니다 그러나 요즘 이가 좀 안좋아서 자주 먹고 싶지만 많이 먹진 못하고 좀 자제중이었거든요 오란다가 먹을 땐 너무 맛있는데 이에 쉽게 끼고 딱딱해서 잘못사면 턱이 너무 아파서 턱관절 치료 받은적도 있어요ㅠㅠ 나름 혼자 부드럽게 만들어 보겠다고 시도했다가 망친기억이 그래서 부드러운 오란다를 찾아 해맸었는데 드디어 찾았네요 진짜 부드러워요 우리가 흔히 알던 오란다랑은 완전 달라서 먹기 참 좋아요 그래서 집안 어르신들도 드리고 아이들도 먹을 수 있어 온가족 간식으로 딱이에요 개별 포장되어 있어 휴대하기에도 좋고 나눠주기에도 좋구요 손잡이 박스덕에 선물하기에도 좋구요 추석때는 이 제품으로 거래처에 쫙 돌릴 생각입니다 말랑말랑 부드러워요 고소하고 달콤해요 개별포장이라 휴대하기 편해요 아이부터 어른까지 누구나다 좋아할맛 선물용으로 좋아요오란다 좋아해서 종종 사먹는에 이런 오란다는 첨입니다 말캉말캉 말랑말랑 식감의 우주오란다오란다 맛있는데 딱딱해서 한번씩 앞니 부러질까 입천장 까질까 걱정도 되는데 이건 그럴걱정 NO 말랑말랑 부드러워요총 개인데 개별포장이고 크기도 큼직해서 좋네요 캠핑 갈때나 아이 하원시 몇개씩 챙겨다녀요 케이스도 이쁘고 안에 개별 포장도 이뻐서 선물용으로도 좋을것 같아요고소하고 적당히 달달하여 아이부터 어르신까지 남녀노소 누구나 좋아할것 같은맛아이도 잘먹고 신랑도 잘먹네요추천꾹 최애 간식이예요오란다 잘못사면 엄청 딱딱해서 이랑 턱이랑 다 아프고 난리잖아요 우주오란다는 그런거 도 없어요너무 촉촉하고 부드러우면서 바삭바삭함이 최고예요 여차하면 진짜 계속 끝도 없이 들어가는데요 칼로리가 개당 kcal라서 정신차려야되요 하루 개까지 정해놓고 먹어야해요ㅋㅋㅋ소비기한도 개월 넘는데 어차피 순삭이라 의미없어요ㅋㅋㅋ완전 추천합니다 맛너무 딱딱하지도 않고 쫠깃하니 맛있어서 너무 맛있게 먹었어요옛날 간식 땡길때 오란다 먹으면 진짜 맛나요이가 안좋아서 너무 딱딱한건 못먹는데 이건 너무 부드럽고말랑말랑하게 너무 괜찮고 맛있네요손으로 살짝만 만져도 뷰드럽게 만져져요이렇게 부드러운 오란다는 처음 먹어봐요개별포장 되어있어서 더 좋구요유통기한유통기한이 년 월 일까지라서 아주 넉넉해요용량 개입 이라서 개별포장으로 개씩 포장 되어있어요자주 간식을 못먹을때는 개별포장이 진짜 좋아요 추천여부주변에 추천 꼭 하고싶어요 먹어보면 다 맛있다 할 듯해요오란다라고 하면 딱딱한 과자 생각했는데 너무 부드럽고 맛있어서 만족해요 제가 여지껏먹어왔던 오란다는 딱딱한 식감이고 이빨에 쩍쩍 달라붙는 그런거였는데 이거먹어보고나서 진심 다른 오란다는 못먹겠네요 이래서 사람 입이 제일 간사하다고 하나봐요ㅋ 한입먹으면 자꾸 먹고싶어지고 중독성이있네요플레인 강정이라 달지도않고 고소하고 이빨에도 안달라붙어요 그리고 딱딱하지않아서 부모님도 매우 좋아하셨어요 이가 안좋은 어르신들도 편하게 드실수있는 식감입니다 맛은 호불호가 없을 맛이였어요 개별포장으로되어있어서 위생적이고 아메리카노랑먹어도 잘어울리고 오후에 간식으로도 좋았어요한번에 많이먹어서 지금 몇개안남았는데 남편이 주문해달라고해서 또 주문합니다 딱딱하지 않아 치아에 무리 NO 너무 달지 않고 담백한 맛 한번 먹을 적당한 양으로 포장 선물용으로 GOOD오란다 강정 되게 좋아하는데 딱딱한 거 잘못 먹으면 치아에 잘못 달라붙어서 눌러 붙거나아님 잇몸이 너무 아파서 좋아하지만 자주 못 먹었던 오란다쿠팡에서 말랑말랑한 오란다가 있다고 하길래 잘 살펴보고 얼른 구매해봤어요 알갱이 하나하나가 커서 씹는 식감도 너무 좋고 진짜 써있는대로 엄청 부드럽고 치아에 무리가 없어서 좋아용 심지어 너무 달지 않고 담백해서 앉은 자리에서 개는 까먹을 수 있을 것 같네용ㅠ_ㅠ추억의 오란다 포장지도 예뻐서 선물용으로도 좋을 것 같아요 다음에 할머니 만나기 전에 사서 드려야겠어요 맛있어서 재재재구매 했어요부드럽고 말캉한것이 제 취향이라 자꾸 손이 가는것 같아요개별포장이라서 먹기도 좋고 냉장고에 잠시 두고 먹으면 더 쫀득하니 맛난것 같아요 특히 어머니가 맛있다고 더 사라고 하셔서 요번에 다시 또 구매했어요어머니가 인정하신거니 맛있는거 맞나봐요 ㅎㅎ저는 특히 너무 딱딱하지 않고 부드러워서 그게 제일 좋더라구요오란다 딱딱한거 너무 많이 봐서딱딱하면 입에 넣기 조차 힘들어서 먹기 힘들어지더라구요너무 끈적여도 안좋은데 부드럽게 씹혀서 씹어먹는 맛이있어요 아주 맛있게 잘 먹겠습니다 맛있는 오란다 겨울이고 나가기도 싫어서 집에서 티비보면서 과자먹고 하는데ㅋㅋ나이가 들었나 오란다가 먹고 싶은거예요접때 친구네서 한번 초대받아갔더니 간식으로이걸주는데요새 오란다는 옛날 딱딱한게 아닌 엄청 부드럽고맛있게 나오더라구요그래서 어디꺼냐 묻고 알아만 놓고있었는데 바로 이때로구나 싶어 주문했어요개짜리구요 가격은 그닥 싼편은 아니지만낱개포장되어있고 맛보면 그가격정도 된다싶으실거예요진짜 딱딱한거아니라 조금만 들고있으면 고개를떨굴것같이 떨어지는게 진짜 부드러워요ㅋㅋ물 우유 차와 함께 먹어도 너무 좋을듯간식으로 아침대용으로 하나씩 까먹으면 좋을듯하여 마음에 듭니다많이 파세요 오란다 정말 너무 좋아하는데쿠팡 보다가 너무 맛있어 보여서 하나 구매해봤어요 ㅎㅎ진짜 돈을 쓴 먹거리중에 가장 맛있었던 오란다라정성 리뷰 남겨봅니다 ㅎㅎ제 리뷰가 구매에 도움이 되셨다면좋아요 꾹 한번만 눌러주세요 배송말해뭐하는 로켓배송이라 바로 잘 배송 받았어요 ㅎㅎ아침에 입이 출출했는데아침에 바로 빠르게 배송받아서진짜 엄청 만족스러웠네요 ㅎㅎ포장개별로 하나하나 포장되어있고박스 안에 넣어져있다보니까로켓 배송 이지만매우 안전하게 잘 배송되었습니다 ㅎㅎ맛전체적인 식감은 약간 부드러워요 ㅎㅎ딱딱한 느낌보다는 되게 부드러워서어르신분들도 맛있게 잘드실수있을거같고아이들도 되게 되게 맛있다고 좋아하면서 잘먹었어요 ㅎㅎ 우주오란다 말랑말랑 플레인 강정너무 달거나 딱딱하기만한 오란다에 질린 사람들이거 무조건 드셔보세요 완전 강추쫀득쫀득하면서도 말랑말랑한 식감이 진짜 예술이에요완전 취향 저격 ㅠㅠ ㅎㅎ 먹으면서도 아 이건 무조건 쟁여놓고 먹을 간식이다 싶은 생각이였어요개별 포장되있어서 먹기도 편하고 너무 달지않으면서도 고소하면서 호불호 없이 모두가 좋아할 맛이에요개입 세트는 선물세트처럼 손잡이가 있어서 명절에 선물용으로 괜찮겠더라구요이번 명절에는 요걸로 지인분들 싹 다 선물해 드려야겠어요무조건 좋아하실듯 오랜만에 정말 제 입맛에 맞는 간식 찾은것 같아서 좋네요무조건 재주문 각입니다강추해요 ㅎㅎ g 개 오란다가 부드럽고 적당한 단맛이 나서 아이들도 맛있다며 너무 잘 먹고치아 교정 중이라 과자 너무 좋아하지만 잘 못 먹는 저도 오랜만에 너무 맛있게 당 충전 했어용개별 포장이라 애들이랑 먹다가 남은 몇개는 친정 가는 길에 들고 갔더니 아빠가 드시고 너무 부드럽고 적당히 단게 맛있다며 잘 드셔서 친정으로 바로 추가 주문 해드렸어요 참고로 저희 아빠 세에 임플란트 하시고 치아 약하신데 부드럽다고 잘 드셨어요가격도 부담 없고 패키지가 깔끔하고 예쁘며 개별 포장 되어있어 선물 용으로도 너무 좋을 것 같아요선물용 간식용으로 재구매 의사 완전 있어요 배송이 정말 빠르다말랑말랑해서 누구나 먹을수있다단맛 강하지 않아서 아이들 주기도 좋다사무실 간식용으로도 딱이다제가 정말 좋아하는 간식입니다평소 과자만 접할수 있어서지하철탈때 가끔 옛날과자 파는곳 보이면무조건 사는데너무 딱딱해서 못먹겠더라구요그래서 몇개먹다가 못먹었는데요제품은 정말 많이 먹을수 있어요이에도 달라붙지않고많이 달지도 않고살살녹으면서시간이 지나도 딱딱해지지않아서정말정말 좋아합니다과자만 좋아하는 청소년기 아이들도 요제품은 잘 먹는답니다나이에 상관없이 누구나 좋아하는 우주오란다적극추천합니다 예전 딱딱한 오란다 먹어보다가 친구네집가서다과로 내놓아 한번 먹어본후 반해서 어디서 샀냐고 물어보아 구매한 아이입니다ㅋ옛날 딱딱한 오란다생각하면 오산한알한알 바삭한 과자에 꿀을 발라놓은듯 부드러운 질감은 물론 입안에서 꿀과함께 과자가 뒹구는 맛으로 이게 진짜 꿀과자인거죠살짝씩 두께가 다르다는것도 진짜 수제과자같아 오히려 저한텐 긍정적으로 작용한것같아요진짜 꿀이 들어있어 그런가 아이들이 먹어보더니 꿀맛이라며 좋아함사실 숨겨놓고 저만 야금야금 먹으려고 주문한건데 한번 줬더니 바로 뺐겨서 좀더 시켜야겠네요애들간식으로도 좋은것같아 만족스럽습니다 오란다를 너무 좋아하는데요너무 딱딱해서 오란다 많이 먹음 입천장 까지고 나이도 먹으니 이빨 어디 부셔질까봐 겁도 나서 오란다 참았는데요쿠팡 쇼핑하다가 자꾸 오란다 보여서 오랫만에 오란다 먹어보자싶어 샀는데제가 딱 좋아하던 부드러운 오란다예요너무 딱딱하지 않아서 좋아요적당히 달고 쫀득쫀득 씹혀서 식감도 좋고 열자마자 순식간에 개 먹었어요계산해보니 박스 개입 사는게 통당 천원대로 훨씬 저렴해요다먹음 개입짜리 사야겠어요커피랑 먹음 굿대신 살 찌니깐 정신 잘붙들고 먹어야되요 바쁘신 분들을 위한 빠른 총평  만족도    좋음 가성비    보통 재구매의사    좋음  오란다는 달콤하고 콩과자들과 물엿의 조합을 통한 독특한 식감때문에 많은 분들이 좋아하시는 과자이기도 하고 한편으로 너무 딱딱하고 이빨에 잘 달라붙는 특성때문에 먹기 불편하기도 한 그런 간식인데요  우주오란다 말랑말랑 플레인 강정은 보통의 딱딱한 오란다에 비해서 입천장 까질 걱정없이 매우 편하게 먹을 수 있는 부드럽고 달달한 오란다입니다 개별포장되어 있어서 간식으로 하나씩 꺼내 먹기 좋구요 가격과 고급스러움을 고려해 볼 때 부담없는 선물용으로도 꽤 좋을 것 같습니다  더 자세한 정보를 원하시는 분들을 위한 상세 리뷰  주문일  년 월 일 소비기한  년 워 일 구매일로부터 약 개월 구성품  g 오란다 개 구성 보관방법  상온보관 가능하나 냉장 보관 추천 포장  눈이 편하고 정감이 가는 색감과 질감의 박스 포장에  오란다가 하나씩 개별 비닐 포장되어 있어서   고급진 느낌이 들고 하나씩 꺼내 먹기도 좋습니다  맛과 식감  말랑말랑하고  물엿에 수분이 많고 점성이 약해서 먹을 때 딱딱하지 않아 좋습니다  맛은 보통의 오란다 맛으로  달콤 고소한 맛이지만 살짝 덜 단편입니다  보관 방법 및 기타등등  상온 보관이 가능한 제품입니다만 특히  여름에는 더위때문에 콩과자가 쉽게 떨어져 버리는 것 같습니다  여름에는  냉장 보관해뒀다가 꺼내서 드시면 조금 더 단단한 질감을 즐기실 수 있을 것 같습니다  부드러운 질감인 만큼 콩과자를 결합하는 힘이 약해서  먹다가 콩과자 한두알이 떨어지는 경우가 있으니 한입 베어 물고 나서 콩과자가 떨어져서 옷에 붙어있지는 않은지 한번 살펴보세요 a 맘에 들었던 점   고급스러운 포장  입천장을 괴롭히지 않는 부드러운 식감 아쉬웠던 점   오란다가 원래 엄청 싼 간식은 아니지만 그걸 감안해도 조금은 부담스러운 가격 제품 직접 구매하여 사용해본 경험을 토대로 솔직히 작성한 후기입니다 도움이 되셨으면 좋겠습니다 말랑말랑 부드러운 오란다벌써 년 동안 즐겨 먹는 추억의 과자입니다잘못 구매하면 딱딱해서 입안에 상처가 생기고 턱이 아픈데우주오란다는 말랑 말랑 제대로네요아이들이 초등학생 아들도 맛있다고 즐겨 먹고 있어요맛있는건 연령 상관 없이 먹어보면 알수 있는듯 합니다 영양사 및 식품기사 자격 보유자가 직접 비법 조리한 제품이라 안심하고 추억의 되살리며 먹고 있어요치아가 약하신 아버님도 말랑해서 너무 먹기 좋다고 잘 드시네요개별 포장이 되어 있어 가방에 개 챙겨 다니며 배고플때 간식으로 먹기 너무 좋은 양입니다손에 묻지 않아 끈적이지 않고 흘리지 않으면서 깨끗하게 먹기 좋네요 한번 먹어보고 맛있길래 한통으로 구매했어요일반적으로 생각하는 오란다는 엄청 딱딱하잖아요그래서 오란다를 별로 좋아하지 않는데어쩜 이 오란다는 너무 부드럽고 맛있어요입천장까지고 이빨이 깨질듯 아프고하지 않은 정말 부드러운 오란다예요말랑하고 끈적해 이에 많이 끼지 않을까 했는데 또 그렇지도 않아요요건 정말 너무 잘 만든 오란다 같아요딱딱하지 않고 말랑해서 어른들도 먹기 좋고 아이들도 먹기 좋아요옛날 과자가 먹고싶은데 딱딱해서 드시지 못하겠다시는 분들께 추천드려요 와 우주오란다에 대해 맛있다고 얘기만 들었는데 드디어 구입했습니다 로켓이라 다음날 받자마자 바로 먹어봤는데요 오란다계의 신세계네요이제껀 먹어본 오란다는 너무 딱딱하거나 너무 달아서 한두개 먹으면 땡이었는데 우주 오란다는 완전 딱 적당하게 달면서 아주 식감이 예술이라 앉은 자리에서 개 까먹었습니다ㅎㅎ 개별포장되있어 손에 끈적이지않고 먹을수 있어서 넘 좋습니다 양도 정말 푸짐해서 한동안 간식걱정은 끝입니다 상자도 넘 매트로하고 귀여워서 손잡이만들어 선물용으로도 좋을거같네요 구매 이유아이들도 어른들도 잘 먹는 최고의 간식입이 쉴틈이 없이 중독성 있는 맛이에요딱딱하지 않고 부드러워서 에이드랑 출출할때손님 접대할때 내놓음 넘 좋아요 제품 특징 개별 포장 되어 있어 위생적이고 신선해요딱딱하지 않고 부드러우면서 바삭해서 굿무설탕이라 건강한 주전부리치아에 달라 붙지 않으면서 달달함  솔직 후기  요즘 딸기 에이드 만들어서 한잔씩 마시면서같이 어울리는 디저트로 선택한 오란다 딱딱하지 않고 많이 달지도 않지만 중독성있는 맛에 자꾸 손이 가서 다이어트에는안 좋지만 아이들도 너무 좋아하고자주 사먹게 되는거 같아요 어렸을때 부터 정말 좋아했던 오란다많이 먹고 싶은데 너무 딱딱해서 입 천장 까지기 일수였어요ㅜㅜ말랑한 오란다라니 신세계라 바로 구매해봤는데 개별포장도 되어있어서 하나씩 사무실에서 까먹기에도 부담없고 너무 좋아요아침대용으로 아침에 하나씩 출근길에 먹기에도 엄청 편하구오늘은 호캉스 놀러오면서 가져왔어요ㅋㅋㅋ누워서 이렇게 하나씩 까먹는데 을매나 맛있게요사이즈도 딱 좋고 먹기에도 굉장히 편하구 입천장 보호 가능에 맛있기까지 수제과자라니 췌고당 땡길때 사무실에서 하나씩 먹기 필수그리구 막 엄청나게 달지는 않아서 더 좋은것 같아요 우주 오란다 꾸준히 재구매해서 먹고 있어요온 가족이 너무나 잘 먹고 자꾸 생각나서 재구매 안 할 수가 없어요일단 많이 달지 않고 이에 달라붙지 않아서 먹기 편해요말랑말랑하니 부드럽고 기름내도 전혀 없고요개별 포장으로 보관하기 쉽고 외출 시 아이들 간식용으로 챙겨가기에도 좋아요친정집 갈 때도 들고 가는데 부모님도 너무 맛있다고 해요어릴적에 시장에서 먹던 오란다 주위사람한테 많이 공유했어요빠른배송과 안전한 배송도 감사하고넉넉한 유통기한이나 저렴한 가격도 맘에 들어요 엄마가 만들어주던 오란다 이젠 만들기 힘드신지 잘 안해줘서사먹었어요 ㅎㅎ 생각보다 큰 사이즈 핸드폰의 사이즈 생각보다 커서 배고플때 간식으로 먹기에 너무 좋았어요 하나만 먹어도 배고픔이 사라지는 마법  말랑말랑한 식감 딱딱한건 몇번먹다가 손이 안가는데 이건 말랑말랑해서 먹을때 좋았어요 부드럽고 말랑말랑한 식감 더 맛을 증폭시키는 느낌이에요 달콤하고 고소한 맛 너무 달지않아서 좋았고 고소한맛이 입안을 가득채우는게 진짜 맛있어요 이게 꿀맛잇가요남편도 엄마도 너무 좋아해서 순식간에 사라질 듯 해요 ㅎㅎ다먹음 재주문각입니다 ɷ  ɷ  ɷ  ɷ우주오란다 말랑말랑 플레인 강정 g 개ɷ  ɷ  ɷ  ɷ맛있어서 재구매했어요그냥 말이 필요없어요 일주일도 안돼서 다 먹고 또 구매아빠가 또 주문하라고 하신 간식은 처음식사 후에 후식으로 꼭 챙겨드시는 오란다에요ㅎㅎ딱딱해서 치아 상하는 그런 오란다 노노놉말랑말랑 쫀득쫀득 너무 달지 않아서 더 맛있는 오란다 찾으신다면 진짜 완전 추천해요설탕이 안 들어있어 건강에도 좋을 것 같고낱개 포장으로 챙겨다니면서 간식으로 먹기에도 좋아요개짜리는 선물포장으로 나와서 선물 할 곳 있으면 구매해봐야겠네요ㅎㅎ다 먹으면 또또또 구매할게요 오란다 좋아해서 옛날 과자점에 자주 갔는데 대량 포장이라꺼내 먹기도 불편하고 오래 보관하면 눅눅해지기 쉬운데우주오란다는 개별 포장이라 휴대도 간편하고 한 봉씩 까먹는 재미도 있어요딱딱한 오란다는 먹고 나면 입안이 까져서 아픈데 우주오란다는 먹기에 딱 적당해서먹으면서 입이 아프지 않아요많이 달지 않아 여러 개 먹어도 물리지 않아 요즘 최애 간식이 되었어요아이들도 어찌나 잘 먹는지 하원하고 오면 우주오란다부터 찾아요바닐라 아이스크림이랑 같이 먹으면 진짜 맛있어요오란다 좋아하는 분들 우주오란다 추천드려요 제품 장점 오란다가 이렇게 말랑 하고 안 딱딱할수가 있네요 ㅎ정말 맛나요 주전 부리 좋아하는 아빠 사드렸는데 이렇게 부드럽고 맛난 오란다는 처음 드셔보신다면서 어디서 산거냐고넘 좋아하시더라구요 ㅎㅎ추억의 간식이라 한번 사본건데 맛난 오란다 가족끼리 하나씩 까먹으면서 도란도란 얘기 나누고참 좋았네요  구매 총평 패키지도 예쁘고 깔끔해서 선물용으로 선물해도 센스쟁이 될듯 해요 사이즈도 꽤 커서 하나먹음 출출하고 당떨어질때 충분한 간식이 될거 같습니다많이 달지 않아서 좋고 부드러워서 어르신들 간식으로도 추천해요 저 정말 오란다에 미쳐 사는 타입이고 다양한 곳에서 노포에서 오란다 보이면 곧장 사는 타입인데우주오란다 제품 말랑말랑이라고 해서 키워드가 믿음이 잘 가질 않았는데정말 한 입 먹고나서 다른 오란다와는 확연히 다른 촉촉 말랑말랑 키워드가 딱 걸맞네요 ㅠㅠ부드럽고 촉촉하고 말랑말랑한 느낌이 무척 좋아요시간이 지나면 또는 밖에다두면 차가워지면서 딱딱해지겠거니 했는데 전혀어떻게 만들었는지 신기할정도로 촉촉하고 말랑한 느낌이 좋네요치아에 무리가 가지도 않을거같고 할머님이랑 같이 먹어도 좋을거같아요 너무 맛있어요많이 안달지만 살짝 달달하니 당 땡길떄 부담없이 먹기 좋습니다 찐뜩거림이 타 브랜드 오란다에 비해 덜 해서 좋습니다찐뜩거리지 않아 이빨에도 잘 안달라 붙어요부드러워서 아이들 간식이나 어르신들 간식으로도 좋을 듯 싶습니다일반적인 오란다는 조금 딱딱하고 과자 알 들이 완전 뭉쳐져있는데요 이 오란다는 살짝 흐뜨러지는 느낌이에요 패키지가 예쁘고 개로 소포장 되어있어서 가지고 다니면서 먹기 좋습니다 배고플떄 먹으려고 가방에 하나씩 두고 먹는데 예쁘고 과자 부스러기도 잘 안나는 간식이라 편하고 부담없이 먹기 좋습니다 이빨이 약하신 분들은 이 오란다는 딱딱한 오란다가 아니라 아주 부드럽게 먹기 좋아요 아이들 이 가 약하신 분 어르신들 혹은 너무 단 과자는 좋아하지 않는 분들에게 추천합니다 남편이 옛날과자류를 좋아하는데오란다를 특히 좋아해요오란다도 딱딱한거 말고 저렇게 약간 말랑말랑 한걸 좋아하더라구요개별포장으로 다 되어있어서 먹기도 편리했고박스가 힘도 있고 너무 이뻐서 선물용으로도 괜찮겠다싶더라구요 ㅎㅎ 다음에 간단하게 선물할곳 필요하면 괜찮을꺼 같아요유통기한도 길어서 한참 놔뒀다가 먹을수 있을꺼 같아서 좋습니당한개사이즈도 딱 적당한거 같네요 처음에 말랑말랑 오란다 보고 에이 오란다는 딱딱한게 제맛이지 라고 생각했지만 호기심으로 한번 사먹어봤거든요 근데 여기 오란다 정말 맛있네요 이제 오란다는 말랑말랑 오란다가 제 취향입니다 맛도 맛있고 식감도 좋아요 그리고 좋은건 할아버지할머니 아이들도 맛있다고 잘 먹더라구요 그래서 한번더 구매했어요제 입맛에도 맞는데 다들 맛있다고 하니까 제가 더 기분이 좋네요 ㅎㅎ 오란다 맛집으로 찜해뒀으니 오란다 먹고 싶을때는 여기서만 재구매 하렵니다 많이 파세요 오란다를 정말 좋아해요 맛있어서 즐겨 먹는데먹고 나면 입천장이 까지는 경우가 있어서말랑말랑하면서 맛있는 오란다를 찾고 있었어요먹어보니 말랑말랑 탈콤하고 정말 맛있네요간식으로 먹기 딱 좋은 것 같아요개별포장이 되어있어 눅눅해지지 않고 위생적으로보관할 수 있어서 정말 좋아요그리고 개별포장이 되어있기에 가방에 한 두개 넣고휴대하여 먹을 수 있어 좋네요가족들 모두 너무 맛있다고 극찬을 했어요너무 맛있어요 간식거리로 달달한게 먹고 싶어서 검색하다가 구매했어요 어릴때 자주 먹었던 오란다 오랜만에 먹어보고 싶었네요 총 개 들어있고 직사광선을 피하고 서늘하고 건조한 곳에서 실온보관 또는 냉장이나 냉동보관을 권장드리며 가급적 빨리 먹으라고 적혀있네요 개라서 금방 먹을거 같아요 적당히 달고 딱딱하지 않아 좋아요 살짝 말랑말랑하고 이빨에도 많이 달라붙지 않고 먹기 부담스럽지 않고 좋습니다 잘먹을게요도움되시라고 리뷰 남깁니다 오란다 진짜진짜 좋아하는 인이예요예전부터 옛날과자 사먹는거 좋아하는데 특히 오란다 너무 좋아해요보통 저렴한 오란다는 씹을때 너무 딱딱하고 먹기 불편한데 요거 정말 말랑말랑하게 잘 만들어진 수제 강정이예요그리고 번 먹기 편하게 개별 포장되어있구포장 디자인 조차도 옛날 감성 느낄수있게 레트로 같아서 너무 좋아요이번에 명절에 가족들끼리 다같이 먹으려고 구매했는데 진짜 초초초대박 만족이예요적당한 단맛이어서 더 만족스러운거 같아요 요즘 맛있고 퀄리티 높은 과자가많지만 가끔은 예전 생각에 젖어옛날과자를 찾게 되는 중년입니다하지만 오란다는 딱딱하고 먹기부담스러워서 안사게 되는데웹서핑중 말랑하고 맛있는 오란다를발견하고는 바로 주문했어요평이 좋은 후기글이 많았지만 그래도혹시나 하는 마음에 개들이 옵션을주문하고 배송 받자마자 맛본다고한개 먹어보고 두개세개를 순삭진짜 부드럽고 촉촉한데 많이 끈적이지도 않고 달달함이 과하지 않아서너무 맛있어요 개별포장이라 조금씩꺼내서 베어물면 어느새 빈봉지만ㅋ몇일 안가서 다 먹을듯한데 재주문때는넉넉히 사서 쟁여둘 생각입니다 맛도 있지만 개별포장이라 더 매력적이고 선물용으로도 좋겠어요맛있는건 좋은 사람들과 같이 먹으면 기쁨도 배가되니 출근길에 몇개 챙겨서 동료들과 오후에 커피 마시며 나눠 먹을 생각입니다누구나 다아는 그 딱딱한 오란다생각하시고 혹시나해서 망설이신다면시간 낭비일 뿐이라고 말씀 드립니다찐으로 맛있고 매력적인 오란다예요이 맛있는 과자를 많은분들이 드셨으면좋겠어요 맛있는거 먹을때 느끼는소소한 행복을 나누고 싶네요글 쓰다보니 내가 직원인듯ㅋㅋ 재구매 확률  입니다 우주오란다 말랑말랑 플레인 강정 g 개 리뷰안녕하세요 여러분 오늘은 제가 최근에 구매해본 우주오란다 말랑말랑 플레인 강정에 대해 자세히 리뷰해 드리려고 합니다 이 제품은 g씩 소분된 패키지로 개가 들어 있는 구성이에요 저는 이 강정을 가족과 함께 즐기면서 여러 가지 장점을 느꼈는데 그 경험을 여러분과 공유하고 싶습니다 제품 소개우주오란다 말랑말랑 플레인 강정은 맛과 위생 보관의 편리함을 모두 갖춘 제품입니다 각 패키지는 g으로 소분되어 있어 전체적으로 개가 들어있는 구성입니다 이 강정은 간식으로서 매우 훌륭하며 바쁜 일상 속에서도 간편하게 즐길 수 있는 간식이에요 위생적이고 편리한 소분 포장작은 양으로 소분되어 있음이 제품은 g씩 소분된 패키지로 제공되기 때문에 한 번에 필요한 만큼만 꺼내서 먹기 좋습니다 한 봉지씩 꺼내 먹으면 양을 조절하기가 편리하고 과식할 걱정도 덜 수 있어요 가족이 많은 집에서는 특히 유용한 포장 방식이라고 생각합니다위생적소분된 패키지는 위생적으로 관리할 수 있는 큰 장점이 있습니다 개별 포장이 되어 있어 손이나 공기와의 접촉이 최소화되기 때문에 더욱 깨끗하고 안전하게 먹을 수 있어요 특히 아이들이나 노약자가 있는 집에서 간편하고 위생적인 간식으로 좋습니다보관의 용이성소분 포장 덕분에 보관이 아주 간편합니다 한 봉지씩 꺼내어 사용할 수 있어 공간 차지도 적고 보관할 때도 부피를 차지하지 않아 냉장고나 서랍에 간편하게 보관할 수 있습니다 개별 포장 덕분에 장기 보관 시에도 신선함을 유지할 수 있어요 맛과 질감가족들이 잘 먹는 간식우주오란다 말랑말랑 플레인 강정은 가족 모두가 좋아하는 간식입니다 맛이 적당히 달아서 누구나 부담 없이 즐길 수 있으며 식구들끼리 나누어 먹기에도 좋습니다 특히 아이들이나 어르신들도 무리 없이 먹을 수 있어 가족 간식으로 안성맞춤이에요적당한 단맛이 강정은 너무 달지 않아서 좋습니다 단맛이 적당히 조절되어 있어 입안에서 달콤한 맛을 느끼면서도 물리거나 질리지 않는 점이 장점이에요 간식으로 먹기 좋은 달콤함이 적당하게 유지되어 일상적인 간식으로도 딱 맞습니다말랑말랑한 질감강정의 질감이 말랑말랑해서 먹기 좋습니다 딱딱하거나 부서지기 쉬운 강정이 아니라 부드러운 질감이 입에 착 감기며 씹을 때 기분 좋은 식감을 제공합니다 특히 간식으로 먹기 좋고 간편하게 즐길 수 있어 만족스러워요 총평우주오란다 말랑말랑 플레인 강정은 맛과 위생 보관의 용이성을 모두 갖춘 훌륭한 간식입니다 소분된 포장 덕분에 위생적으로 먹을 수 있으며 보관도 간편해서 바쁜 일상 속에서도 편리하게 사용할 수 있어요 가족들이 함께 즐기기 좋은 간식으로 적당한 단맛과 말랑말랑한 질감 덕분에 누구나 맛있게 먹을 수 있습니다여러분도 이 강정을 한 번 시도해 보시면 좋을 것 같아요 위생적이고 편리한 포장 덕분에 일상적인 간식으로 정말 추천드립니다 제 후기가 도움이 되길 바라며 궁금한 점이 있으면 언제든지 댓글 남겨 주세요 감사합니다 온 가족이 오란다를 좋아해서 구매했어요바로 만들어서 보내주셨는지부드럽고 기름냄새가 전혀 없어요 많이 달지 않고 치아에 달라붙지 않아서 자꾸 손이 가는 맛이에요치아가 약한 아이부터 눈치 없이 여러 개 먹는 신랑도 잘 먹더라고요개별 포장으로 보관도 편하고 먹기 편해서 아이들 간식용으로 최고인듯해요한상자에 개 들어 있는데금방 다 먹을 거 같아 재구매하려고요빠른배송과 안전한 배송 감사합니다 부모님이 좋아하시는 최애 간식 오란다최근 시중에서 구매한 오란다가 너무 달고 딱딱하다고 하셔서말랑말랑하기로 유명한 우주오란다 주문했는데요먹어본 오란다 중 가장 부드럽고 맛있어서 완전 만족스러워요개별 포장 되어 있어서 보관하기도 좋고가방에 챙겨 다니기도 좋습니다너무 달지 않고 입안에서 정말 부드럽게 녹아요고소함과 달콤함이 같이 곁들어진 간식이라커피나 티백차랑도 너무 잘 어울리네요 다먹고 추가 구매했어요일반적으로 생각하는 오란다는 엄청 딱딱하잖아요그래서 오란다를 별로 좋아하지 않는데어쩜 이 오란다는 너무 부드럽고 맛있어요낱개 포장이라 주변에도 나눠 줘봤는데 다들 맛있다고 하더라구요입천장까지고 이빨이 깨질듯 아프고하지 않은 정말 부드러운 오란다예요말랑하고 끈적해 이에 많이 끼지 않을까 했는데 또 그렇지도 않아요요건 정말 너무 잘 만든 오란다 같아요딱딱하지 않고 말랑해서 어른들도 먹기 좋고 아이들도 먹기 좋아요옛날 과자가 먹고싶은데 딱딱해서 드시지 못하겠다시는 분들께 추천드려요 말랑말랑한 맛있는 오란다너무 맛있게 먹고 있습니다아이들도 좋아하고 어른들도 좋아하는 오란다딱딱하지 않으니깐 더 맛있게 먹기 좋은거 같더라구요말랑하게 먹기 좋은 과자라서 좋고바삭하게 입천장 까이지 않아서 좋고쩍쩍 붙지않아서 치아에 곤란하지도 않고그래서 더 맛있게 잘 먹기 좋아요간식으로 아주 인기만점이였답니다남녀노소 모두가 좋아할 그런 맛 이였어요 원래도 오란다 좋아하는데 요건 특별해 보여서 주문해 봤습니다배송 완전 빠르구요박스도 너무 귀여워서 선물용으로도 좋을 것 같아요 하나씩 개별로 포장되어 있어서보관도 용이하구요위생적이에요쫀득쫀득 말랑말랑 진짜 너무 맛있어요딱딱하지 않고 부드러워 누구나 먹기 좋을 것 같습니다아이들 간식용으로도 제격인것 같아요우주오란다 다들 꼭 한번 사서 먹어보시길 추천드립니다 오란다 좋아해서 마트에서 과자로된거 한봉지씩 사다 먹었는데 이건 그거랑 다르게 고급스러운 맛이나네요많이 달 줄 알았는데 생각보다 달지 않고 설탕맛이 강하게 느껴지지 않아서 맛있어요하나씩 포장되어 있어서 먹다 남길일도 없고 딱딱하지 않아서 좋아요나이드신분들이나 어린아이가 먹기에도 좋고 곧 설 다가오는데 간단한 간식 선물로도 좋을듯해요 오란다를 평소에 굉장히 좋아하는 편 입니다달지않고 부드럽고 오란다콩이 큼직한 맛있는 오란다입니다시중에서 수제 오란다라고 눈 앞에서 만들어서 파는 오란다보다도 훨씬 더 부드러워요 단맛도 적어서 계속 집어먹을 수 있구요정말 오란다 많이 먹어봤다고 자부하는데 이렇게 맛있는건 처음 먹어보네요 역시 오란다는 우주 오란다 이 집이 젤 맛있어요딱딱한 오란다는 먹고 나면 입천장이며 입안이 난리가 나는데 우주 오란다는 말랑말랑 부드러워 그럴 일이 없지요지난번 주문했을 때랑 조금 달라졌는데 기분 탓인가 더 맛있네요개가 한 상자라 양도 푸짐해서 주위 지인들과 나눠 먹어도 좋아요 개별포장이라 보관도 편하고 몇개씩 가방에 챙겨가지고 다니면서 먹으려구요어릴적 먹던 오란다는 너무 딱딱해서 먹기 불편했는데 우주 오란다는 딱딱하지 않아요쫀득하면서도 입에 넣어 씹었을때는 바삭한 식감이어서 먹기도 편하지만 너무 맛있어요달달하면서도 은은하게 계피향이 느껴져 너무 맛나요 틀니 임플란트 해도 먹을 수 있는 오란다너무너무 맛있어요너무 안달고 적당한 고소함에 바삭바삭거기다 입에 달라붙지않고 먹기 간편합니다너무 맛있고 개별포장되어있어서 양 조절이 가능하네요정말 너무너무 잘먹어지게되요진짜 심심할때 간편한 간식으로 최고인 듯 합니다 요즘 오란다에 빠져사는데마트나 시장 오란다가 아닌 제대로 된 제품 한번 먹어보고 싶었는데 먹어보니 큰일났네요 딴거 못먹을꺼 같아요 무설탕인데 진짜 너무 맛있어요 이 나갈걱정도 없이 말랑말랑한데더가 소포장 되어있어서 더 좋은거 같아요근데 난 몇개씩 그 자리에서 클리어 해버립니다 진짜진짜 멈출수 없는 오란다 계기엄마가 입이 심심하시다며과자를 드시고 싶어 해뭘 주문해드릴까 하다가이걸 주문해드리게 되었습니다 배송오란다 박스가 쿠팡 비닐에 담겨배송되었어요 디자인개별 포장 되어있고선물하기 좋게깔끔한 박스 포장 되어선물용으로도 좋은 디자인이었습니다 맛상세페이지에 써있는 것처럼전혀 딱딱하지 않았어요그리고 맛도엄마는 꿀이 발라져 있어서 그런지너무 달달하고 맛있다며 잘 드셨고전 단 걸 피하는 편이라엄마거 맛만 본다며 한 입 깨물었다가너무 맛있어서하나 다 까먹을 정도로맛있었어요ㅋㅋ 어울리는 음료개인적으로 전커피보단 우유에 더 잘 어울린다 생각합니다 추천여부달달한 걸 좋아하시는 분들은 물론달달한 걸 좋아하시는 분들께선물용 간식을 고민하시는 분들께이 오란다를 추천드립니다 인생 오란다예요오란다 찐 매니아인데요 여기꺼 진짜 부드럽고 이에 달라붙지도 않고 넘 맛있어요저렇게 네모난 모양이지만 깨물면 사르르 녹아버려요아이도 잘먹고 저희가족 순삭했쟈냐요남편이 더 사달라고해서 추가주문하러갑니다 요즘 나오는 오란다는 딱딱하지 않네요우주 오란다 딱딱하지 않고 아주 말랑말랑 보들보들한 오란다입니다 저희 집에 아이가 셋이 있는데 가끔씩 제가 옛날 과자를 먹을 때가 있어요 이번에 제가 너무 먹고 싶어서 구매했습니다 아이들이 안 먹을 줄 알고 나만 먹으려고 구매한거 맞음 그런데 저희 아들이 한번 먹어보고는 어 이거 좀 고소하고 빠삭한데 맛있네 하고는 계속 먹지뭐에요 이거 너무 맛있는 것 같습니다 큰일이에요 나만 먹으려고 산 건데ㅋㅋㅋㅋ우주 오란다 아이들도 이가 아프신 어른들도 드시기좋은 간식이에요쓰고 있는 지금도 먹고 있는데한봉지 순삭했어요이거 리모콘보다 조금 작거든요보통 오란다보다는 크기가 좀 있는데그냥 마구 넘어가요위험해요ㅋㅋㅋㅋ아메리카노랑 혹은 우유랑 먹으면 아주 찰떡 입니다완전강추 온 가족이 다 좋아하는 말랑한 오란다에요개별 포장이라 하나씩 들고 다니면서 꺼내먹기 편하고 딱딱하지 않아서 치아손상 걱정없이 먹을 수 있어요특히 부모님 간식으로 딱입니다등산 가실 때 챙겨가니 너무 좋다고 하시네요우주오란다 너무 맛있어요 회사 분들과 나눠먹으려고 구매했는데다들 오랜만에 보는 오란다라 좋아하시더라고요딱딱하지 않고 말랑한 오란다라 더 맛있게 먹었고달달하니 맛있어요개별 포장이 되어있어서 나눠먹기에 좋고간식으로 많이 쟁겨놓고 먹어도 좋을 것 같아요 쫀득쫀득 말랑말랑 부드러운 우주 오란다 플레인 강정입니다 오란다는 저의 추억의 간식인데 아들이 더 잘먹네요 진짜 너무 맛있어요 개별 포장으로 되어있어서 언제어디서나 맛있게 즐길수 있어요 오늘은 온가족이 진짜 맛있게 간식을 먹었네요 이렇게 부드러운 오란다는 처음이네요이에 달라붙지 않아서 너무 좋고 아이들 간식으로 먹여도 걱정이 덜합니다사이즈 큰편이라 아침에 신랑 출근길에 커피랑 챙겨주니 좋아라 하네요다 먹고 재주문하려구요 항상 부모님 간식으로만 주문하다가 아이들과 함께 먹을려고 주문했습니다 어린시절에 사 먹던 오란다는 딱딱한 바삭함이였던거 같은데 우주오란다는 부드러운 바삭함입니다 왜 부모님이 좋아하시는 줄 알겠습니다개별포장이여서 등교길에 아이들 책가방에 간식으로 몇개씩 넣어줬어요만족하는 구매였습니다 아주 좋은 선택이었어요광고처럼 딱딱하지 않고 부드럽게 씹힙니다그렇게 찐득하지 않은것도 맘에 들어요실온에 두고 하나씩 꺼내먹기에 딱입니다개별포장 되어있어서 휴대하기에도 좋아서 학교가는 아이들 가방에 하나씩 넣어보냈어요회사직원들 맛보라고 가져갔는데 다들 맛있다고 해서 공유했습니다 ㅎㅎ그러다보니 너무 빨리 없어졌네요 ㅋㅋ선물용도 있던데 이번엔 선물용으로 구매할까 해요연령 상관없이 좋아하는 오란다라서 선물해도 좋을것 같아요맛있는 간식 감사해요 아이들이 달달한 오란다를 좋아하는데 미취학아이들에겐 딱딱한 오란다는 씹기도 힘들더라구요 말랑한 오란다 한번 먹어보더니 너무 좋아해서 서치하다가 우주오란다 만났어요오자마자 하나 뜯어서 입에 넣는데 정말 깜짝 놀랐어요제목그대로 말랑말랑 부드럽게 씹히면서 입에서 살살 녹아요 제가 먹는거 보더니 아이가 달려와서 바로 뺏어갔네요 너무맛있다고 앉은자리서 몇개를 까먹었는지 몰라요개 개별포장되어있어서 가방에 한두개씩 넣어다니면서 아이들 간식으로도 주기 좋구요 갯수가 넉넉해서 직장가져가서 동료들 몇개씩 나눠주기도 좋네요 오란다 찾는분들 우주오란도 꼭 사세요강추 주전부리 옴청 조아해요음부드럽긴해요부드러워서 흘러내린다이런 느낌근데기름냄새 올라와요ㅠ제가 기름냄새에 예민하긴해요ㅠ옛날에 먹던 그 오란다 향과 맛은잘 안느껴졌어요개인의 취향 차이겟져제조날인이너무 바쁘셔서 막 밀려서 찍혓는지홈마야세상 까칠입맛 신랑이 맛잇데요안달고 안딱딱하고 맛잇다는데용시장껀 딱딱하고물엿 너무 부어 달고 자극적이라꼬 그러네요제가 남표니가 말하는 그런 자극적인걸 조아하나바용 ㅎㅎ그게 옛날 오란다 맛인가ㅋㅋ기름에 튀긴거라 기름냄새 당연 이정돈 난다고 하이고 버릴라햇는데 놔두고드시라해야게써용 오란다 강정 진짜 제가 여태 먹어본 강정 중에 제일 맛있어요너어무 달지도 않고 살짝 달짝지근하면서도 쫀득쫀득 바삭바삭한데입천장 아프지 않은 적당한 바삭함에 달달한 강정이 진짜 맛있네요사이즈도 크고 개별 포장이 되어있어서 보관하기에도 위생적으로 넘 좋을 것 같고고급스럽고 패키지 디자인도 예뻐서 선물용으로도 완젼 강추추추추이가 안좋거나 딱딱한거 안좋아 하시는 분들도 잘 드실 수 있을만한겉바속촉 말랑말랑한 강정이라 남녀노소 모두 좋아할 듯 싶어요무조건 또 재재재구매 할게요ㅎㅎ 아이들 간식으로 매번 같은것만 주기 좀 그래서새로운 간식으로 오란다를 주문했어요저희에겐 추억의 간식이지만 아이들은 생소해 하더라구요안먹으면 어쩌나 싶어 개만 주문했는데 정말 순삭ㅠ너무 금방 다 먹었어요하나씩 개별포장이 되어있어놀이터 갈때나 학원가방에 하나씩 챙겨주기 좋아요그러다보니 더 금방 먹은 것 같아요딱딱하지 않고 부드러워서 아이들도 부담없이 먹을 수 있고달달해서 너무 맛있다고 잘 먹네요초코나 젤리등 다른간식보다 건강하게 억을 수 있어서 좋아요 오란다 같은 애들 먹으면 맛있긴 한데 딱딱한 거 잘못 먹으면 입안이 피바다되잖아유근데 요건 바샤샤샥 식감 살리면서 증말 부드러워요좀만 싸면 주기적으로 사고 싶은데 돈 열심히 벌게요단 편이긴 한데 딱딱하지 않아 으른들 선물용으로도 좋습니다 시댁에 좀 드렸더니 놀러가실 때 챙기신대요 가격은 비밀ㅎ골드박스 올라올 때까지 존버하겠습니다만 초반 때면 다들 도전해보는 것도 추천드려요 동생이 선물로 보내줬는데 너무 맛있어서또 구매한 오란다예요첨에 동생이 보내준다고 했을 때 크라운 빠지기 싫다고 보내지 말라고 했는데절대 그런 딱딱한 오란다가 아니라며 한번 먹어보라며 보내주더라구요와 근데 진짜  존맛말랑말랑하고 하나도 딱딱하지 않아서 앉은 자리에서 몇 개나 까먹었어요 질리지도 않아요많이 달지도 않고 딱 적당히 맛있는 맛오늘도 아까 몇 개나 먹었는데사진 찍은 게 없어서 ㅋㅋㅋ리뷰 쓰려고 방금 또 까서 사진 찍은 후에 먹으면서 리뷰 쓰고 있네요 ㅋㅋ우주오란다 말랑말랑오란다ㅠ 진짜 너무너무 맛있어요우리엄마도 좋아할 것 같아서 엄마집으로도 보내줘야겠어요 단점은 없어요ㅠㅠ계속 먹다가 살찔 것 같다 말고는 ㅠ ㅋㅋㅋㅋㅋㅋㅋㅋ 예전에 시장표 오란다 한 번 사 먹었는데 너무 맛있더라고요 그렇지만 너무 딱딱해서 이가 좀 아프던데 친구가 말랑한 오란다가 있다길래 반신반의 하면서 구매했네요배송 받자마자 한봉지 뜯어 먹었는데 어맛 어쩜 이리 부드럽나요치아에 자극도 하나 없고 바삭하면서도 부드러워서 게눈 감추듯 순삭하게 되네요ㅎ맛있어요과자류 별로 안좋아하는 옆 동료한테 하나 줬더니 언제 다 먹었는지 더 달라는 눈치라 못본척 하고 있어요ㅋㅋ맛있는건 나만 먹어야 돼요 ㅋㅋ 임신중인 임산부예요어렷을때 먹었던 옛날과자가 갑자기떙기더라구요입천장이 까지도록 먹었던 오란다그런데 임산부라아무꺼나 먹을 수 없어서혹시나 찾아보다가 우주오란다는 영양사가님께서직접 만든다고 해서 안심하고 바로 주문했어요하나씩 낱개개별포장이 되어있어서 편하고바삭바삭하지만 말랑말랑하기도 해서 먹기에도 편하고 너무 맛있어요ㅁㅋ개별포장으로 하나씩 되어있어서 선물용으로도좋을꺼 같네용ㅡ 아이가 어린이집에서 오란다를 맹그러서왔는데 바로 만들어그런가 말랑말랑하게너무 맛난거예요글서 급 쿠팡어서 찾아보는데딱 제가 찾던 제품인듯해서 구매해봫는데적당히 달고정말 말랑말랑 너무 맛좋습니다전 딱딱한건 입천장 다 까져서 싫더라구요맛있긴해도요 ㅠㅠ 보통 오란다 느낌 아니고 딱딱하고 꽉 깨물어 딱딱해서 쪼금씩 베어먹던 그런느낌이 아니라어디서 먹어본맛 유과 유과느낌이 나요유과보단 좀 단단하지만 기존보단 훨 약한쫜득하믄서 기존 오란다보단 잘 으스러지는식감 맛 전박적으로 제느낌엔 유과입니다약간의 기름쩐내도 나는것 같은데전 먹을만 합니다또 입천장 약하신분들은 까질위험 있어요ㅎㅎ당 땡길때 좋을듯요앉은자리서 개까정은 암 생각없이 먹을수 있어요 그뒤 칼로리 생각나고 ㅠㅜ암튼 다 먹은뒤엔 또 생각이 날것 같아요 구매 상품명 우주오란다 말랑말랑 플레인 강정 개 g제품을 선택하게된 이유 딸래미의 최애라서 구매하게 되었는데 제가 먹어봐도 맛있어서 자꾸 구매하게 되네요  제품을 추천하고 싶은 사람은 맛있는 오란다 과자 좋아하시는 분 추억의 오란다 좋아하시는 분 온가족 간식  위의 해당 사항은 모두  제가 해당하는 사항들이라서 제가 겟하게 되었습니다 상품의 상세한 후기 저는 우주오란다를 꾸준히 애용하고 있어요  어쩌다가 제 눈에 우주오란다가 뛰게 되어 한번 사서 아이들을 먹여보았는데 아이들이 너무 잘 먹더라구요 그리고 이제는 오란다 사달라고 아이들이 먼저 이야기해요 그래서 저희집은 꾸준히 애용하고 있는 오란다에요 크기 개에 그램 정도 용도 간식으로도 좋고 커피에 곁들어 먹어도 맛있어요  어른 아이 불문하고 먹을 수 있는 간식이라서 애정하고 있습니다 호감도 아이들이 좋아해서 호감도 백프로 입니다 가격대비 이정도면 가성비도 좋은 제품이라고 생각해요 사용방법 우유에도 잘 어울리고 커피에도 잘 어울리고 그냥 과자간식으로도 좋고  입 출출할 때 먹어도 좋구 아무 쪼록 다 좋은 것 같아요 별점 점 중에       점 드리고 갑니다 여기까지 제가 직접 사용해보고 쓰는 솔직한 찐 리뷰 였습니다도움이 되셨다면 도움되요 한번 눌러주시면 감사하겠습니다 어버이날 할머니 드릴 간식으로뭘 드릴까 하다가 오란다로 선택하게 되었어요구매평에 말랑말랑하니 딱딱하지않고 이에 안달라 붙는다는 글이 많더라구요저희 할머니가 이가 안좋으셔서많이 달라붙지않고 부드러운걸위주로 사다드리는편 이거든요한과나 빵종류로 많이 사드리는데이번엔 한개씩 까드시기 좋은걸로샀는데 제가 먹어보진 못했는데제품열어봐서 살짝 눌러봤는데진짜 폭식하니 말랑말랑하더라구요잘선택한거 같았어요할머니 찾아뵙고 이에 안달라붙는지후기 다시 올릴게요후기오이에 정말 안달라붙고살살녹듯이 씹히네요이안좋으신 어른들한테 최고예요막 엄청 달지도 않아요구매평 좋은이유가 있네요 저번에 소량구매해서 먹었는데 넘나 맛있어서 재구매했어용수제 오란다는 이제껏 먹었던거랑 정말 다르다는ㅋㅋ 너무 달지 않고 부드러워요 이에 쩍쩍붙고 너무 단단해서 먹을때마다 이조심하게 되는데우주오란다는 이에 들러붙거나 딱딱한 그런 오란다 아니라 살 아이도 맛있다고 너무 잘 먹어요앉은자리에서 봉 순삭했어요 다 먹고 또 사러올게여 아이들이 급식에서 오란다가 나왔었는데 맛있다 하길래간식용으로 구매했어요딱딱한 오란다만 먹어봐서 오란다를 좋아하지 안았었는데우주오란다는 촉촉 바삭 쫀득 너무 맛있어요왜 이걸 이제야 봤는지 아이들도 학교 급식에서 먹었던것보다 더 맛있대요삼남매랑 같이 먹으니 순삭이네요 추가 더 주문해야겠어요 딱딱한 오란다만 먹다가야들한 오란다 먹으니입천장 덜 까이고 좋으네요운동가서 지인들이랑나눠먹기 넘 좋은 간식입니다유통기한 년 남짓으로넉넉합니다주일이면 사라질 운명이지만요 다먹고 추가 구매했어요일반적으로 생각하는 오란다는 엄청 딱딱하잖아요그래서 오란다를 별로 좋아하지 않는데어쩜 이 오란다는 너무 부드럽고 맛있어요입천장까지고 이빨이 깨질듯 아프고하지 않은 정말 부드러운 오란다예요말랑하고 끈적해 이에 많이 끼지 않을까 했는데 또 그렇지도 않아요요건 정말 너무 잘 만든 오란다 같아요딱딱하지 않고 말랑해서 어른들도 먹기 좋고 아이들도 먹기 좋아요옛날 과자가 먹고싶은데 딱딱해서 드시지 못하겠다시는 분들께 추천드려요 오란다 워낙 좋아해서 인터넷으로도 함 시켜보자 싶어서주문해봤는데 생각보다 양이 많네요그리고 딱딱하게 굳은 오란다가 아니라부드럽고 적당히 단맛이 감도는 맛이에요어머니도 드셔보시고 딱딱하지 않아서 더 맛있다고끄덕끄덕 하시더라구요 ㅋㅋㅋ금방 다 먹고 주문 한 번 더 할 것 같아요 ㅋㅋ 오랜만에 오란다 먹고싶어서 구매 했거든요근데 너무 맛있어요잘못 구매하면 딱딱하거나 너무 달거나 치아에 붙어나구 하는데 우주오란다 먹어보니 부드러우면서 고소하면서 또 너무 달지 않아서 완전 만족이요회사에서 배고플때 간식용으로 딱일것 같아요 재재구매에요부모님 사드리적있는데맛있다고 말씀하셔서 다시 주문했어요오란다 좋아하시는데 딱딱해서 못드신다고하셔서 사드린건데이건 부드럽고 이에 부담없고 좋으시다네요저도 아이들 있어서 가끔 주문해서 먹는데 맛있어서 제가 더많이 먹는듯해요ㅎㅎ 평소 약과 한과 오란다 떡 등 전통과자류를 즐겨먹는 MZ세대입니다 새로운 간식류 탐색중 패키지가 눈에 띄게 되어 구매하게 됐습니다밖에서 사먹는 시중 오란다는 보통 딱딱한데 우주오란다는 갓만든것처럼 쫀득쫀득 말랑말랑해요 말랑말랑한데 신기하게 또 입에 끼지는 않습니다회 분량으로 먹기에도 딱 좋고 제 생각에는 사무실 간식으로 먹으면 딱일 것 같아요칼로리도 개에 칼로리 정도 밖에 안돼서 식전 식후 언제 먹어도 부담 안될 것 같아요어르신들 혹은 옛날과자 좋아하는 주변 지인 분들께 선물하기에도 좋은 패키지네요 굿 치아가 안 좋으신 아버님 선물로 드렸더니 너무 좋아하세요 부드러우면서 바삭하고 너무 맛있다고 치아에 달라 붙지 않아서 좋다고 다른 오란다는 딱딱해서 먹기가 조금 힘든데 우주 오란다는 부드럽고 쫀득쫀득 말랑말랑 해요위생적인 개별 포장으로 보관하기도 편해요 제품명  우주오란다 말랑말랑 플레인 강정 오란다가 너무 딱딱하지 않고 말랑말랑해서 쫀득쫀득 합니다 어린이집 친구들 선물로 주었는데 아이들이 너무 맛있었다고 좋아합니다오란다 정말 좋아하는데 이거 먹고 정말 와 맛있다 했던거 같아요  ㅋㅋ우주 오란다 최고입니다 음 제가 오란다를 많이 안먹어봤는데뭐랄까 맛에서 기름내 라고 하나저한텐 좀 거슬리더라구요그 외에 맛 자체는 괜찮았어요부드러운거도 맘에 들었어요 어릴적 먹던 오란다는 딱딱했었는데이젠 이빨도 생각해야 하는 나이인지라 말랑오란다라 해서 반신반의 하며 구매했는데결과는 대박정말 말랑말랑하고 달달하니 넘 맛 있어요시댁갈때 친정갈때 꼭 쟁겨가게 되는 간식거리대인 제 입맛에도 정말 맛있어요 달달하면서 자꾸 손이 가는 맛이에요딱딱한 오란다를 안 좋아하는데 부드럽고 말랑거리고 맛있어요이에 약간 달라붙긴 하지만 오란다가 이에 안 붙긴 쉽지않죠 ㅎㅎ너무 맛있어서 주변 사람들한테 강추한다고 하나씩 주는데주면서도 저도 모르게 아까워하는거 있죠 ㅎㅎ 오란다 넘맛있는데요한개만 먹으려다가 개나먹었어요ㅋㅋㅋ옛날에 먹던 딱딱한게아니라부드럽고 쫀득 고소합니다 오란다 판매하는 상품중에 개인적으로 제일 맛있는 것 같애요 적당히 달고 식감도 말랑해서 좋아요 저는 쿠팡에서 구매한 우주오란다 말랑말랑 플레인 강정 g 개에 대해 매우 만족합니다 해당 제품에 대한 제가 주는 점 만점 평가와 이유는 다음과 같습니다 맛에 대한 만족도 이 강정은 입안에서 녹는 듯한 부드러운 식감과 달콤한 맛이 일품입니다 매우 진한 우유의 풍미가 느껴지며 입안에서 녹는 듯한 식감으로 더욱 매력적입니다 전통 강정보다 훨씬 맛있고 부드럽다고 느꼈습니다 포장 및 배송 상태 제품은 깔끔한 포장 상태로 안전하게 배송되어 왔습니다 로켓 배송으로 빠르게 받을 수 있어서 좋았고 제품이 손상되지 않도록 충분한 보호가 되어 있었습니다 가격 대비 만족도 이 제품의 품질과 양에 비해 가격이 매우 합리적이라고 생각합니다 g 짜리가 개나 들어있어서 가성비가 매우 뛰어난 편이었습니다 위 가지 기준을 고려할 때 우주오란다 말랑말랑 플레인 강정 제품은 훌륭한 선택이었고 다른 사람들에게도 적극 추천하고 싶은 제품입니다 이렇게 부드러운 오란다라니 이에 안달러붙고 너무 맛있어요 ㅋㅋㅋ 아이도 잘먹네요 조금만 덜 달면 더 좋겠구요부드럽지만 밀가루보단 쌀가루로 된 오한다면 좀 더 건깅할것 같아요자꾸 손이 가는데 먹고나면 소화가 잘 안되는것 같아서 쌀오란다를 기대해 봅니다가격도 더 저렴해야 자주 사먹을수 있겠어요배송상태는 정말 실망입니다 부드러운 강정이길 망정이지 낱개포장지와 강정이 따로 노는게 몇개 있었어요 겉박스는 사진처럼 다 뜯겨지고 ㅠㅠ 오란다 제가 제일 좋아하는 간식이에요꾸준히는 아니더라도 집에 쟁여놓고 먹는 간식인데요요즘은 오란다를 불러도 딱딱하거나 시간 지나면 맛이 없어져서안 먹고 있다가 우주 오란다를 주문해 봤어요도착해서 하나 먹어 봤는데 오란다가 되게 부드러워요씹었을 때 부드럽게 씹히는 게먹기도 편하고또 맛도 억지로 너무 달지 않아진짜 앉은 자리에서 다섯 개는 먹은 거 같아요개수도  개나 들어 있어 아주 맛있게 잘 먹었어요 쓰면서도 말이되나 싶긴한데 말랑부드러우면서 바삭해요 시중의 딱딱한 오란다만 먹다가 이거 먹으니 신세계네요 옛날 과자의 대명사인 오란다를 배달해서 먹어보기는 처음으로서 맛에 대한 궁금증이 있었지만 예상보다 달지 않으면서도 쫀득쫀득한게 특이할 정도였습니다 많은 오란다 맛봤는데 이렇게 부드럽고 살살녹는 오란다는 처음이네요 이가 않좋으신 어르신들에게 좋을듯 오란다가 가끔씩 생각나서 구매하게 되었는데요엄청 부드럽고 맛있네요으른들 간식용으로도 아주 좋아요재구매 의사 백프로입니다 ㅎㅎ이상 내돈내상 솔직후기였고요도움이 되셨다면 하단의 도움이 돼요를 눌러주시면 감사하겠습니다 한자리에서 세봉지 순삭ㅜ넘맛있네요달달하고 부드러운 오란다왠지 계속 사놓을 것 같아요ㅎㅎ부드럽고 촉촉 달달 오란다가 먹고 싶어서 여기저기 군데는 먹어봤는데 맛은 우주오란다가 제일 맛있었어요 근데 제일 적은 갯수로 시켰을 때는 부실한게 없었는데 맛있어서 양많은 걸로 시켰더니 부실한게 많네요ㅠ길이가 짧은 것도 있고 꼼꼼히 안매꿔져있는 상품도 많았어요 그런 부분이 아쉽네요 할인할 때 자주 사먹을거 같은데 보완해주시면 좋을 것 같아요 평소 오란다를 너무 좋아하는 가족인데 부모님이 점점 이가 약해지셔서 못드셨거든요ㅠ이 오란다는 부드럽다고해서 구매해봤어요정말 너무너무 부드러우면서 오란다의 맛은 똑같아서 부모님이 너무 좋아하시네요덕분에 살 아이도 같이 잘 먹을수 있는 간식이 생겼어요그리고 낱개 포장이 되어 있어서 위생적이고 눅눅하지 않게 먹을 수 있는 장점이 있어요 구매후기 출출할때 아이들과 간식으로 먹기위해 주문했었어요 지금 다먹은지는 두달이 넘었네요 찍어야지 생각만하고 사진은 남겨놓지 못했네요한달동안 아이들과 간식으로 맛있게 냠냠 먹었는데요이빨에 달라붙지 않고 말랑말랑해서 아이들도 개씩 다 잘먹더라구요 저도 역시 출출할때 간식으로 먹었더니 말랑말랑 적당히 달달해서 하루에 개씩 먹고 그랬네요재구매의사도 당연히 있습니다 또 구매해 먹고싶은데 여름이라 조금 기다렸다가 가을에 또 구매해서 먹으려고 생각중입니다이상 내돈내산 오란다강정 먹고난 후기 적어보았습니다도움이되었다면 도움이돼요 버튼 눌러주세요 얼마전 동네에 수제쿠키 집에서 오란다를 주문해서 선물했는데 서비스로 받은 오란다를 먹고 너무 맛있어서 쿠팡에서 찾아봐서 가장 맛있어보이는 우주오란다를 주문했는데 헐 수제 오란다보다 더 수제 같은 맛이고 딱딱하지 않고 적당히 달콤 하면서 너무 너무 맛있어요 적극 구매 추천합니다 한달전부터 말랑한 오란다가 땡기는대대형마트에도 시장에도 안팔더라구요 ㅠㅠㅠㅠ 없는게 없는쿠팡 개별포장이라서 좋아요 말랑해요 넘맛있어요 ㅠㅠㅠ 살언니야 치카했는대 먹고 또양치했어요 ㅋㅋㅋㅋ 못참는 맛이라는거져내일 친구랑 여행가는대 같이먹을려고 챙겼어요 아아랑 맛나게 먹을려구요 먹고 재구매 꼭꼭할게요 오란다는 원래 좀 딱딱한데 찐득한 물엿맛으로 먹는다 생각했는데 뭐야 이거 진짜 부드럽고 원래 먹던거 생각하면 되게 당황스러울 수 있는데 앉은 자리에서 개 넘게 까먹고 있는 자신이 더 당황스러울겁니다 통인시장 부드러운 오란다 맛이 생각나 검색하니 비슷한게 있어 주문해봤어요맛은 그런대로 괜찮은 편이었는데 무게가 아니고 갯수로 파는 과자를 한 개가 거의 프로가 안들어 있는것도 있어 손해본 느낌이었어요 검수 좀 잘해 주시지ㅠ조청인가 꿀인가가 뚝뚝 떨어지려고 하는 사진은 과장된 거에요 오란다 특유의 딱딱함은 없어요맛은 있어요비싸요 ㅠㅠ 오란다를 넘 좋아하는데 딱딱해서 잘 먹지 못하다가 말랑말랑한 오란다 발견와우이렇게 말랑말랑 맛있게 만들수 있는데 기존 오란다는 왜그리 딱딱하게 만들었었는지친정 시댁갈때 어르신들 간식으로도 오케이계속 구매 예정이네요넘 맛나요 오란다가 촉촉한데 바삭하기까지 딱딱한거 잘 못 드시는 분들은 이걸로 드세요 선물들어왔던 오란다를 다 먹고 입이 궁금해서 시켜봤어요 리뷰 호평보면서 기대했는데 제 입에는 좀 쩐내가 나요 그래서 한 박스 시켰는데 이걸 어째야 하나 싶어요 우주 오란다 말랑말랑 플레인 강정평상시에 강정을 너무 좋아해서 구매하였습니다먹어보니 딱딱하지 않고 부드럽고 고소하고 달콤하고 너무너무 맛있어서 만족해서 후기를 남겨요가족들도 밥먹고 후식으로 같이 먹었는데 어디서 샀냐고 맛있다고 칭찬받았네요강정이라고 해서 딱딱하다는 편견은 버려도 될 것 같아요말랑말랑 진짜 맛잇는 강정 잘 산것 같습니다여태까지 딱딱한 강정만 먹어봤는데 이번엔 제대로 된 강정을 찾은 것 같아서 다 먹으면 또 구매예정이예요나중에 대량으로 샀다가 직원들한테도 선물용으로 나눠줘도 좋을 것 같아요맛있는 강정 찾고 계신분들에게 적극 추천 합니다도움이 조금이나마 되었으면 도움이 됐어요 눌러주시면 감사하겠습니다 어렸을때부터 좋아하던 오란다에요예전에 먹던 오란다는 다 딱딱했었는데 우주 오란다는 말랑말랑 치아에 달라붙지 않고 부드러워서 너무 좋아요적당히 달아서 맛도 훌륭해요다 먹으면 또 구매할게요 오란다 원래 굉장히 좋아라 했는데저번에 한 번 오란다 먹고 치아가 빠진적이 있어서몇년을 참고 참다가 상세페이지 설명보니많이 부드럽다고 하기에 바로 주문해 봤습니동ﾟヮﾟ도착하자마자 열어보니 포장 넘나리 깔끔하고크기도 큼지막 한것들이 아주 가성비 지립니당톡 끊어보니 쭈욱 늘어지는 말랑한 오란다한입 베어무니 단짠단짠한 맛이 환상이더라구요ㅠㅠㅠㅠ원래도 오란다 좋아라 했지만 예전하고 다르게입천장 까지거나 치아가 빠질정도로 찐덕하지 않고아주 담백하면서 말랑하고 달달하면서 짭쪼롬하니계속해서 땡기더라그여앉은 자리에서 친구랑 개 까먹고 나머지 개 남겨놨는데내일이면 이것도 사라지겠져ㅋㅋㅋㅋ무조건 추가구매 하러 또 들릴게여 추가구매 의사 입니동_ 딱딱하지 않아서 먹긴 편한데 또 오란다는 딱딱한 고론 맛에 먹는거라ㅎ 추억의 과자 오란다가격이 제법 나가서 고민했는데 완전 만족해요개별포장이라 보관하거나 들고다니기도 너무 간편하네요진짜 이름그대로 말랑말랑해서 먹기도 편하고 그렇다고 너무 눅눅하지않고 바삭함도 있어서 진짜 최애간식이예요 정신없이 먹다보면 입천장 다까져요ㅋㅋ할인 좀 자주 많이 했으면 좋겠어요 남편이 오란다 먹고싶다고해서 구매했는데 남편보다 제가 더 먹네요ㅎ오란다가 보통 딱딱한 편인데 이건 딱딱하지않고 적당히 달달한게 맛있어요 딱딱해서 오란다는 기피했는데여기거는 부드럽고 덜달아 맛있어요 오란다를 너무나 좋아하는 일인입니다시장나가면 늘 지나치지 못하고 사서 먹으면서 장을 봐요장보러간건지 오란다 먹으러간건지임신쯔음부터는 코로나땜시로 장을 거의 온라인으로 보기도 했고이사온 후 인근에는 촉촉하고 부드러운 오란다를 파는 곳이 없어서한동안 못먹다가 지인 추천으로 우주오란다를 시켜봤어요이맛입니다ㅠㅡㅠ왜 추천을 이제서야 해준건지혼자만 맛난거 먹고 너무너무 맛있어요뭐니뭐니해도 기본이 가장 맛있는거 같아요그나저나 먹다보니 순삭ㅋㅋ후기쓰다보니 또 먹고 싶네요또 시켜야겠네요따님 아팠어서 맴짠해서 내내 입맛이 없었는데따님도 뇸뇸 하는거보구 급 입맛돌았어요 손님대접용으로 구매할 다과 알아보다가리뷰 평이 너무 좋아서 큰 고민없이 구매했어요정말 좋아하는 오란다인데가끔 딱딱해서 먹기 힘들거나 너무 달아서 몇 개 못먹는 경우가많은데 이 제품은 평이 좋더라구요그래서 구매하자마자 먹어보았어요포장 뜯기전에도 손으로 쪼개면 오란다알갱이들이너무 손쉽게 뜯어져요 오오 하면서 먹었는데어르신들이 드시기에도 적당하게 달고 무엇보다치아에 무리없이 맛있게 먹었어요한 두입 먹다보니 계속 계속되는ㅜㅜ손님대접용이나 선물용으로도 너무 좋을 것 같아요 어릴적 아버지가 퇴근하며 사오시던 추억이 떠오르네요그땐 딱딱하고 거친 오란다였는데도 뭐가 그리 좋았는지우연히 보고 구매해봤는데 예전 오란다보다는 훨씬 업그레이드가 된 것 같습니다딱딱하지 않고 과자표면이 거칠지않아서 입안을 다칠일도 없어 보입니다맥주한잔에 오란다 안주비싸지 않은 돈에 옛추억을 떠올리기 좋았습니다어릴적 아버지처럼 퇴근하며 사가는 감성은 없지만쿠팡으로 주문하고 집에서 편히 받을 수 있어서 좋네요돌아가신 아버지가 그리워지네요오늘 저녁에도 아버지 생각하며 한잔 해야겠네요안주는 오란다 친정 엄마가 오란다 좋아하시는데 요즘 치과치료 받으시고 식사 간식에 신경을 많이 쓰세요 오란다가 좀 딱딱하기도 하고 끈적거리는게 치아에 달라 붙어서 ㅠㅠ 요즘엔 말랑한 오란다가 있다고 해서 검색하다가 구입했어요 역시 쿠팡이라서 배송은 엄청 빠르네용 우주오란다 개당 g 정도이고 사이즈도 적당해요  한입 간식으로 딱입니다 티비 보시면서 간식으로 드신다고 하네요 당도도 딱 적당하고 냄새도 안나고 부드러워요 저도 하나 먹어봤는데 맛있더라구요 아이들 하원 후 간식 대용으로도 좋은것 같아요 집에도 좀 쟁여놓을려구요 추천해용 완전 맛있어용 리뷰도 좋고 젤 먼저 검색되서 당연히 맛있는줄 알았어요 개당 천원도 넘는데 안딱딱하고 부드러운건 다른 오란다들과 대동소이하고 달기는 이게 제일 다네요 근데 무엇보다도 밀가루맛 퍽퍽한 느낌 전 이게 제일 별로네요 혼자 먹을 자신 없어서 직장가서 동료들 나눠줬더니 동료들은 예의상 그러는건지 뭐 맛있다고 해주지만 재구매는 절대 안할예정입니다 간식으로 먹는데 너무 맛있답니다사무실에서 혼자 있을때가 많아요그렇다보니 간식거리를 많이 찾는데 오란데 정말 맛이 좋아요쫀득쫀득해요고소하면서 당도도 너무 달지 않아 먹기 참 좋아요제가 간식으로 먹을려고 샀는데 사장님께서 맛있다고 더 드시네요그러면서 사무실 간식으로 사놓으라고 하세요그래서 손님 접대용으로 음료와 오란다 내놓으니 참 좋아요맛있어서 자꾸 손이 더 가요간식으로 최고인것 같아요구입해서 두고두고 드세요참 맛있어서 계속 먹게 된답니다그리고 아이들 간식으로도 주기 좋아요우유와 함께 먹어도 최고랍니다 아이가 어디서 오란다를 먹고 왔나 오란다오란다 노래를 불러서 하나 사줘봤어요제가 먹어왔던 오란다는 딱딱해서 입천장 다 까지 난리여서 말랑말랑한 걸로 찾아봤는데 이거 완전 아이들이 먹기 딱 좋아요 진짜 부드럽고 입에서 녹아요 녹아이제 딱딱이 오란다는 빠이빠이 하고 말랑말랑이 오란다만 사먹을라요 맛있는 크런키 느낌을 주면서 맛은 같으면서 부드러워요맛있지만 힘들게 먹었던 오란다 잊으세요이 제품은 제가 리뷰를 쓰게 만드네요오래오래 파세요 구매동기제가 오란다 너무 좋아해서 알아보다가 주문한 제품이에요 제품명 우주오란다 말랑말랑 플레인 강정 용량 g제품특징단짠단짠 군침 넘어가는 최고의 오란다유통기한은 제조일로 부터 개월사용후기일단 간식으로도 너무 잘먹고 있고 아이도 너무 좋아해요부모님도 드셔보시고 너무 맛있다고 해서 바로주문한제품이에요조금만 먹어야지하면서 계속 손이가는 제품이에요 포장도너무 깔끔하게 오고 한입 먹으면 단짠단짠 바삭하고 살살녹아요가성비도 좋고 너무 맛있어요 구매동기부모님도 좋아하시고 아이랑 신랑도 좋아해서 갑자기 밤에 먹고 싶어서 주문한 제품이에요 제품명 우주오란다 말랑말랑 플레인 강정 용량 g제품특징최고의 재료를 선별 부드러움남녀 노소 누구나 즐기는 말랑말랑 플레인 오란다구매후기일단 포장도 깔끔하게 와서 마음에 들었어요 한입 베어무니 단짠단짯 너무 맛있어서혼가족이 흡입하면서 먹었어요 바삭하고 입안에서 살살녹고아이들 간식 어른들 간식으로도 너무 좋아요 가성비도 좋고 또 주문하려구요 너무 맛있는 심심풀이 간식 ㅎ제주 가서 오란다 먹고 맛있어서 사왔는데 다 떨어져서 아숩던 차에 메인에 떠 있는거 보고 가겻도 저렴햐서 덥석삿어요ㅋ 사무실에서 일할 때 서랍에 넣어두고 하나씩 꺼내 먹는데 존맛탱이에요 ㅎㅎ 대신 아그작 아그작 소리가 좀 나긴해요ㅋ주볌 직장동료가 뭐 그렇게 맛있냐고 물어봐서 나눠줚더니 처음엔 뭐야 하더니 오 오랜만에 먹으니 맛나다고 자기도 사야겠다고 주문하네요 ㅋㅋ 아무튼 간식으로 맛있고 우유랑 함께 먹으면 달달한것도 적당히 중화되서 맛있어요 ㅎ 완전 맛있어요우리 직원들도 맛있다고 극찬시장에서 파는 오란다는 맛은 있지만 딱딱해서 입천장이 다 까지는데우주오란다는 오란다계의 솜사탕처럼 부드럽게 달콤하게 사르르 녹아들어요바삭함도 적당한것이 이것이 진정한 인생 오란다오란다 먹다 잠들거에요 완맛탱구리원래도 오란다 좋아했는데 너무 딱딱한건 이제 못먹겠더라구요 ㅠㅠㅠ 이건 부드러운데 바삭해서 너무 좋아요처음에 너무 많이 먹어서 살찔까봐 요즘 자제중이에요직장에도 가져갔는데 동료분들이 다들 맛있다고 하셔서 탕비실 간식으로 대용량으로 샀어요 여자들에게 인증받은 최애 간식입니댜 부드럽게 맛있어요 딱딱한 오란다 아니고 살여자아이가 손으로 잡아 꺽으면 쉽게 휘어지는 오란다달달하면서 고소해서 맛있게 먹었어요 개별포장 되어있어 가방에 넣어 갖고 나가기도 좋고 포장지 까는 것도 어렵지 않아 좋았어요 단점이 있다면 가격이 좀 나가는 편이라 좀 가격이 다운된다면 자주 사먹을것같아요 기대이상으로 너무 맛있어요기름쩐내 없고 적당히 단단해서 바삭하며 씹는재미에이에 달라붙는거 없이 부드러워서 계속계속 집어먹게되는 그런 옛날과자 오란다네요가끔 잘 못사면 너무 달거나 단단해서 몇 개 먹다가손놓게 되는데 이 오란다는 앉은자리에서 거뜬하게 다 먹어버릴 기세에요ㅎ오란다 과자 너무 좋아하지만 아직 정착하지 못하고여기저기 눈에 보이면 사먹는편이였는데이젠 여기로 정착해야겠어요 완전 제대로네요굿굿 부드럽고 쫀독해서 좋아요 오란다 진짜 좋아해서 여기저기서많이 시켜먹어봤는데 제일 맛있습니다딱딱하지도 않고 오히려 쫀독해서 너무너무 맛있었어요 ㅎㅎ이가 약하신 어르신분들이 먹기에도 좋을 만큼 부드럽고 맛있었습니다이에 달라붙는 것도 덜하고 무엇보다맛있어서 하루에 다 먹어치워버렸어요 ㅎㅎ저희 집 아이도 맛있다고 잘먹고 남편도잘먹어서 좋네요남녀노소 누구나 좋아할만한 맛이 아닌가싶습니다배송도 빠르고 가격도 괜찮고 ㅎㅎ재주문 예정입니다 오란다 좋아해서 검색 후 구입했는데너무 딱딱하지않고 입에도 달라붙지않아서 먹을때 너무 편리하네요맛은 뭐 말할것두 없구요병원 입원해있는동안 간식으로 잘먹었어요 ㅎㅎ주변 선물해도 될거 같아요 어릴적에 먹었던 오란다는 참 딱딱했는데 요즘 오란다는 너무 말랑하고 부드러워요 입천장 다 까져가며 먹었던 기억이 있는데 우주 오란다는 정말 말랑말랑 부드러워서 입천장 까질 일이 없어요 진짜 맛있어요 초등 딸도 저를 닮은건지 다른 옛날 과자는 손도 안대는데 요 오란다는 주기적으로 사달라며 찾아요 오란다 잘못사면 기름 쩐내 나는거 아시죠 우주 오란다는 쩐내 전혀 없고 오래되지 않은 신선한 제품이 와서 아주 만족스러워요재구매하러 또 올께요 귀찮아서 리뷰안쓰려다가너무 맛있어서 씁니다보통의 오란다는 딱딱한 식감에이빨에 쩔꺽쩔꺽 달라붙고 엄청단데이거는 거짓말안하고 입안에서스르르녹아요 신기하게도그리고 이빨에 전혀붙지않고많이 달지않아서 물리지않아요매우 고급진맛입니다제가 먹는거에 매우진심이라식재료살때 성분표부터보고 사는사람인데성분도 너무좋아요우주오란다우주 최강이란뜻인가 봅니다ㅋ지금까지 거짓없는 리뷰였습니다 오란다 맛있긴한데 너무 딱딱해서 입천장이 까지는 것도 싫고옛날과자라 이름없는 공장과자가 대부분이라 잘 안먹었는데여기 오란다는 너무 딱딱하지 않고 적당히 바삭한 식감에직접 수제로 만들어서 패키징까지 깔끔하게 해주시니 넘 좋아요오란다가 너무 달거나 너무 딱딱하지도 않아서 먹기도 부담없고하나씩 소포장이 되어 있어서 먹고 싶을때 꺼내먹기 좋음되게 건강하고 부담없는 맛의 오란다라서 강추드립니다 ㅎㅎ 쫀득쫀득 ㅋ 겉바속쫀 요즘 같은 날씨엔 군것질이 참 땡기는 것 같아요오란다에 따뜻한 녹차나 라떼랑 같이 먹으니 짱이에요가격대도 괜찮고 무엇보다 좋았던 것은 빠른 배송구매하기 전에 판매자님께 문의 드렸는데 답변도 빠르셔서믿고 구매했답니다  리뷰도 마침 좋더라고요 ㅎ가족들도 하나씩 맛보더니 맛있다고 ㅋㅋ 그래서 배송 와서 오자마자 뜯고 한시간만에 사라짐 ㅎ재주문 했습니다 ㅋㅋ 이제 단골 주문되어서자주자주 먹을 것 같아요 ㅎ 할매입맛이라서 오란다 엄청 좋아하는 과자예요장날에 시장가서 사먹어도 요즘엔 딱딱해서 씹기 불편하거나 아니면 너무 찐득거려서 치아에 다 붙거나해서 너무 불편했는데 요거 진짜치아에도 안붙구 딱딱하지도 않구 먹기 너무 좋네요 당도도 너무 달지도 않아서 먹기 좋구 질리지 않아서 계속 먹어도 너무 맛있어요조금사서 너무 아쉬웠어요많이 사서 부모님도 드리구 저도 많이 먹으려구요 이번에는 대량 사서 먹을꺼예요 딸이 유튜브에서 오란다 먹는 방송을 봤는지 자꾸 사달라고 해서 주문해보았어요 오란다 하면 딱딱하고 이아프고 달달한것만 연상이 되는지라 저는 오란다를 좋아하지 않는데요 그런 저의 편견이 우주오란다로 깨졌어요 ㅋㅋ 딱딱하지 않고 말랑해서 입천장이 까지거나 턱이 아프지 않구요 저렴한 단맛이 나지 않고 적당한 당도여서 많이 먹는다해도 거부감이 없을것 같아요 정말 맛있고 선물용으로도 손색 없는 제품인것 같아요 바삭하지 않고 눅눅한 부드러운 오란다에요전 부드럽고 눅진한건 별로네요뭔가 오래된 기름냄새도 나는거같고더 대용량 샀으면 큰일날뻔했어요 이가 성치않아도 먹을 수 있다니매우 부드러운 오란다앉은자리에서 두세개 순삭 가능 제일 좋아하는 최애 과자가 오란다인데 아이들도 덩달아 잘먹어서 구매했어요지금까지 샀던 오란다중에 제일 마음에들어요입안에 잘 달라붙지도 않고 딱딱하지 않아서 어찌나 잘 넘어가는지 받자마자 앉은 자리에서 순삭아이들보다 제가 더 많이 먹었어요 ㅋ그만 먹어야지 하면서도 자꾸만 손이가는것 같아요크기도 크지않고 부스러기도 많이 나오지 않아서 다 먹으면  재구매 각이예요 그 쫀득한 식감과 고소한 맛은 입 안에서 퍼지며당도가 적당해 더욱 먹기에 좋습니다 손님을 맞을 때 음료와 함께 서빙하면 참 좋을 것 같아요오란다는 자꾸 손이 가게 만드는 간식입니다 그 맛을 한 번 느끼면 계속 먹고 싶어지는 매력이 있어요 그래서 구입해서 두고두고 드시는 것을 추천드립니다 뿐만 아니라 아이들에게도 좋은 간식으로 제공할 수 있으며특히 우유와 함께 함께 먹으면 최고의 조합이 됩니다 오란다 너무너무 좋아하는데 마트꺼는 맛이 없더라구요딱딱하기만 하고 이러다 이 나갈 것 같아서 폭풍서치를 해봤어요ㅋㅋㅋㅋ여기 우주오란다가 맛있다는 블로거 글 보고 바로 구매했는데 역시 배송도 빠르고 맛있다는 후기 많은 만큼 정말 맛있었습니다아주 제 취향이었어요적당이 바삭하고 달콤하니 자꾸 손이 가서 큰일이에요오늘 배송왔는데 거의 다 먹어가서 또 구매하려고 들어왔다가 리뷰 남깁니다 애들 간식으로 오란다 한번 사봤는데 넘 맛있어용ㅋㅋ시장에서 사던게 딱딱하고 이빨에 넘 달라붙어서 ㅠ찾아보다가 이걸로 골랐능데 완전 다르네요부드러우면서 바삭바삭하구 쫀득쫀득한데 이빨에 끼지도 않아요ㅋㅋㅋ그래서 애들이 더 잘먹나봐용 잘고른거같아요저도 과자 원래 잘 안먹능데 이거는 자꾸 손이 가게되네요남편이랑 같이 이거 과자 한번 먹기시작하니 순삭먹고 또 재구매하려구용 다이어트중인데 조그만 간힉 찾다가 구매했어요기존 오란다 과자보다 훨훨 부드럽고 알알이 베어무는것도 재밌더라구요다이어트 이스 뭔들한통 순삭해서 또 구매하려구요 ڡ 오란다 딱딱한건 이가 안좋으셔서 잘 못드시는데 이건 쫀득하고 말랑해서 좋아하시네요 할머니께서 다른건 안드셔도 오란다는 엄청 좋아하시는데 고급진 단맛으로 개별포장이라 위생적인걸로 잘 사드린거 같아요 저도 옛날과자 마니아인데 요거 눅눅해지지않고 뒷맛 텁텁함이 없어 더 만족스럽네요 좀 넉넉히 주문해서 두고 먹어도 될듯해서 재주문합니다 이번에도 좋은놈으로 부탁드려요 인터넷으로 시킨 오란다중 등인듯요눅눅이 아니라 촉촉한 오란다 오랜만에 과자 검색하다가 오란다를 발견어릴때 많이 먹던건데 지금도 그 맛이 날까 싶어서 먹어봤는데 역시나 쫀득하고 아삭하고 말로 설명할수 없는 그맛이 그대로 나네요 하나 먹고 우유한모금 마시는데 배도 든든하니 식사대용으로도 저는 괜찮더라구요 잔뜩 입천장 까지는 옛날 과자는 아니지만 먹기도 더 좋고 맛도 좋아서 오랜만에 추억 돋네요 저희가족이 오란다를 전부 좋아해서 여기저기서 자주 구매하는데요 이 제품이 가장 맘에들었어요너무 딱딱하면 턱아파서 하나만먹어도 더 못먹겠고 너무 찐득하면 이에 들러붙는데 이 제품은 적당한 정도라서 한번에 다 먹어치워버리게되더라구요ㅎㅎ게다가 쫀득함이 있어서 식감이 너무 맘에듭니다너무 달지도않은 맛이라서 손이 자주갑니다재구매 의사 있습니다 정말 맛있고 중독성 있네요 강정의 텍스처가 부드럽고 말랑해서 먹을 때 입안에서 즐거운 식감을 느낄 수 있었어요 플레인 강정이지만 단맛이 적절하게 느껴져서 달달한 맛을 원할 때 딱 맞았어요 또한 강정 하나하나가 균일하게 만들어져 있어서 일관된 맛을 즐길 수 있었어요 확실히 기존에 먹던 딱딱한 오란다에 비해 말랑말랑하니까 신선하고 깨물어 먹기에 부담스럽지 않아서 좋네요 옆집 언니집 놀러갔다가 먹어본건데입 짧은 아이가 폭풍흡입하는거 보고 바로 구입했어요오란다 딱딱하지않고 부드러우면서 바삭해서어른아이들 모두 먹기 넘 좋더라구요너무 자극적이게 단맛도 선호하지 않는데 적당한단맛과 찐득거리지않고 깔끔하게 먹을 수 있는것도넘 좋아요 신랑은 과자 안 좋아하는데술안주로 딱이라며 쉬지않고 먹네요 간식으로사길 너무 잘했어요 오란가다 말랑거려 부드럽고 진짜 맛있어요예전에 어디서 말랑 오란다 먹어보곤 비슷한거 찾는다고 여기저기 시켜봤지만 못 찾았는데 드디어 찾았네요탄력감있게 구부릴 수 있을만큼의 말랑임이 있고 먹으면 이에 달라붙는오란다 아니라서 더 좋아요한개만 먹으려다가 개 순삭 했네요진짜 한번 열면 멈출수가 없네요 ㅎㅎ재구매하러 또 올께요 신랑이 군것질을 너무 좋아해서 건강한걸로 간식을 사줘야겟다 생각하고 알아보다가 오란다 강정이 가성비도 있고 맛잇다는 얘기가 있어서 구매해서 먹어보았는데 달지도 않고 맛잇더라고요 ㅎㅎㅎ신랑은 먹자마자 너무 맛잇다고 재주문해야겟대요어른들이나 과자대신 먹으라고 조카들에게 선물해주면 좋을거같아요 ㅎ정말 맛잇고 가성비 있고 짱이에염 엄마가 오란다를 너무 좋아하셔서 구매했어요오란다 잘못사면 완전 딱딱하고 너무달아서 먹기힘든데우주오란다는 적당히 단단하면서 쫜득쫜득 부드럽기까지엄마가 너무 좋아하시네요 많이달지않아서 끝도없이 들어간다고하세요 ㅎㅎ 기름냄새하나도 없고 계속 생각나는 맛이예요아이스크림이랑 같이먹어도 후식으로 제격입니다완전 추천해요 옛날과자중에 오란다를 가장 좋아하거든요아빠가 좋아하셔서 어릴적부터 옛날과자에 오란다와 생강맛 나는 설탕 뿌러진거 그과자를 좋아하셔서 저도 기억이 납니다 ㅋㅋ 오란다 맛있네요많이 딱딱하지 않고 부드러운 오란다에요회사 사무실에 가져갔는데 너도나도 맛있다면서 계속 드시더라구요재구매 하려구요친한 지인분들께 선물하고 싶어용 어렸을때 먹던 추억의 간식 오란다추워질때면 생각이 나는거 같아요 아이들도 달달하니 맛있다고 하네요예전 엄마가 초등학교때 즐겨먹던 과자라고 알려줬더니 아이들도 맛있다고 합니다딱딱하지 않고 말랑한 식감이라 먹은뒤 천장이 까지거나 상처가 생기지 않아 좋네요달달한 오란다 먹다보니 순삭했네요입에 달라붙지 않아 부담없이 먹기 좋은 오란다 잘골랐네요 말랑말랑 맛있는 오란다 간식으로 오란다만 한게 없어요 일하다 보면 오후가 되자 달달한게 먹고 싶은 데 그때 오란다를 커피랑 먹으면 너무 맛있어요 그리고 다른 오란다랑 확실히 다르게 딱딱하지도 않고 입에 막 엄청 달라 붙는 것도 아니라서 너무 좋아요 엄마도 오란다를 좋아해서 연말이라서 선물로 보냈어요 엄마도 먹어보더니 맛있다고 하네요 ㅎ 또 구입 할께요 저희 최애 간식인데 편의점에서 비슷한거 파는건 정말 제가 원하는 맛이랑 다르더라구요ㅠ이건 딱 달달하면서도 바삭함이 달라요저가 오란다는 진짜 딱딱하기만 해서 맛도 별로인데 먹기도 불편했거든요 ㅠ오란다 좀 먹어 보셨다는 분은 이거 강추해요저희 아빠도 드셔보시더니 잘 만들었다고 요즘은 이런거 어디서 사냐고 더 사보라고 하시네요 ㅎ완전 강추 드려요 설명대로 부드러운 오란다예요저는 바삭하고 딱딱한 오란다보다 부드럽고 말랑이는 오란다 좋아하는 편인데 너무 만족해요배송온날 친구랑 둘이서 영화보면서 다 먹어버려서 또 구매하려고 왔어용절대 끈적이지 않고 입안에 치아에 달라붙지 않고 단짠의 정석의 고급진맛요즘 이런 오란다 시중에서 사먹으려면 되게 비싸고 양 조금인데 요기 너무 만족해요 딱딱하지 않은 오란다말랑말랑해서 더 맛있게 편하게 먹기좋고치아에 쩍쩍 붙는게 아니라서 뒷 마무리의 깔끔함도역시나 좋은 강정이였어요아이들도 어른들도 먹기 편한 오란다 라서 가족들도 좋아하고 맛있게 먹었네요끈적이지 않고 딱딱하지 않으면서 오란다의 그맛을 느낄수 있어서참 맛있었습니다 요즘 아이가 오란다 한번먹고 계속찾는바람에 구매해보았어요잘못사면 딱딱해서 어른인 제가 먹어도 먹기힘든게 많은데 이건 딱딱하지않아 아이가 먹기에도 좋은것같아요많이 달지않아서 계속 손이 가는맛이에요그리고 아이에게 줘도 전혀 부담스럽지않아 좋은것같아요다시 구매하려고 보니 품절이네요재입고되면 다시 재구매해야 겠어요 우주오란다 말랑말랑 플레인 강정은 제가 평소에즐겨먹는 간식 중 하나입니다 이 강정은 플레인한 맛으로 어디서든지 쉽게 먹을 수 있어서 편리합니다 또한 강정이 말랑말랑해서 먹을 때 부드러운 식감이 좋습니다 제가 좋아하는 이유 중 하나는 가방이나 주머니에 넣어두고 언제든지 꺼내 먹을 수 있다는 것입니다 맛보기로 일부러 조금만 시켰는데 더 많이 시킬 거야 그랬어요 괜히 택배비만 두 배로 나가네요딱딱한 오란다가 아니라 정말 바삭하고 맛있는 오란다 찾아서 이것저것 맛보기로 조금씩 시켰는데 여기께 제일 맛있어요적당히 말랑말랑하면서 바삭바삭하고 딱딱하진 않으면서도 식감이 좋아서 정말 맛있네요바로 또 주문 할려구요 이번 명절에 최고 잘 발견템 우주오란다원래 딱딱해서 오란다는 싫어했는데 우주오란다는 말랑하고 부드러워서 너무 좋아요맛도 맛있음어른들도 좋아하고 아이들도 좋아해서 건강간식으로 딱이네요 오란다나 센배 옛날과자 좋아하는 인 입니다오란다 잘못사면 완전 딱닥해서 입천장 다 까지는데이건 부드러워서 너무너무 맛있어요한번 열면 멈출수없는것이 단점 이네요ㅎㅎㅎ유명한 오란다 여러개 사먹어봤는데 그저 그랬거든요이게 가성비 대박이에요말랑 한데 가격도 착하고 좋아용 ㅎㅎ맛있어서 금새 다 먹을거 같아요 재구매 갑니다 부모님이 오란다를 좋아하시는데 나이가 드시니 딱딱해서 못드시겠다고하더라고요 ㅜㅜ검색하다가 평도 너무 좋고 부드럽다고해서 주문해봤어요딱딱하지 않아서 치아에 부담이 없고 지나치게 달지도 않고 맛있다고 부모님이 너무 잘 드셨어요저는 과자를 좋아하는편이 아닌데 맛있더라고요부모님집으로 재주문해드렸습니다 오랜만에 오란다 주문해봤는데 신세계네요 매번 딱딱한 오란다만 먹어서 먹을때마다 맛은 있는데 먹을때 너무 힘들었어요 그런데 말랑한 오란다를 먹으니 더 많이 먹는게 함정이네요 말랑하고  입도 안아프고  치아 사이마다 끼는것도 작고 좋아요 손이 자꾸가 큰일이네요 아이들 간식으로 샀는데 더 사야하나 봅니다 이거 전에 사먹구 너무 맛있어서 재구매했습니다 ㅎ이게 옛날 추억의과자 생각도나구 딱딱하지않고말랑말랑해서 먹기도 편하더라구요집에 부모님 오셔서 다같이 먹었는데 어르신들도 좋아해요티비보면서 아무 생각없이 먹음 큰일남 ㅎ중독되서 자꾸 집어먹게되는 오란다라서 큰일이네요우유나 커피랑 같이 먹어도 좋아요 친구집에서 먹은 오란다가 맛있어서 마트에 있는걸로 구입했더니 딱딱하고 입천장 다 까지고 이거 아니구나 싶어 친구한테 물어보고 구입했어요 이맛이네요 부드러우면서도 엄청 달지도 않고 맛있어요남편이 이런거 별로 안좋아한다더니 혼자서 반을 먹어치웠네요한개만 사면 제몫이 없을거같아요 좀 많이 사둬야겠어요 호박씨 같은 견과류가 안들어간 오란다라서 마음에 들어요오한다만 바삭바삭 씹고 싶은데 견과류가 있으면식감이나 맛을 해치는것 같아 싫더라구요많이 딱딱하지 않고 바삭바삭 쫀득한 식감이라 입천장 까짐없이 먹고있는데 너무 맛있어요다먹고나면 더 주문해서 먹을려구요먹어본 오란다중 제일 맛있게 먹은것같아요 오란다 참 좋아하는데 이건 부드럽고 이에도 끼지 않아요한손에 접고 먹기 좋은 사이즈에요 커피 디저트로 같이 먹었는데 단짠단짠 넘 잘어울려요 우유랑도 조합이 좋아 아이 간식으로도 굿저만의 오란다 먹는 팁인데 전자레인지에 초정도 살짝만 돌려먹으면 더 몰랑한 오란다를 맛볼수 있어요 오란다 너무 좋아하는데 요즘 부드러운거 없어서 매번 너무 딱딱한것만 있어서 못사먹었어요 ㅜ ㅜ 그러다가 요기 발견하고 부드러워서 완전 만족진짜 맛있어요 적당한 달기에 부드럽지만 눅눅하지 않은 신선한 맛이 느껴져용불안해서 하나만 샀었는데 이번엔 맘껏사서 먹으려구요이가격에 이렇게 맛있다니 완전 럭키예요 어릴적에 먹었던 추억만 가득한 그런 오란다가아니라 엄청 촉촉하고 달달하면서 부드러운 과자에요어린 아이들도 무난히 먹을 수 있을듯하네요 유통기한도 개월이나 길고 제조과정에서 엄청 신경을썼다는걸 알 수가 있어요 가격대비해서 너무 착해서겨울에 쟁여놓고 먹으면 될 거 같아요                                     도움이 돼요 꾹 눌러 주세요 박스도 좋고 개별포장도 좋습니다 레트로하네요하지만 맛은 특별함은 없습니다 부드럽긴 하지만 부드러운 게 이 제품을 먹어야만 하는 장점은 아닌 듯 하구요다른 오란다 좀 먹어보야겠네요 오란다 진짜 좋아하는데 저번에 오란다 먹고 은니가 빠진적이 잇어서 걱정했는데 이건 너무 끈적거리지도 않고 너무 달지 않아서 너무 좋아요 ㅎㅎ 아이스아메리카노랑 항상 먹는데 진짜 맛있음 벌써 다 먹어버려서 또 구매하려구요 ㅎㅎ 요번에는 많이사서 엄마네도 줘야겟어요 오랜만에 맛있는 오란다 먹어서 너무 좋아여 오란다 평소 아이들도 가족 모두 좋아해서 자주 사먹는데요 종종 너무 딱딱해서 먹기 불편한 제품들도있어 바삭하면서도 조금 부드러운걸 찾았어요 확실히 많이 먹어도 입안이 덜아프고 아이들 먹이기도 좋네요적당한 달기로 제대로된 오란다 맛있게 잘먹었습니다 줄어드는게 아깝네요 다음에 또 먹는걸로요 오 저는 여태까지 딱딱하고 이에 잘 들러붙는 그런 오란다만 먹어봤는데여기껀 유일하게 안그렇네요 적당히 쫀득 하고 적당히 달고 그랬어요아주 맛있게 잘 먹었습니다가족들도 다 똑같이 얘기했어요  금방 순식간에 다 사라졌네요ㅋㅋ재구매의사 있어요 와 진짜 맛있어요  아빠가 좋아하셔서 찾다가 알게된 오란다 강정너무 좋아하시네요 딱딱하지 않고 말랑말랑해서 어른들도 아이도 먹기 편하고 너무 좋아해요  가격도 너무 착하네요  선물로도 너무 좋은거 같아요 신랑이 너무 맛있다며 재구문하래요 가성비갑 굿굿 오랜만에 옛생각도 나고 해서 오란다강정을 검색하다가 발견해버렸네요옛날에 즐겨먹던 쫀득바삭한 그 비쥬얼 그대로그리운 생각이 나면서 즐겨먹었어요우유와 같이 곁들어 먹으면 극강조합이 완성되죠정말 맛있게 먹어서 다먹으면 또 구입해서 먹고싶어요 오독오독 초딩때 먹던 그 맛 쫀득하지만 딱딱하지 않아 리얼 오란다를 느낄 수 있었어요 치아가 약해서 오란다 잘못먹으면 무서워서 잘 안먹는데 우주오란다 추천받아 먹어봤는데 정말 아삭 바삭 겉바속척 그 자체였던 오란다네요 추가주문 예정입니다 겨울이 되다보니까 날이 추워져서 그런가입이 너무 심심해여ㅠ ㅠ 살이 찔려는거겠지만입이 너무 심심해서결국에 주문을 했어요오란다는 맛있지만 입천장이 까지고 상처가 나는데요우주오란다는 어머나 먹어봤는데 딱딱하지 않아서먹기 너무 편해요 그리고 너무 맛있네요ㅁㅋ배송도 빠르고 좋았어요 저번에 먹어보니 맛있어서 재구매했네요오란다가 너무 딱딱하지않아 이에 부담이 없어 좋더라고요맛은 옛날 어릴적에 먹던 달달하면서도 고소한 그 맛인데 식감은 전보다 부드러우면서도 바삭해 정말 맛있게 먹었어요앉은 자리에서 순삭해버려서 다음 번에도 재구매하러 올게요 오란다 매니아가 집에 사셔서 또 주문해서먹고 있어요 근데 제가 먹어봐도 이거 진짜이빨 안좋은 저도 먹어보고 반했네요연말에 가까운 분들 드리기도 좋아서 이번에 넉넉히 주문해서 드리고 나눠 먹으려고요달콤함의 정도도 질리지 않을 만큼 딱 좋아서저는 완전 맛있게 먹고 있어요 특유의 쫀득하고 바삭한 오란다를 좋아하는데이건 리얼 그냥 바삭 알갱이 하나하나 분리되요이에 끼는거 싫어하시는 분들이 먹음 딱좋을거같구요저처럼 쫜득파는 발길 돌리세요 맛도 맛이고 부드러워서 좋아요현직 치위생사인데 환자분들이 오란다 좋아하는데 그거는 먹으면 안된다고 묻는다면전 이 오란다는 드시라고 하고싶네요 오란다 제 최애 간식이랍니다 예전에 제가먹던 오란다는 많이 딱딱하고 가끔씩 잇몸을 다치기도 햇는데 우주 오란다는 말랑말랑하고 단짠의 진수를 보여주네요 오란다 맛들이면 끊을수가 없답니다 입이 곰곰할때오란다 최고죠 가족들도 맛잇다고 난리네요좀잇다 또 구매 재구매각입니다 요즘 옛날 과자 빵 군것질에 빠졌어요오란다도 먹고 싶어서 찾아보다가 구매했는데 이거 보통 슈퍼에 파는 거랑 다르게 딱딱하지도 않고 부드러운게 쫀득해서 너무 맛있네요혹시 몰라서 조금만 샀는데 한 번에 많이 살걸여러 명이서 한두 개씩 먹으니 순삭됐어요ㅠㅠㅠㅠㅠ 긴가 민가 하고 주문해봤는데 세상에 이렇게 부드럽고 입천장안아픈 맛잇는오란다는 처음이에요 ㅠㅠ너무 마싰습니다 할머니 생각나서 더 구매해서 드리려거 합니다  너무 맛있어요  인간사료 될것 같아요 꼭구매해 먹어보세요 신세계 입니다 전 원래 오란다를 별로 안좋아하고 남편이 좋아해서 제수용 할겸해서 구매했는데 치아에 붙는 찐덕거림도 덜하고 촉촉하면서 덜 달고 맛있어서 남편이 담에 또 주문하라고 하네요 제가 먹어봐도 좀 편하게 먹을수 있어서 만족했어요 처음 사봐서 조금사긴했는데 기대치보다 더 맛있어서 한박스 주문해야겠어요집들이하는데 주전부리 맛있는걸로 여러가지 내놓고싶었는데 제가 오란다를 좋아하기도하고 해서 사려합니다생각보다 더맛있어서 오자마자 다 먹어버렷네요 오란다 진짜 좋아하는데 딱딱한건 이빨아파서못 먹겠더라고요ㅋㅋㅋ 근데 이건 부드럽게 씹혀서넘 맛있게 먹었어요옛날 과자를 좋아해서 종종 사먹는데 가성비도 좋고맛도 있고 재구매의사 있습니다개인적으로 바닐라 아이스크림과 같이 먹으면 맛도두배 이상 더 맛있는거 같아요 담배 끊구나서 자꾸 군것질거리 찾게 돼서 집에 간식이 떨어지지 않거든요오란다 올만에 생각나서 주문해 봤는데 생각보다 고소하구 너무 맛있네요오란다 잘못 구매하면 딱딱하구 맛없는데 우주 오란다는 말랑말랑 딸짝찌근 해서 자꾸 손이가네요ㅎㅎ다 먹구 재구매 하려구요 친정아부지의 최애 간식인 오란다ㅎㅎ저도 자주 먹긴 했는데 딱딱한건 매번 입안이 찔리고 까슬거려서 싫었는데 이 제품은 달달하면서입안에서 녹기도 해서 까슬거리지 않네요아부지께서도 맛나다며 매일 조금씩 나눠서 드신대요다 드시면 또 주문해서 드려야겠습니다ㅎㅎ 오란다를 좋아하는 나시중에 판매되는 오란다는 딱딱해서 먹고나면 턱이 아파서 먹고 나면 후회를 했는데 부드럽다는 리뷰에 구매를 했는데 오우 정말 굿입니다 애들이랑 신랑간식거리로 다시 재구매 해야 되겠어요 ㅋㅋ사실 이번엔 제가 혼자 다 먹을려공 ㅍㅎㅎ재구매 각입니다 오란다 시리즈가 많나보네여딱딱한 강정이 아니라서 다행스럽네요많이 달지않아 좋네여 간식거리 생겼네여 단짠단짠  요즘같은 추운날 집에만 있으니 왜이렇게 입이 심심한지 자꾸 간식생각이 나더라고요 쇼핑을 하다가 예전에 먹던 오란다가 생각나서 주문했어요 역시  예전 그대로예요 말랑말랑해서 너무 먹기 좋았어요 간식으로 커피와 오란다 한개 최고의 궁합이네요 오란다는 딱딱하다는 인식이 있어서 잘 안먹었었는데 해송기정껀 오란다가 부드러워서 아이들하고 같이 먹어도 아이들도 다 잘먹어요 많이 달지 않아서 많이 먹어도 물리지 않고 좋아요 해송기정에서 떡만 사먹었었는데 오란다도 괜찮네요 다음에 또 주문할께요 어릴적 집에서 할머니께서 직접 만들어주셨던 오란다가너무 생각이나서 차장 보다가 주문했어요 감성적으로는할머니가 만들어주셨던게 맛있었겠지만 이게 맛있어요ㅎㅎㅎ 기억과 현실은 다르니까 뭔가 입에서 살살 녹는맛이 너무 좋네요 자주 시켜먹어야겠어요 오란다 좋아해서 시장 가면 꼭 사오는 아이템인데시장껀 너무 딱딱해서 먹다보면 입천장 다 까지거든요 ㅎㅎ그래도 맛있어서 계속 먹게 되는데 요건 소프트해서 좋네요어르신들 드시기에도 좋고 달작 지근하니아메리카노랑 환상의 궁합이에요  잘 먹겠습니다 오란다 참 좋아하는데 인터넷으로 사기가 꺼려지더라구요만든지 오래되거나 딱딱할까봐근데 여기는 진짜 부드럽고 만들자마자 보내주신건지 진짜 맛있네요이가 약한 사람도 맛있게 먹을것같아요남녀노소 먹기좋은 간식이라 쟁여두고 먹고있어요ㅎㅎ 완전 총알배송이에요같이 일하시는분이 오란다 선물 들어왔다고 먹어보라고 주셔서 먹었다가 너무 맛있어서 저도 주문했어요너무 딱딱하지도 않고 붙지도 않고 적당한 식감에 과하지 않은 달달함추억의 맛이에요금방 순삭할거같아 재주문각입니다ㅎ 딱딱하고 끈적거리던 오란다에대한 편견을 날려버리는맛이에요겉보기엔 딱딱해보였는데 제품명처럼 말랑말랑하고 부드럽지만 바삭한식감 그리고 지나치게 달지않아서 치아가 약하신분들도 부담없이먹기좋은 건강한 간식이예요 오란다 생각나서 구매했습니다무엇보다 옛날 생각나는 맛이라서 기분 좋네요티비보면서 먹다보니 금방 순식간에 다 해치워서조금 아쉬워서 추가구매 했습니다적당히 튀겨진게 바삭바삭하니 식감이 맛있고 좋네요과하게 달지 않아서 좋아요 아빠가 오란다좋아해서 간식으로 드시라고 구매해봤습니다 오란다가 딱딱하지도 않고 바삭거리고 쫀독하니 먹기 넘 좋고 적당히 달아서 넘 맘에들어요중독성있어서 한자리에서 계속 먹게됩니다 우유나 커피랑 먹으면 꿀맛이에용 추천합니당 오란다치곤 상당히 말랑하고 부드러워서 손으로 살짝 만져도 으스러지는데 이 부드러움을 위해 사용된 식용유지 덕분인지 몰라도 몇개만 먹어도 속도 좀 불편하고 은근 느끼하네요 자꾸 생각나 재구매 했어요옛날 오란다는 딱딱해서 먹기 불편했는데플레인 강정 오란다는 부드럽고 쫀득쫀득해 맛있어요부드럽고 말랑말랑해서 아이나 나이 드신 분들도 드시기 좋아요너무 맛있어서 자꾸 생각나는 맛 간식으로 최고입니다 날씨도 쌀쌀해지고 집에 있다보니 달달한게 땡겨서 주문했습니다 너무 딱딱한 오란다는 안좋아하는데 다른 평들보니 부드럽다는 평들이 많아 구입했습니다다행히 부드럽고 달달해서 집에서 간식으로 먹기 좋습니다 대박 오란다란 이름인지도 몰랐는데 사보니 너무 맛있어요 앉은자리에서 개 먹고 할머니 시켜드렸어요 어제시키고 오늘 두개 더시켰어요 추억의 오란다 파는곳이 별로 없어 가끔 인터넷에서 주문해 먹습니다그중서도 제일 맛있는곳이 여기 오란다에요겉은 파삭한데 딱딱하지 않고 부드러운 바사삭함 이랄까맛도 고소 달달해서 계속 손이 가네용다음에 또 주문할꺼같아요 어릴때부터 오란다 좋아해서 종종 사먹곤 했는데 잘못 구입하면 딱딱해서 입천장 다 까지고 기름 쩐내나는 경우가 있어요근데 요기 오란다는 적당히 달달하면서 너무 딱딱하지도 않고 기름 쩐내없이 고소하고 맛있어서 자꾸만 손이 가요 단맛이 적어도 너무 적고 물엿 조청 하여간 양이 적어서 과자가 서로 뭉치지를 못하고 바스라진다기름냄새도 좀 나고 먹어야 하나 버려야하나 고민이다오란다가 약간 단단한 느낌에 씹는 맛이 있는 과자인데 이건 뭐 이없는 노인들도 드실듯 원가절감이 이유인가 조청이나 물엿이 너무 적게 들어가 과자가 뭉치지를 못하고 그냥 떨어진다 딱딱하지 않고 부드러운데 또 식감이 좋은 편이라서 멈출수가 없더라구요 과하게 달지 않아서 좋아요 이 아프셔서 오란다 드시고 싶어도 잘 못드시는 부모님도 조금 드렸더니 너무 부드럽고 맛있다고 하시네요재구매하려고요 맛있어요 저번에 주문하고 맛있게 먹어서 이번에 재주문했어요딱딱하지 않고 말랑쫀득해서 커피랑 먹기도 좋고입 심심할때 간식으로 먹다보니 순삭이네요ㅎㅎ가격도 착하고 맛있어서 오란다 좋아하시는 분들께강추입니다 부모님이 좋아하셔서 주문했는데 넘 부드럽고 맛있어용치아 약하신 분들도 아주 편하고 맛있게 먹을 수 있는 오란다 입니다저는 뜨거운 커피 한 잔 내려서 같이 먹는 게가장 맛있는 거 같아요  또 먹고 다시 주문하러 올게요 간식으로 자주 먹는 오란다에요달콤하고 식감도 좋아요 오란다 좋아해서 자주 사먹긴 하는데이에 넘 달라붙거나 아님 넘 딱딱해서 입천장이 까지는게대부분 내가 먹던 오란다였는데이건 그른거 하나 없어서 넘 좋아요 ㅋ맛도 넘 달지도 않아 자꾸 손이가서담엔 좀 더 많이 주문해야겠어요 오랜만에 오란다 생각나서 검색하니 나오네요ㅎ추억에 과자에요 딱딱하지않고 바삭해서 너무 좋아요이에 심각하게 들러붙지않아서 좋아요ㅋ아이도 어른도다 좋아할꺼 같아요 엄청 저렴하게 맛난거 먹어서 기분좋아요 요즘 오란다에 꽃혀서 여기저기 찾아보다가 평이 좋아서 주문해봤습니다딱딱한건 턱이 아파서 별로던데 안딱딱하고 맛있어용이에 들러 붙지도 않고 넘 좋네요혹시나해서 소량만 주문했는데 좀 쟁여놔야겠습니다ㅋㅋ 배송도 빠르고 가격도 저렴해서 너무 만족합니다딱딱하디 않고 쪽든하다고해야될까요 원래 사먹던 오란다는 딱딱해서 입천장도 자주 까졋는데 이제품은부드럽고 쫀득하고 달지 않아서 좋아요 우유랑 먹어도 맛있더라구요 맛있는 오란다 지난번에 먹고 너무 맛있어서 또 구매했어요이번에도 순삭이네요개인카페에서 사 먹을 땐 맛이 달라지거나 식감이 다르거나 하는 경우가 있었는데 여긴 한결같아서 좋아요 많이파세요 예전에 장터에서 먹던 오란다예요부드럽고 기름냄새도 없고 무엇보다 아이들이 너무 잘 먹어서 맘에 들어요간식용으로 괜찮을 거 같아 재구매 의사 있어요빠른 배송도 맘에 들고 가격도 나쁘지 않아서종종 사 먹을 거 같아요 요즘 오란다 과자가 핫하드라구요저도 유행에 뒤쳐지지 않을려고 겟했습니다역시나 핫한 이유가 있네요 ㅎㅎㅎ 바삭바삭하면서딱딱하지 않고 달달하니 너무 맛있네요아무래도 추가 주문해야겠숩니다ㅋㅋ다이어트해야하는데 원래 먹는 오란다 생각하시면 안돼요퍼서서석 사라지는 오란다입니다기대 많이했었는데 생각보다 별로네요 ㅠ 지인이 줘서 하나 먹어보고 바로 주문했어요딱딱하고 이에 끼는 오란다는 질색인데이건 부드러우면서도 바삭하고 이에 끼지 않아요우유랑 먹으면 더 맛있어서 간식으로도 선물용으로도 좋아요 딱딱한 오란다 보다 말랑한 오란다를 선호 하는 편이에요 배송도 빠르고 하나까 먹어 보니 너무 맛있어요 말랑말랑한 식감이 좋으네요이에 들러붙지도 않고 많이 달지 않아서 잘 먹고 있습니다 다 먹고 또 구매할게요 아버지가 오란다 강정을 좋아하셔서요주문해드리니 너무 좋아하세요 집에서도 편하게 주문해서 먹을 수 있어서너무 편하고 좋다고 게다가 오란다가 너무 맛있으시대요벌써 다 드셔서 새로 주문해드려야겠어요 오란다 정말 맛있어요옛날 과자 먹고 싶어서 주문했는데 완전 단짠단짠쫀득하고 맛있어요아이는 처음 먹어보는데 너무 맛있다고 난리네요입천장 까지는것도 없고 완전 맛있습니당다 먹고 또 주문해야할것같아요 해송기정에서 잔기지떡사먹고 너무맛있어서 오란다도 구매한건데 여기는 다 직접만드시나봐요ㅎㅎ 진짜 다 맛있네요오란다 정말 좋아하는 간식이라 여기저기서 많이 사먹어봤는데 여기 해송기정이 제일맛있어요 오란다 좋아해서 자주 사먹었는데 이 집 만큼 맛있는 오란다는 없어요딱딱한 오란다는 별로 좋아하지 않아서적당히 바삭한 이 집 오란다가 좋더라고요오란다 좋아하시면 드셔보세요 부모님이 오란다를 좋아하셔서 구매해봤어요사실 큰 기대 없었는데 진짜 너무너무너무 맛있습니다부모님도 연말선물로 사자고 그러셔서 조만간 대량으로 구매하려고요  강추입니다 추억의 간식 오란다에요넘 딱딱하지 않아서 좋네요 커피랑 먹을 간식거리 찾다가 구매했어요맛있고 개별포장이라 눅눅하지 않고 휴대하기 좋아서 너무 좋네요 내 생애 최고 오란다 강정이에요 처음에 사서 애기랑 같이 먹어보고 딱딱하지않고 넘 부드럽고 맛있어서 어르신 선물 드리려구 재구매합니다 드셔보시고는 너무 만족하세요 오란다좋아해서 시켜봤는데 잘시켰네요말랑하고 아삭해서 너무맛있어요치아사이에 붙는것도없이 달콤하고 아삭해서 너무잘샀네요오늘 또 구입할꺼에요 일단먹어본다고 작게 시켰는데 더시킬려구요 와 오란다 원래도 좋아하는데 우주오란다 여기정말 맛집이에요왜 지금까지 여기서 안시켜먹어봣는지 참이제라도 알아서 너무 다행입니다다먹고 또 재구매할게요 많이 파세요사장님 딱딱하지 않고 말랑쪽득해요오란다 진짜 좋아해서 자주사먹는데 딱딱한것도 좋고 말랑한것도 좋지만덜달아서 안질리게 먹을수있어요강추합니다 또사먹으러올께요 오란다 좋아하지만 보통 너무 딱딱하다보니 잘 못먹는 경우 많았는데 이건 부드럽게 잘 씹혀서 너무나 좋았어요 다먹어서 이번에는 개로 재주문 예정이에요 너무 달지도 않고 바삭바삭하면서 쫀득쫀득 한게 너무 맛있어서 자꾸 손이 가는 오란다 강정이에요아이들이나 어른들이나 모두 좋아할만한 맛이고 다 먹고 다음에 또 구매해먹으려구요 간식으로 좋은데용사실 다과모임이 있어서 뭐할까 고민하다가 오란다로 준비했는데먼저 맛보았는데 맛있더라구요질리는거 없이 너무 달지도 딱딱하지도 않고 적당해서 좋아요이거 중독 될것같아요 오란다 먹다 이 깨진 사람 나야 나그래도 포기할 수 없는 오란다의 맛오란다의 달콤 고소 파삭한 맛은 살렸지만빠삭 딱딱하지 않아요씹으면 말랑 쫀득 신기하네신기해서 먹는척 하면서계속 먹는 중이에요 쫀독 쫀독 제가 제일 좋아하는 오란다 대량으로 사놓으면 처음받았을때 맛이 안날까싶어 조금씩 자주 시키고있어요 다른데서도 사먹어봤는데 이런맛이 안나더라구요 여기서만 주문해서 먹고있어요 오란다과자 좋아해서 쿠팡으로 구매해봤는데 존맛ㅎㅎ 과자가 쫀득하고 정말 마싯어여ㅜㅜ이거 강원도가서 자주 사무것는데 여기 맛집 찾아서 이제 여기서 시켜먹게용ㅎㅎ 잘묵을게용 갑자기 오란다강정이 땡겨서 구매해봤는데 후기대로 넘 맛있네요 ㅎㅎ그냥 간식으로 먹어도 맛있고 맥주안주로도 잘 어울려요마냥 딱딱하지만 않아서 입천장 안아프구 좋네요다먹음 재구매하고파요 더살걸 하는 아쉬움이ㅜㅜ맛보려고샀는데 애들이 너무잘먹어서 맛도 못봤어요ㅠㅠ진짜 맛있데요ㅎㅎ여태먹었던 오란다과자중 최고라고ㅋㅋ 그래서 추가주문해놓고 기다리는중이에요냄새부터가 남다르네요 배송은 뭐 당연 문제없이 잘 왔고 오란다 너무 좋아하는데 너무 달지도 않고 가볍게 간식으로 집어먹을 수 있는 것도 좋았어요 한입크기도 해서 더 좋아요 맛있었습니다 말랑말랑 오란다어릴적에는 딱딱한 오란다만 있어서 먹기 참 힘들고먹으면 입천장이 까지고 그랬던 기억이 있는데ㅎㅎ이렇게 말랑이로 나와서 먹기도 편하고 맛도 있고오랜만에 추억여행한거 같아요 저는 개인적으로 요즘입맛이라기 보다는 할매입맛에 더 가까운편오란다 아주 맛있게 먹었네요 맛있어서 재구매용오랜만에 먹어본 오란다너무 맛있게 잘먹었어요 조금만 구매했더니윽 다먹어버려서 또 생각나는 맛있는 맛이여서 살짝 재구매했어요 사실다이어트중인건 비밀입니다 ㅎㅎ τнänκ чöü ᰔ 엄마가 오란다를 갑자기 찾으셔서 쿠팡에서 주문해봤어요배송도 빠르게 와서 바로 드실 수 있었고시켜먹는 것도 괜찮네요 ㅎㅎ 고소고소하니 맛나요옛날과자 좋아하는데 종종 시켜먹어야게써용 어릴때 딱딱한 오란다만 먹었었는데 와그작 먹고 반한후 비슷한 것 찾다가 우주오란다 주문했습니다 맛도 있고 부드러워서 먹기 좋아요 딱딱하지 않아서 부모님도 맛있게 드세요너무 달지 않아서 여러개 먹어도 물리지 않아서 잘 먹고 있습니다적당히 바삭하고 달지 않고 이빨에 붙지 않아 먹어 본 오란다 중에 제일 맛이 좋네요 오란다 좋아해서 종종 주문해 먹어요가격도 적당하고 너무 간식으로 입 심심할때 딱이에요오란다 파시는 분 많지만 은근 맛이 다르더라구요여기는 딱 제가 좋아하는 맛이에요 많이파세요 엄마가 너무 좋아하셔서 재구매했어요 저도 평소에 오란다를 좋아하진않는데 이건 맛나네요기름냄새도 전혀없고 겉바속촉 비율이 제대로예요계속해서 손이가네용 요새 오란다 판매점 진짜 많잖아요 그 와중에 진짜 맛있는집 찾으신다면 반드시 여기여기서 주문하세요입천장 안까지는데 맛도 좋아서 진짜 숨안쉬고 먹을만큼 맛있어요 오란다를 너무 좋아하는데 턱관절이있어서 자주먹지못했어요ㅠㅠㅠ 근데 이건 부드러워서 턱에 무리없이 맛있게 먹을수있어서 좋아요 고소하고 담백해요 커피나 우유랑 먹으면 최고에요 오란다 킬러라서 마트에파는 딱딱한 오란다 수제 오란다 가리지 않고 사먹어보는데 요것 진짜 맛나네요 너무 딱딱하지도 않고 눅눅하지도 않고 바삭한 식감에 부드러워요 만족합니다 옛날과자 좋아해서 주문오란다먹을때마다 입안 헐고 힘들었는데딱딱하지않아서 앉은자리서 순삭할뻔계속 입안으로 들어가는게 단점손이 계속가자나 오란다 먹어보면 금방만든건지 오래된건지 알수있죠먹었는데 정말 갓만들어주신거처럼 부드럽고 고소하고 맛있어요너무딱딱하지도 너무물컹하지도 식감도 완변하고 좋네요 말랑말랑한 식감이라 부모님께서 잘 드시고 있어요 심심하실 때 달달한 오란다 드시기 좋다며 더 주문해 달라고 하십니다추억의 간식인 오란다 먹을 때마다 옛 생각들이 떠오릅니다 얼마전에 주문했던것같은데 친구들이 놀러왔다가 홀랑 다먹었어요ㅋㅋ요기 오란다가 달지않아서 물리지 않으니깐 다들 좋아하더라구요 항상 사놓는 간식이라 얼른 재구입합니다 우주오란다가 맛나네요어릴때 할머니가 사주시던 그맛이에요우주오란다랑 커피랑 먹어도 참 맛나요당도도 적당해서 먹기 좋구 남녀노소 누가 먹어도 맛있을만한 맛입니다 맛있는데 오란다를 먹어 본 사람이라면 맛이 좀 달라요어릴 적 먹던 오란다 생각하시고 시키시면 아주 살짝 실망할 수도 있어요 이오란다 드세요 백번 드세요맛있음두번째 재구맨데 살짝 물려서 먹는 속도 느려졌지만그래도 맛있는건 인정추천팩폭여왕 요즘 오란다 유행이라 시켜봤어요처음 먹어보는데 오잉 너무 맛있네요맛만 보려고 샀는데 다들 너무 잘 먹어서또 구매하려합니다바싹 쫀득 달달 다 느낄 수 있는 맛도리예요 오란다 안좋아하지만 어른들 오신다고 여러개들 리뷰 비교해보며 픽했는데너무 잘 샀어요정말정말 부드럽고 너무 달지 않아서 맛있어요 우와 넘 맛있어여 오란다 먹고 싶어서 주문했는데 진짜 너무 맛있네요 달달하고 말랑해서 딱 제가 좋아하는 스타일 입니다 너무 맛있어서 계속 먹고 있어여 재구매 하러 갑니다 먹어본 오란다 중에 제일 촉촉하고 맛있었던것같아요한끗차이지만 딱딱한 정도가 컬리티의 차이인듯해요많이 달지않고 아이들 간식으로 딱이네요재주문의사있습니다 말랑말랑하고 부드러운 오란다 완전 최애인데 너무 잘샀어요정성들여 만드신게 느껴지구 마트나 시장에서 사먹는거랑은 완전 다르네요이제 단골로 여기서 사먹으려구요 굿굿 요물이에요앉은 자리에서 다 먹어버림ㅋㅋ지난주에 사먹고 또 생각나서 구매했쥬이렇게 맛있는 오란다는 첨이라 계속 땡기네요조카 먹으라고 언니집에도 보냈어요 달달한 오란다 오란다 아삭아삭하면서도 쫀득쫀득한 식감에 촉촉하고 달달해 하나두개 집어먹다보면 기분까지 좋아지는 매력이 있쭁추억의 오란다 여전히 맛있네염 ɔ  c 단짠단짠 맛있는 오란다 넘 맛있어서 재주문 했어요 ㅎㅎ 딱딱하지 않아서 자꾸 손이 가네요 아이들도 어른들도 잘 먹는 최고의 간식입이 쉴틈이 없이 중독성 있는 맛이에요 오란다 잘못 먹으면 이에 달라붙어서 고생했는데부드럽고 딱딱하지 않아 전혀 걱정없이 먹겠어요많이 달지않아 자꾸만 손이 가는게 딸아이도 맛있다며 엄지척 하네요 엄청 부드러워요시중에 파는 오란다는 엄청 딱딱한데 이 오란다는 엄청부드럽습니당 생각하던 오란다는 아님적당히 단단해서 바삭 해야 하는데 그렇지 않아요 오란다를 넘 좋아해서 주문했어요 잘못 사면 딱딱해서 먹기 힘든데 이건 부드러우면서 달달해서 넘 맛있더라구요 한 번 먹기 시작하면 넘 맛있어서 자꾸 손이 가네요 ㅎㅎ 오란다 진짜 저희가족 최애인데 요거 부드럽고 정말 맛있어서 강추예요부드러운데도 맛있을수있다니 ㅎ부모님도 아주 잘드시고 애들도 잘먹어서 재구매 합니다 오란다 어릴적 좋아했던 최애간식이라자주 사먹는데 여기꺼는 많이안달고부드러워서 아이가 좋아하네요넘나 잘먹어서 또 쟁여놓으려구요 많이 닥딱하지 않은 편이라 어르신들 드시기도 부담없으실거 같아요치아 안좋으신 저희 엄마도 맛있게드시더라구요맛있어서 자꾸자꾸 손이가는 오란다예요 ㅜㅜ너무 맛나요 한입먹고 감동유명한데꺼 다 먹어봤는데 훨 맛나요 오란다 얼려서 먹어도 진짜 맛난거 비밀인데ㅋ많이 쟁여서 냉동실에 얼려 놓을래요 난 딱딱해도 잘 먹는데 저희 남편은 딱딱한 식감을 좋아하지않아서 늘 저만 먹는데 우주오란다는 딱딱하지 않아서 남편도함께 먹어요ㅋㅋ 맛있어서 재구매했네요 회사에서 점심 일찍 먹는 탓에 오후시간 간식 항상 갖구 다니거든요오란다 올만에 먹고 싶어서 시켜봤는데 너무 맛있네요가격도 착해서 자주 사먹을것 같아요 오란다 엄청 좋아하는데 임플란트 하고나서 잘 못먹거든요 말랑하다길래 주문해봤는데 진짜 말랑하고 맛있어요 ㅎㅎ부모님도 사드리려구용 예전에 딱딱했던 오란다는 안좋아해서 거의 안먹었던 기억이 있는데이건 말랑하기도하고 달달하고 고소하고완전 입맛취향저격 제대로입니다넘 맛있음 오란다 딱딱하지 않고 맛있어요많이 달지도 않고 간식으로 딱이네용 ㅎㅎ회사에서 간식으로 하나씩 먹기 좋을듯해서조금 더 구매하려고요좋은 제품 감사합니다 추억의 맛 오란다예전에 먹다가 치아 빠질 뻔한 적이 있었는데 ㅋㅋㅋ이 오란다는 고소하고 달콤한 맛은 그대로에 말랑말랑해서 먹기 더 좋네요 마트에서 오란다 과자 자주 사먹는데 많이 먹으면 물리더라고요이건 많이 먹어도 물리지 않고 식감이 너무 좋아요적당히 달아서 주스랑 먹으면 더 맛있어요 말랑한 오란다 먹고 싶어서 주문했어요 넘 맛있어서 계속 먹게 됩니다 아이들도 잘 먹어서 다행입니다 아침에 커피한잔에 우주오란다 먹으면 꿀맛이예요 저번에 떡먹고 맛있어서 또 주문했어요 오란다도 아주 맛도리네요 ㅎㅎ딱딱한 시중 오란다랑 다르게 말랑쫀득 아주 좋았어요 강추합니당  재구매의사있어요 이렇게 맛잇는 오란다는 처음 먹어보네요인터넷이라 좀 걱정햇는데 생각이상으로 맛잇고 씹히는 것도 괜찮앗어요입 심심할때마다 먹으니 최고에요 군것질을 별로 좋아하지 않는데 오란다는 제가 너무좋아해서 가끔씩 주문해서 먹어요어려서부터 좋아하던 추억의 간식인데 말랑해서 너무 맛있어요 워낙 오란다 좋아해서 가족들이랑 같이 먹으려고 구매했구요특히나 아빠가 잘드시네요 맛있다고말랑말랑 부드럽고 행복해지는 맛입니다ㅎㅎ 오란다 잘못 먹으면 입 천장 다 까지는데 이건 부드럽고 먹기 좋아요 맥주 안주로 딱이네여ㅎㅎ 너무 맛있어서 엄청 먹게되여ㅋㅋㅋㅋ 재구매 의사 퍼입니다 옛날과자중에 오란다 진짜좋아하는데진짜 넘나맛있어요입에 달라붙지도않아서 먹기도 편하네요아빠도 사드려야겠어요굿굿 오란다 부모님이 좋아하셔서 간식으로 드시라고 주문했는데 딱딱하지 않고 달달하니 맛있다고 하세요맛있게 드시니 기분좋네요 또 주문할께요 오란다 강정 맛있어서보여서 구매했어요생각보다 달지않고 깔끔 담백해서 먹기 좋아요식감도 오독오독 좋아서 남녀노소 다 좋아할 것 같아요 오란다 좋아해서 장설 때마다 사 먹었는데 안오시길래 인터넷으로 주문해봤어요장에서 먹는 것보다 맛있어서 금방 다 먹었어요 오란다 별로 안좋아하는 저희 남편이촉촉하고 부드럽다고 하루에 개씩 까먹어요 단짠단짠 맛있는 오란다 딱딱하지 않아서자꾸 손이 가네요 ㅎㅎ아이들도 어른들도 잘 먹는 쵝오의 간식단점은 금방 순삭해서 또 사야한다는거 조심히 다뤄야하는 이빨때문에 오란다는 꿈도 못꿨는데이제 맛있는 오란다를 먹고있네요부드럽고 넘 맛있는게 중독될꺼같아요ㅎ 옛날 딱딱하던 오란다가 아니네요 회사 직원 몇명하고 앉은 자리에서 다 먹었어요 ㅎㅎ 바로 재주문 각이라 종종 사먹을거 같네요 친구가준거 한번 먹어봤는데 너무 맛있더라구요 오랜만에 먹는 오란다가 이런 맛인가 싶어요 이가 안좋은 엄마도 잘드심 바삭쫀득 오란다강정 우유랑 먹으면 꿀맛이에요오랜만에 먹었는데 진짜 맛있습니다강추드려요 먹어본 오란다 중에 가장 맛있네요너무 달지이도 않고 쫀득꺼리는 식감까지 너무 좋네요맛있어서 자꾸만 손이가네요 오란다 너무 맛있어요 전에는 먹다보면 입천장 까지고 그랬는데 이건 안까져서 정말 좋네요커피랑 먹어도 너무 맛좋음 옛날 오란다는 쫀득함과 바삭함인데 이건 변형된 맛의 오란다였네요플레인이라 되있어서 오리지날 옛날과자인줄 알았것만ㅠㅠ 물엿을 조금 바른건지 모르겠지만 봉투 뜯고 먹을라하는데 우두두 떨어져서 먹기도 불편했어요 바삭함도 덜하고 역시 그냥 동네 시장이나 가서 사올껄ㅠㅠ 오란다가 이렇게 부드럽고 맛잇을수가 잇나요오란다맛에 반햇네요ㅋㅋ크기도 알맞아서 먹기 딱 좋습니다 오란다 넘나 맛있어요오란다가 쫄깃쫄깃한데 이에 달라붙지 않아서나이 드신 분들도 먹을 수 있겠어여 말랑말랑 오란다 맛보고 앉아서 몇개째인지먹어 본 오란다 중 최고 이거 진짜 맛있어요 생각보다 양도 많고 부모님이 잘드세요온가족이 먹기에 너무 좋은 오란다에요또 찾게 될거같아여 ㅎㅎㅎ 오란다좋아하는데 이건 딱딱하지않고 말랑하고 부드러워서 이가 아프지않네요 달콤하니 맛나요 말랑말랑하면서 쫀득함도 있는 오란다네요당충전 하고싶을 때 잘 먹었어요또 주문하러 올게유ㅎㅎ 딱딱하지 않고 부드러운 타입이라 맛있게잘 먹었어요오란다 최고또 구매하려니 품절인듯 오란다 좋아하는데 생각보다 더 맛잇어요말랑해서 씹을때 이도 안아프고 맛잇게 잘먹어요 배송이 빨랐어요오란다 너무너무 맛있네요 ㅁ너무 딱딱하지도 않고맛이 고소하고 담백합니당 ㅎㅎㅎㅎ 오란다 먹을수록 맛이 있어서매력적이라서 자꾸 먹고싶어지내요내입 맛에 딱인것 같아요 말랑해서 먹기 편하고 너무너무 맛나요오란다 좋아해서 자주 사먹는데 또 구매하러올게요 오란다 강정완전 쫀득하고 바삭하고 너무 맛있어요가격도 좋고 재구매 의사 입니다 오란다 안좋아하는 남편도 너무 맛잇다하네요술안주로 자꾸 뺏어먹어요ㅋㅋㅋ진짜 맛잇어요 말랑말랑하고 너무 맛있어요 오란다는 먹고 또먹고계속 먹게되네요 커피랑 함께 잘 먹어요 어릴떄 먹던 오란다와 맛이 비슷해서 추억의 맛으로 잘 먹었습니다재구매의사 있습니다 친구네서 먹어보고 저도 주문했어요 오란다가 촉촉하고 맛있어서 간식으로 딱 좋네요 말랑한 오란다를 찾던 중에 구매했어요안딱딱하고 넘 맛나요자주 먹을거 같습니당ㅎㅎ 오란다가 안딱딱해서 너뮤 맛있네요엄마가 입안이 안아프다고 좋아하셨어요 오란다 원래 좋아하는 간식이라 구매했는데너무 맛있네요담에 또 주문하려구요 쫀득오란다는 처음인데 쫀득하니 넘 맛있어요 오란다 다먹고 재주문할래요 ㅎㅎ 말랑말랑 부드럽고 맛있네요 오란다 좋아하는데 이거 완전 재구매각이에요 오란다 배송받으니 너무 맛있어요너무 달지도않고 부드럽고 맛있어요 오란다 강정 먹고 싶어서 구매했는데 바삭하고 맛있네요 촉촉한 오란다여서 계속 들어가네요커피랑 먹으니까 너무 맛있어요 쫀득하고 바삭하고 오란다 좋아하는 사람은 무조건 좋아할 맛이에요 오란다 쫀득 달달 맛있어요 가족들이랑 먹으려고 재구매 했습니당 보통 오란다 딱딱하고 쩐내 좀 나는데 말랑말랑해서 좋네요 맛있어요 오란다 좋아하는데 많이 딱딱하지 않아서 간식으로먹기 좋아요 말랑한 오란다는 처음인데이걸 왜 이제야 맛봤을까요 진짜 강추 오란다가 말랑해서 넘 맛있네요 간식거리로 굿이에요 제가 먹고 싶었던 그 오란다예요 완전 맛있어요 딱딱한 오란다는 안녕말랑말랑 맛있어요 오란다 너무 좋아해요 ㅎㅎ자주사먹을게요 말랑말랑 부드러운 오란다맛있어요 이것저것 먹어본 오란다중 젤 별루네요ㅠ 오란다 좋아해서 시켜먹었는데 또 시킬게요 오란다 맛있어요 이 오란다가 맛없는 이유 쩐내남 너무 달음 질김앞으로 남은 개의 오란다를 어떻게 처리할지 심란함 버릴수도없고 누구 줄수도 없음 그냥 맛없어도 꾸역꾸역기름쩐내 맡으면서 먹어야됨 다른 과자는 안좋아하고 오란다가 최애 과자라 주문했는데너무 맛있네요 달달하고 바삭바삭한 식감이 너무 좋아요 배송도 빠르게 잘 도착했고 포장도 꼼꼼했습니다다음에도 또 주문할께요 오란다 너무 맛있었어요 추천해요 오란다는 항상 먹을때마다 좋은거 같은데 우주오란다는 특히 더 바삭한 맛이 느껴져서 좋아요저렴한 금액에 배송 잘 받았고 파손없이 잘 도착했습니다만족스러워요 배송 빨리해주셔서 오래 기다리지 않고맛있는 오란다 먹을 수 있었어요  딱딱하지 않아서 아이도 잘 먹네요 역시 배송 짱짱빨라요 오란다 딱딱한거 싫어하는데 말랑말랑하고 맛있어요 배송 빨라요ㅎㅎ오란다 딱딱하지않고 부드럽고 맛있네요'"
      ]
     },
     "execution_count": 45,
     "metadata": {},
     "output_type": "execute_result"
    }
   ],
   "source": [
    "combined_reviews"
   ]
  },
  {
   "cell_type": "code",
   "execution_count": 47,
   "metadata": {},
   "outputs": [
    {
     "name": "stderr",
     "output_type": "stream",
     "text": [
      "You passed along `num_labels=3` with an incompatible id to label map: {'0': 'NEGATIVE', '1': 'POSITIVE'}. The number of labels wil be overwritten to 2.\n",
      "The tokenizer class you load from this checkpoint is not the same type as the class this function is called from. It may result in unexpected tokenization. \n",
      "The tokenizer class you load from this checkpoint is 'BartTokenizer'. \n",
      "The class this function is called from is 'PreTrainedTokenizerFast'.\n",
      "You passed along `num_labels=3` with an incompatible id to label map: {'0': 'NEGATIVE', '1': 'POSITIVE'}. The number of labels wil be overwritten to 2.\n"
     ]
    },
    {
     "name": "stdout",
     "output_type": "stream",
     "text": [
      "요약 결과:\n",
      "아이 생일 때 아이 생일때 선생님들 드리려고 샀다가 장바구니에 넣어두고 종종보면 할인행사도 많이하더라구요 할인 전혀 없을때는 꼭 장바구니에 넣어두고 할인할때 구매하세요 ᄒᄒ맛은뭐 다아는 그런 오란다에요과자가 씹히면서 달달함은 덩달아 따라오는 기분좋은 맛입니다그렇다고 또 엄청나게 진짜 달다 정도는 아니에요적당한 단맛이라 저는 더 좋더라구요 너무 달면 한개다 먹기도전에 질리기도 하거든요커피랑 먹기에도 좋고 아이들은 음료나 우유랑 줘도 맛있다고 잘먹어요부드러움 정도혹시 전주에서 오란다를 먹어보신 분이라면 아실만한 그런 아주아주 부드러운 오란다에요옛날 옛적 먹던 그런 딱딱한 입천장 다까지는 오란다가 아니랍니다너무 부드러워서 저희막내는 심지어오란다를 손에 쥐어주면 동그라미 알알이 하나씩 손으로 손으로 떼어 먹어요 ᄏᄏᄏᄏᄏᄏ손은 좀 찐득해지지만 어찌나 귀여운지요두돌 조금 찐득해지지만 어찌나 귀여운지요두돌 조금다른 우리 막둥이도 맛나게 잘먹으니 아가들있는 집이라면딱딱하지는 않을까 걱정하진 않으셔도 되요갯수와 구성저는 이번에 개 구성으로 구매했는데요첫날에 큰 개 구성으로 구매했는데요첫날에 깐날 큰적 먹던 그런 딱딱한 입천장 다까지는 오란다가 아니랍니다너무 부드러워                      손은 좀 찐득해지지만 어찌나 귀여운지요두돌 조금다른 우리 막둥이도 맛나게 잘먹으니 아가들있는 집이라면딱딱하지는 않을까 걱정하진 않으셔도 되요갯수와 구성저는 이번에 개 구성으로 구매했는데요첫날에 바로 후회했어요 저희집 아가들이 셋인데 다들 하나씩 들고 먹으니 금방 없어지더라구요제가 저혼자 살다 구매하면 박스자체에 손잡이도 있어서혹시 선물용도 이시면 개 구성이 개당가격도 더 저렴하니 참고하세요박스를 열면 오란다는 오란다는다는 낱개포장 되어있고 큰번먹기 딱좋은 양이에요외출할때 가지고 다니기도 좋고 아이들 손에 쥐어주기도 좋아서 저는 너무 만족합니다 ᄒᄒ다먹\n"
     ]
    }
   ],
   "source": [
    "from transformers import PreTrainedTokenizerFast, BartForConditionalGeneration\n",
    "\n",
    "# 모델 및 토크나이저 로드\n",
    "model_name = \"gogamza/kobart-summarization\"  # 최신 KoBART 요약 모델\n",
    "tokenizer = PreTrainedTokenizerFast.from_pretrained(model_name)\n",
    "model = BartForConditionalGeneration.from_pretrained(model_name)\n",
    "\n",
    "# 텍스트 토크나이징\n",
    "inputs = tokenizer([combined_reviews], max_length=1024, return_tensors=\"pt\", truncation=True)\n",
    "\n",
    "# 요약 생성\n",
    "summary_ids = model.generate(inputs[\"input_ids\"], max_length=512, min_length=30, length_penalty=2.0, num_beams=4, early_stopping=True)\n",
    "\n",
    "# 결과 디코딩 및 출력\n",
    "summary = tokenizer.decode(summary_ids[0], skip_special_tokens=True)\n",
    "print(\"요약 결과:\")\n",
    "print(summary)\n"
   ]
  }
 ],
 "metadata": {
  "kernelspec": {
   "display_name": "coreview",
   "language": "python",
   "name": "python3"
  },
  "language_info": {
   "codemirror_mode": {
    "name": "ipython",
    "version": 3
   },
   "file_extension": ".py",
   "mimetype": "text/x-python",
   "name": "python",
   "nbconvert_exporter": "python",
   "pygments_lexer": "ipython3",
   "version": "3.10.15"
  }
 },
 "nbformat": 4,
 "nbformat_minor": 2
}
