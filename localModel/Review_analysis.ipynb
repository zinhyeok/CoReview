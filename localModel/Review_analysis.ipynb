{
 "cells": [
  {
   "cell_type": "code",
   "execution_count": 4,
   "metadata": {},
   "outputs": [],
   "source": [
    "import pandas as pd\n",
    "import re\n",
    "import sys\n",
    "import os\n",
    "import re"
   ]
  },
  {
   "cell_type": "code",
   "execution_count": 5,
   "metadata": {},
   "outputs": [],
   "source": [
    "df = pd.read_excel(\"/Users/iyeeun/Documents/coreview_3/crawl/coupang/Coupang-reviews/가죽마우스패드 + 예쁜 노트북 가방 파우치 엘지그램 삼성 갤럭시북.xlsx\")"
   ]
  },
  {
   "cell_type": "code",
   "execution_count": 7,
   "metadata": {},
   "outputs": [],
   "source": [
    "df = df[df[\"리뷰 내용\"] != \"등록된 리뷰내용이 없습니다\"]"
   ]
  },
  {
   "cell_type": "code",
   "execution_count": 12,
   "metadata": {},
   "outputs": [
    {
     "name": "stderr",
     "output_type": "stream",
     "text": [
      "The operation couldn’t be completed. Unable to locate a Java Runtime.\n",
      "Please visit http://www.java.com for information on installing Java.\n",
      "\n"
     ]
    },
    {
     "ename": "CalledProcessError",
     "evalue": "Command '['/usr/libexec/java_home']' returned non-zero exit status 1.",
     "output_type": "error",
     "traceback": [
      "\u001b[0;31m---------------------------------------------------------------------------\u001b[0m",
      "\u001b[0;31mCalledProcessError\u001b[0m                        Traceback (most recent call last)",
      "Cell \u001b[0;32mIn[12], line 3\u001b[0m\n\u001b[1;32m      1\u001b[0m \u001b[38;5;28;01mfrom\u001b[39;00m \u001b[38;5;21;01mkonlpy\u001b[39;00m\u001b[38;5;21;01m.\u001b[39;00m\u001b[38;5;21;01mtag\u001b[39;00m \u001b[38;5;28;01mimport\u001b[39;00m Okt\n\u001b[0;32m----> 3\u001b[0m okt \u001b[38;5;241m=\u001b[39m \u001b[43mOkt\u001b[49m\u001b[43m(\u001b[49m\u001b[43m)\u001b[49m\n",
      "File \u001b[0;32m/opt/homebrew/Caskroom/miniconda/base/envs/coreview/lib/python3.10/site-packages/konlpy/tag/_okt.py:51\u001b[0m, in \u001b[0;36mOkt.__init__\u001b[0;34m(self, jvmpath, max_heap_size)\u001b[0m\n\u001b[1;32m     49\u001b[0m \u001b[38;5;28;01mdef\u001b[39;00m \u001b[38;5;21m__init__\u001b[39m(\u001b[38;5;28mself\u001b[39m, jvmpath\u001b[38;5;241m=\u001b[39m\u001b[38;5;28;01mNone\u001b[39;00m, max_heap_size\u001b[38;5;241m=\u001b[39m\u001b[38;5;241m1024\u001b[39m):\n\u001b[1;32m     50\u001b[0m     \u001b[38;5;28;01mif\u001b[39;00m \u001b[38;5;129;01mnot\u001b[39;00m jpype\u001b[38;5;241m.\u001b[39misJVMStarted():\n\u001b[0;32m---> 51\u001b[0m         \u001b[43mjvm\u001b[49m\u001b[38;5;241;43m.\u001b[39;49m\u001b[43minit_jvm\u001b[49m\u001b[43m(\u001b[49m\u001b[43mjvmpath\u001b[49m\u001b[43m,\u001b[49m\u001b[43m \u001b[49m\u001b[43mmax_heap_size\u001b[49m\u001b[43m)\u001b[49m\n\u001b[1;32m     53\u001b[0m     oktJavaPackage \u001b[38;5;241m=\u001b[39m jpype\u001b[38;5;241m.\u001b[39mJPackage(\u001b[38;5;124m'\u001b[39m\u001b[38;5;124mkr.lucypark.okt\u001b[39m\u001b[38;5;124m'\u001b[39m)\n\u001b[1;32m     54\u001b[0m     OktInterfaceJavaClass \u001b[38;5;241m=\u001b[39m oktJavaPackage\u001b[38;5;241m.\u001b[39mOktInterface\n",
      "File \u001b[0;32m/opt/homebrew/Caskroom/miniconda/base/envs/coreview/lib/python3.10/site-packages/konlpy/jvm.py:55\u001b[0m, in \u001b[0;36minit_jvm\u001b[0;34m(jvmpath, max_heap_size)\u001b[0m\n\u001b[1;32m     52\u001b[0m args \u001b[38;5;241m=\u001b[39m [javadir, os\u001b[38;5;241m.\u001b[39msep]\n\u001b[1;32m     53\u001b[0m classpath \u001b[38;5;241m=\u001b[39m [f\u001b[38;5;241m.\u001b[39mformat(\u001b[38;5;241m*\u001b[39margs) \u001b[38;5;28;01mfor\u001b[39;00m f \u001b[38;5;129;01min\u001b[39;00m folder_suffix]\n\u001b[0;32m---> 55\u001b[0m jvmpath \u001b[38;5;241m=\u001b[39m jvmpath \u001b[38;5;129;01mor\u001b[39;00m \u001b[43mjpype\u001b[49m\u001b[38;5;241;43m.\u001b[39;49m\u001b[43mgetDefaultJVMPath\u001b[49m\u001b[43m(\u001b[49m\u001b[43m)\u001b[49m\n\u001b[1;32m     57\u001b[0m \u001b[38;5;66;03m# NOTE: Temporary patch for Issue #76. Erase when possible.\u001b[39;00m\n\u001b[1;32m     58\u001b[0m \u001b[38;5;28;01mif\u001b[39;00m sys\u001b[38;5;241m.\u001b[39mplatform \u001b[38;5;241m==\u001b[39m \u001b[38;5;124m'\u001b[39m\u001b[38;5;124mdarwin\u001b[39m\u001b[38;5;124m'\u001b[39m\\\n\u001b[1;32m     59\u001b[0m         \u001b[38;5;129;01mand\u001b[39;00m jvmpath\u001b[38;5;241m.\u001b[39mfind(\u001b[38;5;124m'\u001b[39m\u001b[38;5;124m1.8.0\u001b[39m\u001b[38;5;124m'\u001b[39m) \u001b[38;5;241m>\u001b[39m \u001b[38;5;241m0\u001b[39m\\\n\u001b[1;32m     60\u001b[0m         \u001b[38;5;129;01mand\u001b[39;00m jvmpath\u001b[38;5;241m.\u001b[39mendswith(\u001b[38;5;124m'\u001b[39m\u001b[38;5;124mlibjvm.dylib\u001b[39m\u001b[38;5;124m'\u001b[39m):\n",
      "File \u001b[0;32m/opt/homebrew/Caskroom/miniconda/base/envs/coreview/lib/python3.10/site-packages/jpype/_jvmfinder.py:70\u001b[0m, in \u001b[0;36mgetDefaultJVMPath\u001b[0;34m()\u001b[0m\n\u001b[1;32m     68\u001b[0m \u001b[38;5;28;01melse\u001b[39;00m:\n\u001b[1;32m     69\u001b[0m     finder \u001b[38;5;241m=\u001b[39m LinuxJVMFinder()\n\u001b[0;32m---> 70\u001b[0m \u001b[38;5;28;01mreturn\u001b[39;00m \u001b[43mfinder\u001b[49m\u001b[38;5;241;43m.\u001b[39;49m\u001b[43mget_jvm_path\u001b[49m\u001b[43m(\u001b[49m\u001b[43m)\u001b[49m\n",
      "File \u001b[0;32m/opt/homebrew/Caskroom/miniconda/base/envs/coreview/lib/python3.10/site-packages/jpype/_jvmfinder.py:184\u001b[0m, in \u001b[0;36mJVMFinder.get_jvm_path\u001b[0;34m(self)\u001b[0m\n\u001b[1;32m    182\u001b[0m \u001b[38;5;28;01mfor\u001b[39;00m method \u001b[38;5;129;01min\u001b[39;00m \u001b[38;5;28mself\u001b[39m\u001b[38;5;241m.\u001b[39m_methods:\n\u001b[1;32m    183\u001b[0m     \u001b[38;5;28;01mtry\u001b[39;00m:\n\u001b[0;32m--> 184\u001b[0m         jvm \u001b[38;5;241m=\u001b[39m \u001b[43mmethod\u001b[49m\u001b[43m(\u001b[49m\u001b[43m)\u001b[49m\n\u001b[1;32m    186\u001b[0m         \u001b[38;5;66;03m# If found check the architecture\u001b[39;00m\n\u001b[1;32m    187\u001b[0m         \u001b[38;5;28;01mif\u001b[39;00m jvm:\n",
      "File \u001b[0;32m/opt/homebrew/Caskroom/miniconda/base/envs/coreview/lib/python3.10/site-packages/jpype/_jvmfinder.py:311\u001b[0m, in \u001b[0;36mDarwinJVMFinder._javahome_binary\u001b[0;34m(self)\u001b[0m\n\u001b[1;32m    309\u001b[0m \u001b[38;5;66;03m# TODO: check if the java_home tool is still available and fix the version boundaries.\u001b[39;00m\n\u001b[1;32m    310\u001b[0m \u001b[38;5;28;01mif\u001b[39;00m Version(\u001b[38;5;124m'\u001b[39m\u001b[38;5;124m10.6\u001b[39m\u001b[38;5;124m'\u001b[39m) \u001b[38;5;241m<\u001b[39m\u001b[38;5;241m=\u001b[39m current: \u001b[38;5;66;03m#< Version('10.9'):\u001b[39;00m\n\u001b[0;32m--> 311\u001b[0m     \u001b[38;5;28;01mreturn\u001b[39;00m \u001b[43msubprocess\u001b[49m\u001b[38;5;241;43m.\u001b[39;49m\u001b[43mcheck_output\u001b[49m\u001b[43m(\u001b[49m\n\u001b[1;32m    312\u001b[0m \u001b[43m        \u001b[49m\u001b[43m[\u001b[49m\u001b[38;5;124;43m'\u001b[39;49m\u001b[38;5;124;43m/usr/libexec/java_home\u001b[39;49m\u001b[38;5;124;43m'\u001b[39;49m\u001b[43m]\u001b[49m\u001b[43m)\u001b[49m\u001b[38;5;241m.\u001b[39mstrip()\n",
      "File \u001b[0;32m/opt/homebrew/Caskroom/miniconda/base/envs/coreview/lib/python3.10/subprocess.py:421\u001b[0m, in \u001b[0;36mcheck_output\u001b[0;34m(timeout, *popenargs, **kwargs)\u001b[0m\n\u001b[1;32m    418\u001b[0m         empty \u001b[38;5;241m=\u001b[39m \u001b[38;5;124mb\u001b[39m\u001b[38;5;124m'\u001b[39m\u001b[38;5;124m'\u001b[39m\n\u001b[1;32m    419\u001b[0m     kwargs[\u001b[38;5;124m'\u001b[39m\u001b[38;5;124minput\u001b[39m\u001b[38;5;124m'\u001b[39m] \u001b[38;5;241m=\u001b[39m empty\n\u001b[0;32m--> 421\u001b[0m \u001b[38;5;28;01mreturn\u001b[39;00m \u001b[43mrun\u001b[49m\u001b[43m(\u001b[49m\u001b[38;5;241;43m*\u001b[39;49m\u001b[43mpopenargs\u001b[49m\u001b[43m,\u001b[49m\u001b[43m \u001b[49m\u001b[43mstdout\u001b[49m\u001b[38;5;241;43m=\u001b[39;49m\u001b[43mPIPE\u001b[49m\u001b[43m,\u001b[49m\u001b[43m \u001b[49m\u001b[43mtimeout\u001b[49m\u001b[38;5;241;43m=\u001b[39;49m\u001b[43mtimeout\u001b[49m\u001b[43m,\u001b[49m\u001b[43m \u001b[49m\u001b[43mcheck\u001b[49m\u001b[38;5;241;43m=\u001b[39;49m\u001b[38;5;28;43;01mTrue\u001b[39;49;00m\u001b[43m,\u001b[49m\n\u001b[1;32m    422\u001b[0m \u001b[43m           \u001b[49m\u001b[38;5;241;43m*\u001b[39;49m\u001b[38;5;241;43m*\u001b[39;49m\u001b[43mkwargs\u001b[49m\u001b[43m)\u001b[49m\u001b[38;5;241m.\u001b[39mstdout\n",
      "File \u001b[0;32m/opt/homebrew/Caskroom/miniconda/base/envs/coreview/lib/python3.10/subprocess.py:526\u001b[0m, in \u001b[0;36mrun\u001b[0;34m(input, capture_output, timeout, check, *popenargs, **kwargs)\u001b[0m\n\u001b[1;32m    524\u001b[0m     retcode \u001b[38;5;241m=\u001b[39m process\u001b[38;5;241m.\u001b[39mpoll()\n\u001b[1;32m    525\u001b[0m     \u001b[38;5;28;01mif\u001b[39;00m check \u001b[38;5;129;01mand\u001b[39;00m retcode:\n\u001b[0;32m--> 526\u001b[0m         \u001b[38;5;28;01mraise\u001b[39;00m CalledProcessError(retcode, process\u001b[38;5;241m.\u001b[39margs,\n\u001b[1;32m    527\u001b[0m                                  output\u001b[38;5;241m=\u001b[39mstdout, stderr\u001b[38;5;241m=\u001b[39mstderr)\n\u001b[1;32m    528\u001b[0m \u001b[38;5;28;01mreturn\u001b[39;00m CompletedProcess(process\u001b[38;5;241m.\u001b[39margs, retcode, stdout, stderr)\n",
      "\u001b[0;31mCalledProcessError\u001b[0m: Command '['/usr/libexec/java_home']' returned non-zero exit status 1."
     ]
    }
   ],
   "source": [
    "from konlpy.tag import Okt\n",
    "\n",
    "okt = Okt()"
   ]
  },
  {
   "cell_type": "code",
   "execution_count": 8,
   "metadata": {},
   "outputs": [
    {
     "name": "stdout",
     "output_type": "stream",
     "text": [
      "training was done. used memory 0.103 Gb 0.096 Gb\n",
      "all cohesion probabilities was computed. # words = 684\n",
      "all branching entropies was computed # words = 1469\n",
      "all accessor variety was computed # words = 1469\n"
     ]
    }
   ],
   "source": [
    "from soynlp.word import WordExtractor\n",
    "\n",
    "\n",
    "# WordExtractor를 사용하여 scores 생성\n",
    "word_extractor = WordExtractor()\n",
    "word_extractor.train(df['리뷰 내용'].tolist())\n",
    "word_scores = word_extractor.extract()\n",
    "\n",
    "# scores 사전 생성\n",
    "scores = {word: score.cohesion_forward for word, score in word_scores.items()}"
   ]
  },
  {
   "cell_type": "code",
   "execution_count": 9,
   "metadata": {},
   "outputs": [],
   "source": [
    "from soynlp.tokenizer import LTokenizer\n",
    "from soynlp.tokenizer import MaxScoreTokenizer\n",
    "\n",
    "# LTokenizer 초기화\n",
    "ltokenizer = LTokenizer(scores=scores)\n",
    "maxscore_tokenizer = MaxScoreTokenizer(scores=scores)"
   ]
  },
  {
   "cell_type": "code",
   "execution_count": 10,
   "metadata": {},
   "outputs": [],
   "source": [
    "stopwords_lst = ['등록된', '리뷰', '조금', '수', '것', '없습니다', '도움이', '정말', '살짝', '또', '너무', '잘', '같아요', '엄청',  '바로', '한', '계속', '구매', '넣고', '먹기', '있어서', '다', '넘', '저는', '그냥', '맛이', '좋아요', \n",
    "                '아주', '펜슬', '좀', '좋고', '진짜', '완전', '있는', '때', '프로타주', '이', '좋아하는', '더', '좋은', '있습니다', '입니다', \n",
    "                '같아요', '있어', '좋은', '같습니다', '좋네요', '입니다', '있어요', '괜찮', '아니', '그런',\n",
    "                '같아', '좋습니다', '좋을', '있는데', '없어', '아니라', '좋은', '같은', '없는', '어요', '좋아', '좋앗', '입니', '있고', '없고',\n",
    "                '좋았', '좋습니', '생각',  '있을', '있습니', '있었', '아닌', '같습니', '습니', '니다', '정도']"
   ]
  },
  {
   "cell_type": "code",
   "execution_count": 11,
   "metadata": {},
   "outputs": [],
   "source": [
    "# sys.path.append(os.path.dirname('PyKoSpacing/'))\n",
    "\n",
    "# spacing = Spacing()  # Spacing 객체 초기화\n",
    "# pip install git+https://github.com/haven-jeon/PyKoSpacing.git\n",
    "\n",
    "\n",
    "def preprocessing(df, review_column, istokenize=True, pos_tags=None, filter=None):\n",
    "    \"\"\"\n",
    "    리뷰 데이터 전처리 함수.\n",
    "    \n",
    "    Args:\n",
    "        df (pd.DataFrame): 입력 데이터프레임.\n",
    "        review_column (str): 리뷰 내용이 있는 열의 이름.\n",
    "        pos_tags (list[str]): 추출할 품사 태그 리스트 (예: ['Noun', 'Adjective']).\n",
    "        istokenize (bool): True일 경우 토큰화 사용, False일 경우 원문을 그대로 처리.\n",
    "        filter (str): 제거할 단어 리스트 (옵션).\n",
    "\n",
    "    Returns:\n",
    "        pd.DataFrame: 전처리된 결과를 추가한 데이터프레임.\n",
    "    \"\"\"\n",
    "    #spaceing 객체 정의 및 초기화\n",
    "    # spacing = Spacing()\n",
    "    processed_reviews  = []\n",
    "    #인풋리뷰\n",
    "    for idx, r in enumerate(df[review_column]):\n",
    "        #하나의 리뷰에서 문장 단위로 자르기\n",
    "        #불필요한 정보제거 name의 각 단어를 review에서 제거 \n",
    "        # 이름이 주어졌을 경우에만 이름 정보 제거\n",
    "        sentence = r\n",
    "\n",
    "        # #spacing 적용 \n",
    "        # sentence = sentence.replace(\" \", '')\n",
    "        \n",
    "        # sentence = spacing(sentence) \n",
    "\n",
    "        #특수문자, 영어 알파벳, 초성/중성/종성(예: \"ㄱ\", \"ㅏ\" 등)을 제거.\n",
    "        sentence = re.sub('\\n','',sentence)\n",
    "        sentence = re.sub('\\u200b','',sentence)\n",
    "        sentence = re.sub('\\xa0','',sentence)\n",
    "        sentence = re.sub('([a-zA-Z])','',sentence)\n",
    "        sentence = re.sub('[ㄱ-ㅎㅏ-ㅣ]+','',sentence)\n",
    "        sentence = re.sub('[-=+,#/\\?:^$.@*\\\"※~&%ㆍ!』\\\\‘|\\(\\)\\[\\]\\<\\>`\\'…》]','',sentence)\n",
    "        sentence = re.sub(r'\\s+', ' ', sentence)  # 다중 공백 -> 단일 공백\n",
    "        sentence = re.sub(r'[^\\w\\s]', '', sentence)  # 특수문자 제거\n",
    "        sentence = re.sub(r'\\d+', '', sentence)  # 숫자 제거\n",
    "        #전처리 후 문장이 비어있으면 다음 리뷰로 넘어감 \n",
    "        if len(sentence) == 0:\n",
    "            continue\n",
    "        \n",
    "        # 토큰화 여부 확인\n",
    "        if istokenize:\n",
    "            tokens = ltokenizer.tokenize(sentence)  # LTokenizer를 이용한 토큰화\n",
    "        else:\n",
    "            tokens = [sentence]  # 토큰화하지 않고 원문 사용\n",
    "        \n",
    "        # 불용어 필터링\n",
    "        if filter:\n",
    "            tokens = [token for token in tokens if token not in filter]\n",
    "        # 품사 필터링\n",
    "        if pos_tags:\n",
    "            filtered_tokens = []\n",
    "            for token in tokens:\n",
    "                pos = okt.pos(token, norm=True, stem=False)  # 품사 태깅\n",
    "                filtered_tokens += [word for word, tag in pos if tag in pos_tags]\n",
    "\n",
    "        else:\n",
    "            filtered_tokens = []\n",
    "            for token in tokens:\n",
    "                pos = okt.pos(token, norm=True, stem=False)  # 품사 태깅\n",
    "                filtered_tokens += [word for word, tag in pos]\n",
    "\n",
    "\n",
    "        # 길이가 1인 단어 제거\n",
    "        filtered_tokens = [token for token in filtered_tokens if len(token) > 1]\n",
    "\n",
    "        # 토큰을 공백으로 연결하고 마침표 추가\n",
    "        processed_sentence = ' '.join(filtered_tokens)\n",
    "        processed_reviews.append(processed_sentence)\n",
    "        \n",
    "    return pd.Series(processed_reviews)  # 시리즈 형태로 반환"
   ]
  }
 ],
 "metadata": {
  "kernelspec": {
   "display_name": "coreview",
   "language": "python",
   "name": "python3"
  },
  "language_info": {
   "codemirror_mode": {
    "name": "ipython",
    "version": 3
   },
   "file_extension": ".py",
   "mimetype": "text/x-python",
   "name": "python",
   "nbconvert_exporter": "python",
   "pygments_lexer": "ipython3",
   "version": "3.10.15"
  }
 },
 "nbformat": 4,
 "nbformat_minor": 2
}
